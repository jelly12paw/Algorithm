{
  "nbformat": 4,
  "nbformat_minor": 0,
  "metadata": {
    "colab": {
      "name": "Python_기초100제_6084_~_6098.ipynb",
      "provenance": [],
      "authorship_tag": "ABX9TyNsLJV8N37brQu43pdkWvaY",
      "include_colab_link": true
    },
    "kernelspec": {
      "name": "python3",
      "display_name": "Python 3"
    },
    "language_info": {
      "name": "python"
    }
  },
  "cells": [
    {
      "cell_type": "markdown",
      "metadata": {
        "id": "view-in-github",
        "colab_type": "text"
      },
      "source": [
        "<a href=\"https://colab.research.google.com/github/jelly12paw/Algorithm/blob/main/CodeUp/Python_%EA%B8%B0%EC%B4%88100%EC%A0%9C_6084_~_6098.ipynb\" target=\"_parent\"><img src=\"https://colab.research.google.com/assets/colab-badge.svg\" alt=\"Open In Colab\"/></a>"
      ]
    },
    {
      "cell_type": "markdown",
      "source": [
        "# CodeUp Python 기초 100제"
      ],
      "metadata": {
        "id": "jHEDsd_nE5H3"
      }
    },
    {
      "cell_type": "markdown",
      "source": [
        "## 6084번 ~ 6098번 문제풀이"
      ],
      "metadata": {
        "id": "XL7HixHiE6cK"
      }
    },
    {
      "cell_type": "code",
      "execution_count": 1,
      "metadata": {
        "colab": {
          "base_uri": "https://localhost:8080/"
        },
        "id": "gtkKjq3zEhqo",
        "outputId": "5e4f897a-01ad-4f6a-cccb-42131e77f305"
      },
      "outputs": [
        {
          "output_type": "stream",
          "name": "stdout",
          "text": [
            "44100 16 2 10\n",
            "1.7 MB\n"
          ]
        }
      ],
      "source": [
        "# 6084번\n",
        "# h, b, c, s 가 공백을 두고 입력, h는 48,000이하, b는 32이하(단, 8의배수), c는 5이하, s는 6,000이하의 자연수\n",
        "# 필요한 저장 공간을 MB 단위로 바꾸어 출력하기\n",
        "\n",
        "h, b, c, s = map(int, input().split())\n",
        "\n",
        "print(round(h * b * c * s / 8 / 1024 / 1024, 1), 'MB')"
      ]
    },
    {
      "cell_type": "code",
      "source": [
        "# 6085번\n",
        "# w, h, b 가 공백을 두고 입력, 단, w, h는 모두 정수이고 1~1024 이다. b는 40이하의 4의 배수\n",
        "# 필요한 저장 공간을 MB 단위로 바꾸어 출력하기\n",
        "\n",
        "w, h, b = map(int, input().split())\n",
        "\n",
        "image = w * h * b / 8 / 1024 / 1024\n",
        "\n",
        "print('%.2f' %image, 'MB')"
      ],
      "metadata": {
        "colab": {
          "base_uri": "https://localhost:8080/"
        },
        "id": "_PCvEOMeGJCq",
        "outputId": "a355a6b9-08d9-4c40-9225-ca4285e1163a"
      },
      "execution_count": 3,
      "outputs": [
        {
          "output_type": "stream",
          "name": "stdout",
          "text": [
            "1024 768 24\n",
            "2.25 MB\n"
          ]
        }
      ]
    },
    {
      "cell_type": "code",
      "source": [
        "# 6086번\n",
        "# 1, 2, 3 ... 을 순서대로 계속 더해 합을 만드는데, 그 합이 입력한 정수보다 작을 동안만 계속 더하는 프로그램을 작성하기\n",
        "\n",
        "a = int(input())\n",
        "b = 0\n",
        "sum = 0\n",
        "\n",
        "while True :\n",
        "  b += 1\n",
        "  sum += b\n",
        "\n",
        "  if sum >= a :\n",
        "    break\n",
        "  \n",
        "print(sum)"
      ],
      "metadata": {
        "colab": {
          "base_uri": "https://localhost:8080/"
        },
        "id": "cUFiuX9dHJX6",
        "outputId": "8dbea66b-7b14-4d60-c795-55b613e3790a"
      },
      "execution_count": 9,
      "outputs": [
        {
          "output_type": "stream",
          "name": "stdout",
          "text": [
            "57\n",
            "66\n"
          ]
        }
      ]
    },
    {
      "cell_type": "code",
      "source": [
        "# 6087번\n",
        "# 1부터 입력한 정수까지 1씩 증가시켜 출력하는 프로그램을 작성하되, 3의 배수인 경우는 출력하지 않기\n",
        "\n",
        "a = int(input())\n",
        "\n",
        "for i in range(1, a + 1) :\n",
        "  if i % 3 == 0 :\n",
        "    \n",
        "    continue\n",
        "\n",
        "  print(i, end=' ')"
      ],
      "metadata": {
        "colab": {
          "base_uri": "https://localhost:8080/"
        },
        "id": "-ZHSzuteJbhQ",
        "outputId": "ab8da413-024c-4840-e920-bec20881ff35"
      },
      "execution_count": 10,
      "outputs": [
        {
          "output_type": "stream",
          "name": "stdout",
          "text": [
            "10\n",
            "1 2 4 5 7 8 10 "
          ]
        }
      ]
    },
    {
      "cell_type": "code",
      "source": [
        "# 6088번\n",
        "# 시작 값(a), 등차(d), 몇 번째인지를 나타내는 정수(n)가 입력될 때 n번째 수를 출력하기\n",
        "\n",
        "a, d, n = map(int, input().split())\n",
        "\n",
        "result = a + (d * (n - 1))\n",
        "\n",
        "print(result)"
      ],
      "metadata": {
        "colab": {
          "base_uri": "https://localhost:8080/"
        },
        "id": "XDeRjQxaLsVz",
        "outputId": "e1d3f875-f507-4799-88e8-8bc7c8baddaf"
      },
      "execution_count": 13,
      "outputs": [
        {
          "output_type": "stream",
          "name": "stdout",
          "text": [
            "1 3 5\n",
            "13\n"
          ]
        }
      ]
    },
    {
      "cell_type": "code",
      "source": [
        "# 6089번\n",
        "# 시작 값(a), 등비(r), 몇 번째인지를 나타내는 정수(n)가 입력될 때 n번째 수를 출력하기\n",
        "\n",
        "a, r, n = map(int, input().split())\n",
        "\n",
        "result = (a * (r ** (n - 1)))\n",
        "\n",
        "print(result)"
      ],
      "metadata": {
        "colab": {
          "base_uri": "https://localhost:8080/"
        },
        "id": "OrNtH9mbU0Ba",
        "outputId": "4abe4570-034a-46a9-c5d4-8412def9ba0d"
      },
      "execution_count": 21,
      "outputs": [
        {
          "output_type": "stream",
          "name": "stdout",
          "text": [
            "2 3 7\n",
            "1458\n"
          ]
        }
      ]
    },
    {
      "cell_type": "code",
      "source": [
        "# 6090번\n",
        "# 시작 값(a), 곱할 값(m), 더할 값(d), 몇 번째인지를 나타내는 정수(n)가 입력될 때, n번째 수를 출력하기\n",
        "\n",
        "a, m, d, n = map(int, input().split())\n",
        "\n",
        "for i in range(1, n) :\n",
        "  \n",
        "  a = a * m + d\n",
        "\n",
        "print(a)"
      ],
      "metadata": {
        "colab": {
          "base_uri": "https://localhost:8080/"
        },
        "id": "u1W4puOWXB9_",
        "outputId": "45f69f3f-a9f0-4641-851b-03312def18cf"
      },
      "execution_count": 3,
      "outputs": [
        {
          "output_type": "stream",
          "name": "stdout",
          "text": [
            "1 -2 1 8\n",
            "-85\n"
          ]
        }
      ]
    },
    {
      "cell_type": "code",
      "source": [
        "# 6091번\n",
        "# 같은 날 동시에 가입한 인원 3명이 규칙적으로 방문하는, 방문 주기가 공백을 두고 입력하기\n",
        "\n",
        "a, b, c = map(int, input().split())\n",
        "\n",
        "d = 1\n",
        "while d % a != 0 or d % b != 0 or d % c != 0 :\n",
        "  d += 1\n",
        "  \n",
        "print(d)"
      ],
      "metadata": {
        "colab": {
          "base_uri": "https://localhost:8080/"
        },
        "id": "rQfLYOGtaYKj",
        "outputId": "2005c65a-1132-48ff-fcdb-db5c1e7597a2"
      },
      "execution_count": 11,
      "outputs": [
        {
          "output_type": "stream",
          "name": "stdout",
          "text": [
            "3 7 9\n",
            "63\n"
          ]
        }
      ]
    },
    {
      "cell_type": "code",
      "source": [
        "# 6092번\n",
        "# 첫 번째 줄에 출석 번호를 부른 횟수인 정수 n이 입력된다. (1 ~ 10000)\n",
        "# 두 번째 줄에는 무작위로 부른 n개의 번호(1 ~ 23)가 공백을 두고 순서대로 입력\n",
        "\n",
        "n = int(input())\n",
        "a = list(map(int, input().split()))\n",
        "d = []\n",
        "\n",
        "for i in range(24) : \n",
        "  d.append(0)\n",
        "\n",
        "for i in range(n) : \n",
        "  d[a[i]] += 1\n",
        "\n",
        "for i in range(1, 24) : \n",
        "  print(d[i], end=' ')"
      ],
      "metadata": {
        "colab": {
          "base_uri": "https://localhost:8080/"
        },
        "id": "vxQfUBEJkMcS",
        "outputId": "d467a28c-62cc-47e0-a1b9-913bf1eb2293"
      },
      "execution_count": 19,
      "outputs": [
        {
          "output_type": "stream",
          "name": "stdout",
          "text": [
            "10\n",
            "1 3 2 2 5 6 7 4 5 9\n",
            "1 2 1 1 2 1 1 0 1 0 0 0 0 0 0 0 0 0 0 0 0 0 0 "
          ]
        }
      ]
    },
    {
      "cell_type": "code",
      "source": [
        "# 6093번\n",
        "# 출석 번호를 n번 무작위로 불렀을 때, 부른 번호를 거꾸로 출력하기\n",
        "\n",
        "n = int(input())\n",
        "a = list(map(int, input().split()))\n",
        "\n",
        "for i in range(n - 1, -1, -1) :\n",
        "  \n",
        "  print(a[i], end=' ')"
      ],
      "metadata": {
        "colab": {
          "base_uri": "https://localhost:8080/"
        },
        "id": "eWA1k5v1lAaK",
        "outputId": "935fc70b-508d-47df-fd03-af8957a66bdd"
      },
      "execution_count": 22,
      "outputs": [
        {
          "output_type": "stream",
          "name": "stdout",
          "text": [
            "10\n",
            "10 4 2 3 6 6 7 9 8 5\n",
            "5 8 9 7 6 6 3 2 4 10 "
          ]
        }
      ]
    },
    {
      "cell_type": "code",
      "source": [
        "# 6094번\n",
        "# 출석 번호를 n번 무작위로 불렀을 때, 가장 빠른 번호를 출력하기\n",
        "\n",
        "n = int(input())\n",
        "a = list(map(int, input().split()))\n",
        "\n",
        "small_num = sorted(a)\n",
        "\n",
        "print(small_num[0])"
      ],
      "metadata": {
        "colab": {
          "base_uri": "https://localhost:8080/"
        },
        "id": "j0OezkKKooib",
        "outputId": "0d9e0ba2-9f40-4335-b95d-99ea737d19c3"
      },
      "execution_count": 24,
      "outputs": [
        {
          "output_type": "stream",
          "name": "stdout",
          "text": [
            "10\n",
            "10 4 2 3 6 6 7 9 8 5\n",
            "2\n"
          ]
        }
      ]
    },
    {
      "cell_type": "code",
      "source": [
        "# 6095번\n",
        "# 바둑판(19 * 19)에 n개의 흰 돌을 놓는다고 할 때, n개의 흰 돌이 놓인 위치를 출력하기\n",
        "\n",
        "d = []\n",
        "\n",
        "for i in range(20) :\n",
        "  d.append([])\n",
        "\n",
        "  for j in range(20) :\n",
        "    d[i].append(0)\n",
        "\n",
        "n = int(input())\n",
        "\n",
        "for i in range(n) :\n",
        "  a, b = input().split()\n",
        "  d[int(a)][int(b)] = 1\n",
        "\n",
        "for i in range(1, 20) :\n",
        "  for j in range(1, 20) :\n",
        "\n",
        "    print(d[i][j], end=' ')\n",
        "  print()"
      ],
      "metadata": {
        "colab": {
          "base_uri": "https://localhost:8080/"
        },
        "id": "9dxUVByKr6Fd",
        "outputId": "43a58bd1-a125-4258-f56f-1db27bb95f67"
      },
      "execution_count": 26,
      "outputs": [
        {
          "output_type": "stream",
          "name": "stdout",
          "text": [
            "5\n",
            "1 1\n",
            "2 2\n",
            "3 3\n",
            "4 4\n",
            "5 5\n",
            "1 0 0 0 0 0 0 0 0 0 0 0 0 0 0 0 0 0 0 \n",
            "0 1 0 0 0 0 0 0 0 0 0 0 0 0 0 0 0 0 0 \n",
            "0 0 1 0 0 0 0 0 0 0 0 0 0 0 0 0 0 0 0 \n",
            "0 0 0 1 0 0 0 0 0 0 0 0 0 0 0 0 0 0 0 \n",
            "0 0 0 0 1 0 0 0 0 0 0 0 0 0 0 0 0 0 0 \n",
            "0 0 0 0 0 0 0 0 0 0 0 0 0 0 0 0 0 0 0 \n",
            "0 0 0 0 0 0 0 0 0 0 0 0 0 0 0 0 0 0 0 \n",
            "0 0 0 0 0 0 0 0 0 0 0 0 0 0 0 0 0 0 0 \n",
            "0 0 0 0 0 0 0 0 0 0 0 0 0 0 0 0 0 0 0 \n",
            "0 0 0 0 0 0 0 0 0 0 0 0 0 0 0 0 0 0 0 \n",
            "0 0 0 0 0 0 0 0 0 0 0 0 0 0 0 0 0 0 0 \n",
            "0 0 0 0 0 0 0 0 0 0 0 0 0 0 0 0 0 0 0 \n",
            "0 0 0 0 0 0 0 0 0 0 0 0 0 0 0 0 0 0 0 \n",
            "0 0 0 0 0 0 0 0 0 0 0 0 0 0 0 0 0 0 0 \n",
            "0 0 0 0 0 0 0 0 0 0 0 0 0 0 0 0 0 0 0 \n",
            "0 0 0 0 0 0 0 0 0 0 0 0 0 0 0 0 0 0 0 \n",
            "0 0 0 0 0 0 0 0 0 0 0 0 0 0 0 0 0 0 0 \n",
            "0 0 0 0 0 0 0 0 0 0 0 0 0 0 0 0 0 0 0 \n",
            "0 0 0 0 0 0 0 0 0 0 0 0 0 0 0 0 0 0 0 \n"
          ]
        }
      ]
    },
    {
      "cell_type": "code",
      "source": [
        "# 6096번\n",
        "# 바둑판(19 * 19)에 흰 돌(1) 또는 검정 돌(0)이 모두 꽉 채워져 놓여있을 때,\n",
        "# n개의 좌표를 입력받아 십(+)자 뒤집기한 결과를 출력하기\n",
        "\n",
        "d = []\n",
        "\n",
        "for i in range(20) :\n",
        "  d.append([])\n",
        "\n",
        "  for j in range(20) :\n",
        "    d[i].append(0)\n",
        "\n",
        "n = int(input())\n",
        "\n",
        "for i in range(n) :\n",
        "\n",
        "    x, y = map(int, input().split())\n",
        "    x -= 1\n",
        "    y -= 1\n",
        "  \n",
        "    for j in range(20) :\n",
        "       \n",
        "        if d[j][y] == 0 :\n",
        "            d[j][y] = 1\n",
        "      \n",
        "        else:\n",
        "            d[j][y] = 0\n",
        "\n",
        "        if d[x][j] == 0 :\n",
        "            d[x][j] = 1\n",
        "      \n",
        "        else:\n",
        "            d[x][j] = 0\n",
        "\n",
        "for i in range(20) :\n",
        "  print(*d[i])"
      ],
      "metadata": {
        "colab": {
          "base_uri": "https://localhost:8080/"
        },
        "id": "KNzQQvADtVbr",
        "outputId": "80ebbd10-55e1-48fa-cfdc-350e9e809ec0"
      },
      "execution_count": 33,
      "outputs": [
        {
          "output_type": "stream",
          "name": "stdout",
          "text": [
            "2\n",
            "10 10\n",
            "12 12\n",
            "0 0 0 0 0 0 0 0 0 1 0 1 0 0 0 0 0 0 0 0\n",
            "0 0 0 0 0 0 0 0 0 1 0 1 0 0 0 0 0 0 0 0\n",
            "0 0 0 0 0 0 0 0 0 1 0 1 0 0 0 0 0 0 0 0\n",
            "0 0 0 0 0 0 0 0 0 1 0 1 0 0 0 0 0 0 0 0\n",
            "0 0 0 0 0 0 0 0 0 1 0 1 0 0 0 0 0 0 0 0\n",
            "0 0 0 0 0 0 0 0 0 1 0 1 0 0 0 0 0 0 0 0\n",
            "0 0 0 0 0 0 0 0 0 1 0 1 0 0 0 0 0 0 0 0\n",
            "0 0 0 0 0 0 0 0 0 1 0 1 0 0 0 0 0 0 0 0\n",
            "0 0 0 0 0 0 0 0 0 1 0 1 0 0 0 0 0 0 0 0\n",
            "1 1 1 1 1 1 1 1 1 0 1 0 1 1 1 1 1 1 1 1\n",
            "0 0 0 0 0 0 0 0 0 1 0 1 0 0 0 0 0 0 0 0\n",
            "1 1 1 1 1 1 1 1 1 0 1 0 1 1 1 1 1 1 1 1\n",
            "0 0 0 0 0 0 0 0 0 1 0 1 0 0 0 0 0 0 0 0\n",
            "0 0 0 0 0 0 0 0 0 1 0 1 0 0 0 0 0 0 0 0\n",
            "0 0 0 0 0 0 0 0 0 1 0 1 0 0 0 0 0 0 0 0\n",
            "0 0 0 0 0 0 0 0 0 1 0 1 0 0 0 0 0 0 0 0\n",
            "0 0 0 0 0 0 0 0 0 1 0 1 0 0 0 0 0 0 0 0\n",
            "0 0 0 0 0 0 0 0 0 1 0 1 0 0 0 0 0 0 0 0\n",
            "0 0 0 0 0 0 0 0 0 1 0 1 0 0 0 0 0 0 0 0\n",
            "0 0 0 0 0 0 0 0 0 1 0 1 0 0 0 0 0 0 0 0\n"
          ]
        }
      ]
    },
    {
      "cell_type": "code",
      "source": [
        "# 6097번\n",
        "# 격자판의 세로(h), 가로(w), 막대의 개수(n), 각 막대의 길이(l), 막대를 놓는 방향(d:가로는 0, 세로는 1)과\n",
        "# 막대를 놓는 막대의 가장 왼쪽 또는 위쪽의 위치(x, y)가 주어질 때, 격자판을 채운 막대의 모양을 출력하기\n",
        "\n",
        "h, w = map(int, input().split())\n",
        "\n",
        "m = []\n",
        "for i in range(h + 1) :\n",
        "  m.append([])\n",
        "\n",
        "  for j in range(w + 1) :\n",
        "    m[i].append(0)\n",
        "\n",
        "n = int(input())\n",
        "\n",
        "for i in range(n) :\n",
        "  l, d, x, y = input().split()\n",
        "\n",
        "  if int(d) == 0 :\n",
        "    for j in range(int(l)) :\n",
        "      m[int(x)][int(y) + j] = 1\n",
        "\n",
        "  else :\n",
        "    for j in range(int(l)) :\n",
        "      m[int(x) + j][int(y)] = 1\n",
        "\n",
        "for i in range(1, h + 1) :\n",
        "  for j in range(1, w + 1) :\n",
        "    print(m[i][j], end=' ')\n",
        "\n",
        "  print()"
      ],
      "metadata": {
        "colab": {
          "base_uri": "https://localhost:8080/"
        },
        "id": "UkDCijAMxHpx",
        "outputId": "d53ba576-3487-40ee-a434-2416a7e07738"
      },
      "execution_count": 36,
      "outputs": [
        {
          "output_type": "stream",
          "name": "stdout",
          "text": [
            "5 5\n",
            "3\n",
            "2 0 1 1\n",
            "3 1 2 3\n",
            "4 1 2 5\n",
            "1 1 0 0 0 \n",
            "0 0 1 0 1 \n",
            "0 0 1 0 1 \n",
            "0 0 1 0 1 \n",
            "0 0 0 0 1 \n"
          ]
        }
      ]
    },
    {
      "cell_type": "code",
      "source": [
        "# 6098번\n",
        "# 미로 상자의 구조가 0(갈 수 있는 곳), 1(벽 또는 장애물)로 주어지고,\n",
        "# 먹이가 2로 주어질 때, 성실한 개미의 이동 경로를 예상하기\n",
        "\n",
        "m = []\n",
        "\n",
        "for i in range(12) :\n",
        "  m.append([])\n",
        "\n",
        "  for j in range(12) :\n",
        "    m[i].append(0)\n",
        "\n",
        "for i in range(10) :\n",
        "  a = input().split()\n",
        "\n",
        "  for j in range(10) :\n",
        "    m[i+1][j+1] = int(a[j])\n",
        "\n",
        "x = 2\n",
        "y = 2\n",
        "\n",
        "while True :\n",
        "  if m[x][y] == 0 : \n",
        "    m[x][y] = 9 \n",
        "\n",
        "  elif m[x][y] == 2 : \n",
        "    m[x][y] = 9\n",
        "    break\n",
        "\n",
        "  if (m[x][y+1]==1 and m[x+1][y]==1) or (x==9 and y==9) : \n",
        "    break\n",
        "\n",
        "  if m[x][y+1] != 1 :\n",
        "    y += 1\n",
        "  \n",
        "  elif m[x+1][y] != 1 :\n",
        "    x += 1\n",
        "\n",
        "for i in range(1, 11) :\n",
        "\n",
        "  for j in range(1, 11) :\n",
        "    print(m[i][j], end=' ')\n",
        "\n",
        "print()"
      ],
      "metadata": {
        "colab": {
          "base_uri": "https://localhost:8080/"
        },
        "id": "32p-6iZx4x7y",
        "outputId": "f37960d3-111b-49a5-cda2-23d495d89062"
      },
      "execution_count": 38,
      "outputs": [
        {
          "output_type": "stream",
          "name": "stdout",
          "text": [
            "1 1 1 1 1 1 1 1 1 1\n",
            "1 0 0 1 1 1 0 0 0 1\n",
            "1 0 0 0 0 0 0 1 0 1\n",
            "1 0 0 0 0 0 0 1 0 1\n",
            "1 0 0 0 0 1 0 1 0 1\n",
            "1 0 0 0 0 1 2 1 0 1\n",
            "1 0 0 0 0 1 0 0 0 1\n",
            "1 0 0 0 0 0 0 0 0 1\n",
            "1 1 1 1 1 1 1 1 1 1\n",
            "1 1 1 1 1 1 1 1 1 1\n",
            "1 1 1 1 1 1 1 1 1 1 1 9 9 1 1 1 0 0 0 1 1 0 9 9 9 9 9 1 0 1 1 0 0 0 0 0 9 1 0 1 1 0 0 0 0 1 9 1 0 1 1 0 0 0 0 1 9 1 0 1 1 0 0 0 0 1 0 0 0 1 1 0 0 0 0 0 0 0 0 1 1 1 1 1 1 1 1 1 1 1 1 1 1 1 1 1 1 1 1 1 \n"
          ]
        }
      ]
    }
  ]
}