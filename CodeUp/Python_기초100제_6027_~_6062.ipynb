{
  "nbformat": 4,
  "nbformat_minor": 0,
  "metadata": {
    "colab": {
      "name": "Python_기초100제_6027 ~ 6062.ipynb",
      "provenance": [],
      "authorship_tag": "ABX9TyM6GyV8RP4iszARivjc5Puy",
      "include_colab_link": true
    },
    "kernelspec": {
      "name": "python3",
      "display_name": "Python 3"
    },
    "language_info": {
      "name": "python"
    }
  },
  "cells": [
    {
      "cell_type": "markdown",
      "metadata": {
        "id": "view-in-github",
        "colab_type": "text"
      },
      "source": [
        "<a href=\"https://colab.research.google.com/github/jelly12paw/Algorithm/blob/main/CodeUp/Python_%EA%B8%B0%EC%B4%88100%EC%A0%9C_6027_~_6062.ipynb\" target=\"_parent\"><img src=\"https://colab.research.google.com/assets/colab-badge.svg\" alt=\"Open In Colab\"/></a>"
      ]
    },
    {
      "cell_type": "markdown",
      "source": [
        "# CodeUp Python 기초 100제\n",
        "## 6027번 ~ 6062번 문제풀이"
      ],
      "metadata": {
        "id": "Sr5sn-4x47LW"
      }
    },
    {
      "cell_type": "code",
      "execution_count": 1,
      "metadata": {
        "colab": {
          "base_uri": "https://localhost:8080/"
        },
        "id": "YrR7UhZ44oJK",
        "outputId": "c25926a8-92f6-49b3-b149-aa8805de5ea2"
      },
      "outputs": [
        {
          "output_type": "stream",
          "name": "stdout",
          "text": [
            "55\n",
            "37\n"
          ]
        }
      ],
      "source": [
        "# 6027번\n",
        "# 10진수를 입력받아 16진수(hexadecimal)로 출력하기(소문자)\n",
        "\n",
        "a = int(input())\n",
        "\n",
        "print('%x'%a)"
      ]
    },
    {
      "cell_type": "code",
      "source": [
        "# 6028번\n",
        "# 10진수를 입력받아 16진수(hexadecimal)로 출력하기(대문자)\n",
        "\n",
        "a = int(input())\n",
        "\n",
        "print('%X'%a)"
      ],
      "metadata": {
        "colab": {
          "base_uri": "https://localhost:8080/"
        },
        "id": "yzN8Ci6p58HI",
        "outputId": "49cb0b58-42f4-48e2-a11d-30b2e6b08406"
      },
      "execution_count": 2,
      "outputs": [
        {
          "output_type": "stream",
          "name": "stdout",
          "text": [
            "55\n",
            "37\n"
          ]
        }
      ]
    },
    {
      "cell_type": "code",
      "source": [
        "# 6029번\n",
        "# 16진수를 입력받아 8진수(octal)로 출력하기\n",
        "\n",
        "a = int(input(), 16)\n",
        "\n",
        "print('%o' % a)"
      ],
      "metadata": {
        "colab": {
          "base_uri": "https://localhost:8080/"
        },
        "id": "wnJG8i4Z6uis",
        "outputId": "d1d56dcc-8517-44a6-e34e-bee0342829b7"
      },
      "execution_count": 3,
      "outputs": [
        {
          "output_type": "stream",
          "name": "stdout",
          "text": [
            "f\n",
            "17\n"
          ]
        }
      ]
    },
    {
      "cell_type": "code",
      "source": [
        "# 6030번\n",
        "# 영문자 1개를 입력받아 10진수 유니코드(Unicode) 값으로 출력하기\n",
        "\n",
        "n = ord(input())\n",
        "\n",
        "print(n)"
      ],
      "metadata": {
        "colab": {
          "base_uri": "https://localhost:8080/"
        },
        "id": "-hiKkX0l7TBH",
        "outputId": "8fc507c3-7d3b-471a-ebc4-5c7293fe7408"
      },
      "execution_count": 5,
      "outputs": [
        {
          "output_type": "stream",
          "name": "stdout",
          "text": [
            "A\n",
            "65\n"
          ]
        }
      ]
    },
    {
      "cell_type": "code",
      "source": [
        "# 6031번\n",
        "# 10진 정수 1개를 입력받아 유니코드 문자로 출력하기\n",
        "\n",
        "c = int(input())\n",
        "\n",
        "print(chr(c))"
      ],
      "metadata": {
        "colab": {
          "base_uri": "https://localhost:8080/"
        },
        "id": "2gudhgHF7kU8",
        "outputId": "3e565858-5983-45a6-a50a-8a5d5f17b119"
      },
      "execution_count": 6,
      "outputs": [
        {
          "output_type": "stream",
          "name": "stdout",
          "text": [
            "65\n",
            "A\n"
          ]
        }
      ]
    },
    {
      "cell_type": "code",
      "source": [
        "# 6032번\n",
        "# 입력된 정수의 부호를 바꿔 출력하기\n",
        "\n",
        "a = int(input())\n",
        "\n",
        "print(-a)"
      ],
      "metadata": {
        "colab": {
          "base_uri": "https://localhost:8080/"
        },
        "id": "5w5FXTMx76hY",
        "outputId": "bbbcfbb6-17c8-4d83-a085-1ef18f7e642c"
      },
      "execution_count": 7,
      "outputs": [
        {
          "output_type": "stream",
          "name": "stdout",
          "text": [
            "-1\n",
            "1\n"
          ]
        }
      ]
    },
    {
      "cell_type": "code",
      "source": [
        "# 6033번\n",
        "# 문자 1개를 입력받아 그 다음 문자를 출력하기\n",
        "\n",
        "a = ord(input())\n",
        "\n",
        "print(chr(a + 1))"
      ],
      "metadata": {
        "colab": {
          "base_uri": "https://localhost:8080/"
        },
        "id": "InHMHA0_8XN8",
        "outputId": "001b1ee2-baec-4e05-f9af-9a2ea8cc9f15"
      },
      "execution_count": 8,
      "outputs": [
        {
          "output_type": "stream",
          "name": "stdout",
          "text": [
            "a\n",
            "b\n"
          ]
        }
      ]
    },
    {
      "cell_type": "code",
      "source": [
        "# 6034번\n",
        "# 정수 2개(a, b)를 입력받아 a에서 b를 뺀 차를 출력하기\n",
        "\n",
        "a, b = map(int, input().split())\n",
        "\n",
        "print(a - b)"
      ],
      "metadata": {
        "colab": {
          "base_uri": "https://localhost:8080/"
        },
        "id": "_4mBVRuv9PDC",
        "outputId": "f4e4b384-273a-4519-bbb9-10953756de57"
      },
      "execution_count": 9,
      "outputs": [
        {
          "output_type": "stream",
          "name": "stdout",
          "text": [
            "123 -123\n",
            "246\n"
          ]
        }
      ]
    },
    {
      "cell_type": "code",
      "source": [
        "# 6035번\n",
        "# 실수 2개(f1, f2)를 입력받아 곱을 출력하기\n",
        "\n",
        "a, b = map(float, input().split())\n",
        "\n",
        "print(a * b)"
      ],
      "metadata": {
        "colab": {
          "base_uri": "https://localhost:8080/"
        },
        "id": "N84L9g9L-Dnl",
        "outputId": "9ea64fa2-7c35-4c56-8854-e339962b079e"
      },
      "execution_count": 10,
      "outputs": [
        {
          "output_type": "stream",
          "name": "stdout",
          "text": [
            "0.5 2.0\n",
            "1.0\n"
          ]
        }
      ]
    },
    {
      "cell_type": "code",
      "source": [
        "# 6036번\n",
        "# 단어와 반복 횟수를 입력받아 여러 번 출력하기\n",
        "\n",
        "a, b = input().split()\n",
        "\n",
        "print(a * int(b))"
      ],
      "metadata": {
        "colab": {
          "base_uri": "https://localhost:8080/"
        },
        "id": "73YliY6W-X6W",
        "outputId": "d0b19ade-c7bd-4cd9-e96f-c197a9aeed09"
      },
      "execution_count": 11,
      "outputs": [
        {
          "output_type": "stream",
          "name": "stdout",
          "text": [
            "love 3\n",
            "lovelovelove\n"
          ]
        }
      ]
    },
    {
      "cell_type": "code",
      "source": [
        "# 6037번\n",
        "# 반복 횟수와 문장을 입력받아 여러 번 출력하기\n",
        "\n",
        "a = int(input())\n",
        "b = input()\n",
        "\n",
        "print(a * b)"
      ],
      "metadata": {
        "colab": {
          "base_uri": "https://localhost:8080/"
        },
        "id": "QEA9BGJ--uoX",
        "outputId": "8ce3f2d8-7ad3-4109-9da0-3802baaaed5a"
      },
      "execution_count": 12,
      "outputs": [
        {
          "output_type": "stream",
          "name": "stdout",
          "text": [
            "3\n",
            "I love CS\n",
            "I love CSI love CSI love CS\n"
          ]
        }
      ]
    },
    {
      "cell_type": "code",
      "source": [
        "# 6038번\n",
        "# 정수 2개(a, b)를 입력받아 a를 b번 곱한 거듭제곱을 출력하기\n",
        "\n",
        "a, b = map(int, input().split())\n",
        "\n",
        "print(a ** b)"
      ],
      "metadata": {
        "colab": {
          "base_uri": "https://localhost:8080/"
        },
        "id": "FzqdFRlL_Hm7",
        "outputId": "4ca72748-4972-4905-e83e-e2d6691d86c5"
      },
      "execution_count": 13,
      "outputs": [
        {
          "output_type": "stream",
          "name": "stdout",
          "text": [
            "2 10\n",
            "1024\n"
          ]
        }
      ]
    },
    {
      "cell_type": "code",
      "source": [
        "# 6039번\n",
        "# 실수 2개(f1, f2)를 입력받아 f1을 f2번 거듭제곱한 값을 출력하기\n",
        "\n",
        "f1, f2 = map(float, input().split())\n",
        "\n",
        "print(f1 ** f2)"
      ],
      "metadata": {
        "colab": {
          "base_uri": "https://localhost:8080/"
        },
        "id": "C4wuMkHP_q6Q",
        "outputId": "ec02cf81-2544-4621-86e0-56737ca3d1cf"
      },
      "execution_count": 14,
      "outputs": [
        {
          "output_type": "stream",
          "name": "stdout",
          "text": [
            "4.0 2.0\n",
            "16.0\n"
          ]
        }
      ]
    },
    {
      "cell_type": "code",
      "source": [
        "# 6040번\n",
        "# 정수 2개(a, b) 를 입력받아 a를 b로 나눈 몫을 출력하기\n",
        "\n",
        "a, b = map(int, input().split())\n",
        "\n",
        "print(a // b)"
      ],
      "metadata": {
        "colab": {
          "base_uri": "https://localhost:8080/"
        },
        "id": "xjbgGjQ5AFL_",
        "outputId": "d1b09951-6bfd-4445-d19a-eaa1605b6fa3"
      },
      "execution_count": 15,
      "outputs": [
        {
          "output_type": "stream",
          "name": "stdout",
          "text": [
            "10 3\n",
            "3\n"
          ]
        }
      ]
    },
    {
      "cell_type": "code",
      "source": [
        "# 6041번\n",
        "# 정수 2개(a, b) 를 입력받아 a를 b로 나눈 나머지를 출력하기\n",
        "\n",
        "a, b = map(int, input().split())\n",
        "\n",
        "print(a % b)"
      ],
      "metadata": {
        "colab": {
          "base_uri": "https://localhost:8080/"
        },
        "id": "iTmHtvQfAU5p",
        "outputId": "23e5f011-271d-4ba2-c692-def6baeb761e"
      },
      "execution_count": 16,
      "outputs": [
        {
          "output_type": "stream",
          "name": "stdout",
          "text": [
            "10 3\n",
            "1\n"
          ]
        }
      ]
    },
    {
      "cell_type": "code",
      "source": [
        "# 6042번\n",
        "# 실수 1개를 입력받아 소숫점 이하 두 번째 자리까지의 정확도로 반올림한 값을 출력하기\n",
        "\n",
        "a = float(input())\n",
        "\n",
        "print(format(a, '.2f'))"
      ],
      "metadata": {
        "colab": {
          "base_uri": "https://localhost:8080/"
        },
        "id": "O3TysNmVAmaV",
        "outputId": "8fa7049e-d8c1-4d7e-f86f-368f23832f31"
      },
      "execution_count": 17,
      "outputs": [
        {
          "output_type": "stream",
          "name": "stdout",
          "text": [
            "3.141592\n",
            "3.14\n"
          ]
        }
      ]
    },
    {
      "cell_type": "code",
      "source": [
        "# 6043번\n",
        "# 실수 2개(f1, f2)를 입력받아 f1 을 f2 로 나눈 값을 출력하기 \n",
        "# 이 때 소숫점 넷째자리에서 반올림하여 무조건 소숫점 셋째 자리까지 출력하기\n",
        "\n",
        "f1, f2 = map(float, input().split())\n",
        "\n",
        "print(format(f1 / f2, '.3f'))"
      ],
      "metadata": {
        "colab": {
          "base_uri": "https://localhost:8080/"
        },
        "id": "NpR-0wc2BDYo",
        "outputId": "ae43750c-78ee-46f2-e5f7-e74cbabe6a05"
      },
      "execution_count": 18,
      "outputs": [
        {
          "output_type": "stream",
          "name": "stdout",
          "text": [
            "10.0 3.0\n",
            "3.333\n"
          ]
        }
      ]
    },
    {
      "cell_type": "code",
      "source": [
        "# 6044번\n",
        "# 정수 2개(a, b)를 입력받아 합, 차, 곱, 몫, 나머지, 나눈 값을 자동으로 계산하기\n",
        "\n",
        "a, b = map(int, input().split())\n",
        "\n",
        "print('합 :', a + b)\n",
        "print('차 :', a - b)\n",
        "print('곱 :', a * b)\n",
        "print('몫 :', a // b)\n",
        "print('나머지 :', a % b)\n",
        "print('나누기 :', format(a / b, '.2f'))"
      ],
      "metadata": {
        "colab": {
          "base_uri": "https://localhost:8080/"
        },
        "id": "zYDvYMGSBrgP",
        "outputId": "4faeb7e7-ea67-4df5-db43-aceb8efe14d0"
      },
      "execution_count": 21,
      "outputs": [
        {
          "output_type": "stream",
          "name": "stdout",
          "text": [
            "10 3\n",
            "합 : 13\n",
            "차 : 7\n",
            "곱 : 30\n",
            "몫 : 3\n",
            "나머지 : 1\n",
            "나누기 : 3.33\n"
          ]
        }
      ]
    },
    {
      "cell_type": "code",
      "source": [
        "# 6045번\n",
        "# 정수 3개를 입력받아 합과 평균을 출력하기\n",
        "\n",
        "a, b, c = map(int, input().split())\n",
        "\n",
        "print(a + b + c, format((a + b + c) / 3, '.2f'))"
      ],
      "metadata": {
        "colab": {
          "base_uri": "https://localhost:8080/"
        },
        "id": "waVxQ_-NDHWw",
        "outputId": "dff27804-06d8-4ca1-9778-53972a8eedc3"
      },
      "execution_count": 24,
      "outputs": [
        {
          "output_type": "stream",
          "name": "stdout",
          "text": [
            "1 2 3\n",
            "6 2.00\n"
          ]
        }
      ]
    },
    {
      "cell_type": "code",
      "source": [
        "# 6046번\n",
        "# 정수 1개를 입력받아 2배 곱해 출력하기\n",
        "\n",
        "a = int(input())\n",
        "\n",
        "print(a << 1)"
      ],
      "metadata": {
        "colab": {
          "base_uri": "https://localhost:8080/"
        },
        "id": "Xlk11dyoEQXk",
        "outputId": "c802d627-1408-44ec-f6db-523d4fa0d74f"
      },
      "execution_count": 25,
      "outputs": [
        {
          "output_type": "stream",
          "name": "stdout",
          "text": [
            "1024\n",
            "2048\n"
          ]
        }
      ]
    },
    {
      "cell_type": "code",
      "source": [
        "# 6047번\n",
        "# 정수 2개(a, b)를 입력받아 a를 2의 b승 배 곱한 값으로 출력하기\n",
        "\n",
        "a, b = map(int, input().split())\n",
        "\n",
        "print(a << b)"
      ],
      "metadata": {
        "colab": {
          "base_uri": "https://localhost:8080/"
        },
        "id": "f7J8Y6XZFbaw",
        "outputId": "965310b6-d78a-41ed-c21e-2daba2c8b96e"
      },
      "execution_count": 26,
      "outputs": [
        {
          "output_type": "stream",
          "name": "stdout",
          "text": [
            "1 3\n",
            "8\n"
          ]
        }
      ]
    },
    {
      "cell_type": "code",
      "source": [
        "# 6048번\n",
        "# 두 정수(a, b)를 입력받아 a가 b보다 작으면 True, a가 b보다 크거나 같으면 False 를 출력하기\n",
        "\n",
        "a, b = map(int, input().split())\n",
        "\n",
        "if a < b :\n",
        "  print('True')\n",
        "  \n",
        "else :\n",
        "  print('False')"
      ],
      "metadata": {
        "colab": {
          "base_uri": "https://localhost:8080/"
        },
        "id": "rF_70ebHF9SM",
        "outputId": "91820631-f6e7-40f4-dfcd-9ee49d1ef439"
      },
      "execution_count": 27,
      "outputs": [
        {
          "output_type": "stream",
          "name": "stdout",
          "text": [
            "1 9\n",
            "True\n"
          ]
        }
      ]
    },
    {
      "cell_type": "code",
      "source": [
        "# 6049번\n",
        "# 두 정수(a, b)를 입력받아 a와 b의 값이 같으면 True, 같지 않으면 False 를 출력하기\n",
        "\n",
        "a, b = map(int, input().split())\n",
        "\n",
        "if a == b :\n",
        "  print('True')\n",
        "  \n",
        "else :\n",
        "  print('False')"
      ],
      "metadata": {
        "colab": {
          "base_uri": "https://localhost:8080/"
        },
        "id": "l69lUEkDGhgK",
        "outputId": "1a854b24-9adf-4b1f-c397-a3ceb306d31b"
      },
      "execution_count": 28,
      "outputs": [
        {
          "output_type": "stream",
          "name": "stdout",
          "text": [
            "0 0\n",
            "True\n"
          ]
        }
      ]
    },
    {
      "cell_type": "code",
      "source": [
        "# 6050번\n",
        "# 두 정수(a, b)를 입력받아 b의 값이 a의 값 보다 크거나 같으면 True, 같지 않으면 False를 출력하기\n",
        "\n",
        "a, b = map(int, input().split())\n",
        "\n",
        "if a <= b :\n",
        "  print('True')\n",
        "  \n",
        "else :\n",
        "  print('False')"
      ],
      "metadata": {
        "colab": {
          "base_uri": "https://localhost:8080/"
        },
        "id": "DPZiAE6JHYfj",
        "outputId": "cf5ceda9-5849-47e0-c96d-374de4f069ad"
      },
      "execution_count": 29,
      "outputs": [
        {
          "output_type": "stream",
          "name": "stdout",
          "text": [
            "0 -1\n",
            "False\n"
          ]
        }
      ]
    },
    {
      "cell_type": "code",
      "source": [
        "# 6051번\n",
        "# 두 정수(a, b)를 입력받아 a의 값이 b의 값과 서로 다르면 True, 같으면 False 를 출력하기\n",
        "\n",
        "a, b = map(int, input().split())\n",
        "\n",
        "if a != b :\n",
        "  print('True')\n",
        "  \n",
        "else :\n",
        "  print('False')"
      ],
      "metadata": {
        "colab": {
          "base_uri": "https://localhost:8080/"
        },
        "id": "G2faqbDVHtQY",
        "outputId": "ef6492b8-0111-45fa-e0c7-251235edfee3"
      },
      "execution_count": 31,
      "outputs": [
        {
          "output_type": "stream",
          "name": "stdout",
          "text": [
            "0 1\n",
            "True\n"
          ]
        }
      ]
    },
    {
      "cell_type": "code",
      "source": [
        "# 6052번\n",
        "# 정수가 입력되었을 때, True/False 로 평가해주는 프로그램을 작성하기\n",
        "\n",
        "a = int(input())\n",
        "\n",
        "print(bool(a))"
      ],
      "metadata": {
        "colab": {
          "base_uri": "https://localhost:8080/"
        },
        "id": "Fks5mGgdIGRl",
        "outputId": "231891e6-8d62-470a-dd31-05a33d620b3c"
      },
      "execution_count": 32,
      "outputs": [
        {
          "output_type": "stream",
          "name": "stdout",
          "text": [
            "0\n",
            "False\n"
          ]
        }
      ]
    },
    {
      "cell_type": "code",
      "source": [
        "# 6053번\n",
        "# 정수값이 입력될 때, bool 값을 반대로 출력하는 프로그램을 작성하기\n",
        "\n",
        "a = int(input())\n",
        "\n",
        "print(bool(not a))"
      ],
      "metadata": {
        "colab": {
          "base_uri": "https://localhost:8080/"
        },
        "id": "1GxVnI86IbFg",
        "outputId": "159ff5ee-3177-48a4-cda3-3bebbc7d10e7"
      },
      "execution_count": 33,
      "outputs": [
        {
          "output_type": "stream",
          "name": "stdout",
          "text": [
            "1\n",
            "False\n"
          ]
        }
      ]
    },
    {
      "cell_type": "code",
      "source": [
        "# 6054번\n",
        "# 2개의 정수값이 입력될 때, bool 값이 모두 True 일 때에만 True 를 출력하기\n",
        "\n",
        "a, b = map(int, input().split())\n",
        "\n",
        "print(bool(a and b))"
      ],
      "metadata": {
        "colab": {
          "base_uri": "https://localhost:8080/"
        },
        "id": "VOCTHVhiI1dR",
        "outputId": "2e41ccad-4f57-43ce-cf7d-38e83dd8e7aa"
      },
      "execution_count": 34,
      "outputs": [
        {
          "output_type": "stream",
          "name": "stdout",
          "text": [
            "1 1\n",
            "True\n"
          ]
        }
      ]
    },
    {
      "cell_type": "code",
      "source": [
        "# 6055번\n",
        "# 2개의 정수값이 입력될 때, bool 값이 하나라도 True 일 때 True 를 출력하기\n",
        "\n",
        "a, b = map(int, input().split())\n",
        "\n",
        "print(bool(a or b))"
      ],
      "metadata": {
        "colab": {
          "base_uri": "https://localhost:8080/"
        },
        "id": "JQbl7SkEJX1y",
        "outputId": "91a0c571-0682-4f50-c4a9-1afffcb7c2cf"
      },
      "execution_count": 36,
      "outputs": [
        {
          "output_type": "stream",
          "name": "stdout",
          "text": [
            "1 0\n",
            "True\n"
          ]
        }
      ]
    },
    {
      "cell_type": "code",
      "source": [
        "# 6056번\n",
        "# 2개의 정수값이 입력될 때, bool 값(True/False) 이 서로 다를 때에만 True 를 출력하기\n",
        "\n",
        "a, b = map(int, input().split())\n",
        "a = bool(a)\n",
        "b = bool(b)\n",
        "\n",
        "print(a != b)"
      ],
      "metadata": {
        "colab": {
          "base_uri": "https://localhost:8080/"
        },
        "id": "rHbDAGEmJv8P",
        "outputId": "0f79dcc1-af97-4eb1-bb84-57ee0b64ea63"
      },
      "execution_count": 40,
      "outputs": [
        {
          "output_type": "stream",
          "name": "stdout",
          "text": [
            "1 1\n",
            "False\n"
          ]
        }
      ]
    },
    {
      "cell_type": "code",
      "source": [
        "# 6057번\n",
        "# 2개의 정수값이 입력될 때, bool 값(True/False) 이 서로 같을 때에만 True 를 출력하기\n",
        "\n",
        "a, b = map(int, input().split())\n",
        "a = bool(a)\n",
        "b = bool(b)\n",
        "\n",
        "print(a == b)"
      ],
      "metadata": {
        "colab": {
          "base_uri": "https://localhost:8080/"
        },
        "id": "qZNmnfrdKMDO",
        "outputId": "01bf1960-72f0-409e-9a4a-a6634361bed6"
      },
      "execution_count": 41,
      "outputs": [
        {
          "output_type": "stream",
          "name": "stdout",
          "text": [
            "1 1\n",
            "True\n"
          ]
        }
      ]
    },
    {
      "cell_type": "code",
      "source": [
        "# 6058번\n",
        "# 2개의 정수값이 입력될 때, bool 값(True/False) 이 모두 False 일 때에만 True 를 출력하기\n",
        "\n",
        "a, b = map(int, input().split())\n",
        "a = bool(a)\n",
        "b = bool(b)\n",
        "\n",
        "print(not (a or b))"
      ],
      "metadata": {
        "colab": {
          "base_uri": "https://localhost:8080/"
        },
        "id": "YxIT21k6LtXh",
        "outputId": "5a9065b8-4d40-48d8-c252-857982cd0975"
      },
      "execution_count": 44,
      "outputs": [
        {
          "output_type": "stream",
          "name": "stdout",
          "text": [
            "0 0\n",
            "True\n"
          ]
        }
      ]
    },
    {
      "cell_type": "code",
      "source": [
        "# 6059번\n",
        "# 입력 된 정수를 비트단위로 참/거짓을 바꾼 후 정수로 출력하기\n",
        "\n",
        "a = int(input())\n",
        "\n",
        "print(~ a)"
      ],
      "metadata": {
        "colab": {
          "base_uri": "https://localhost:8080/"
        },
        "id": "tANOzOxTMQ9O",
        "outputId": "232a4b94-40ee-4cbc-8c97-8b59d209b9bd"
      },
      "execution_count": 45,
      "outputs": [
        {
          "output_type": "stream",
          "name": "stdout",
          "text": [
            "2\n",
            "-3\n"
          ]
        }
      ]
    },
    {
      "cell_type": "code",
      "source": [
        "# 6060번\n",
        "# 입력된 정수 두 개를 비트단위로 and 연산한 후 그 결과를 정수로 출력하기\n",
        "\n",
        "a, b = map(int, input().split())\n",
        "\n",
        "print(a & b)"
      ],
      "metadata": {
        "colab": {
          "base_uri": "https://localhost:8080/"
        },
        "id": "58MtYAOuM-Q8",
        "outputId": "739d0792-fba6-4d4f-8b9e-8564a184d5e8"
      },
      "execution_count": 46,
      "outputs": [
        {
          "output_type": "stream",
          "name": "stdout",
          "text": [
            "3 5\n",
            "1\n"
          ]
        }
      ]
    },
    {
      "cell_type": "code",
      "source": [
        "# 6061번\n",
        "# 입력된 정수 두 개를 비트단위로 or 연산한 후 그 결과를 정수로 출력하기\n",
        "\n",
        "a, b = map(int, input().split())\n",
        "\n",
        "print(a | b)"
      ],
      "metadata": {
        "colab": {
          "base_uri": "https://localhost:8080/"
        },
        "id": "zmpjPZAtNQoz",
        "outputId": "43cd86fb-b9f4-4d59-b345-edb89f81a75f"
      },
      "execution_count": 47,
      "outputs": [
        {
          "output_type": "stream",
          "name": "stdout",
          "text": [
            "3 5\n",
            "7\n"
          ]
        }
      ]
    },
    {
      "cell_type": "code",
      "source": [
        "# 6062번\n",
        "# 입력된 정수 두 개를 비트단위로 xor 연산한 후 그 결과를 정수로 출력하기\n",
        "\n",
        "a, b = map(int, input().split())\n",
        "\n",
        "print(a ^ b)"
      ],
      "metadata": {
        "colab": {
          "base_uri": "https://localhost:8080/"
        },
        "id": "Zl7aqIM7Nhyz",
        "outputId": "f5c6edf4-43d3-41ad-8334-4c600bbe1886"
      },
      "execution_count": 48,
      "outputs": [
        {
          "output_type": "stream",
          "name": "stdout",
          "text": [
            "3 5\n",
            "6\n"
          ]
        }
      ]
    }
  ]
}