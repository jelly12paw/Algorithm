{
  "nbformat": 4,
  "nbformat_minor": 0,
  "metadata": {
    "colab": {
      "name": "Python_기초100제_6063_~_6083.ipynb",
      "provenance": [],
      "collapsed_sections": [],
      "authorship_tag": "ABX9TyO+murdTjZ7wDls/JsEDbrG",
      "include_colab_link": true
    },
    "kernelspec": {
      "name": "python3",
      "display_name": "Python 3"
    },
    "language_info": {
      "name": "python"
    }
  },
  "cells": [
    {
      "cell_type": "markdown",
      "metadata": {
        "id": "view-in-github",
        "colab_type": "text"
      },
      "source": [
        "<a href=\"https://colab.research.google.com/github/jelly12paw/Algorithm/blob/main/CodeUp/Python_%EA%B8%B0%EC%B4%88100%EC%A0%9C_6063_~_6083.ipynb\" target=\"_parent\"><img src=\"https://colab.research.google.com/assets/colab-badge.svg\" alt=\"Open In Colab\"/></a>"
      ]
    },
    {
      "cell_type": "markdown",
      "source": [
        "# CodeUp Python 기초 100제"
      ],
      "metadata": {
        "id": "_jqrk7dw9UvS"
      }
    },
    {
      "cell_type": "markdown",
      "source": [
        "## 6063번 ~ 6083번 문제풀이"
      ],
      "metadata": {
        "id": "mkdxxqNm9XH8"
      }
    },
    {
      "cell_type": "code",
      "execution_count": 1,
      "metadata": {
        "colab": {
          "base_uri": "https://localhost:8080/"
        },
        "id": "W5SFlcrV9LIM",
        "outputId": "2182da95-0f1b-4379-d017-2f59a49424a1"
      },
      "outputs": [
        {
          "output_type": "stream",
          "name": "stdout",
          "text": [
            "123 456\n",
            "456\n"
          ]
        }
      ],
      "source": [
        "# 6063번\n",
        "# 입력된 두 정수(a, b) 중 큰 값을 출력하기\n",
        "\n",
        "a, b = map(int, input().split())\n",
        "c = a if (a >= b) else b\n",
        "\n",
        "print(c)"
      ]
    },
    {
      "cell_type": "code",
      "source": [
        "# 6064번\n",
        "# 입력된 세 정수 a, b, c 중 가장 작은 값을 출력하기\n",
        "\n",
        "a, b, c = map(int, input().split())\n",
        "\n",
        "if a <= b :\n",
        "  print(a)\n",
        "\n",
        "elif b <= c :\n",
        "  print(b)\n",
        "\n",
        "else :\n",
        "  print(c)\n",
        "\n",
        "# 정답 코드\n",
        "\n",
        "a, b, c = map(int, input().split())\n",
        "\n",
        "d = (a if a<b else b) if ((a if a<b else b)<c) else c\n",
        "\n",
        "print(d)"
      ],
      "metadata": {
        "colab": {
          "base_uri": "https://localhost:8080/"
        },
        "id": "UiALP7LV-VIP",
        "outputId": "fb40014a-ff0e-4279-b884-5a621aafb228"
      },
      "execution_count": 4,
      "outputs": [
        {
          "output_type": "stream",
          "name": "stdout",
          "text": [
            "3 -1 5\n",
            "-1\n",
            "3 -1 5\n",
            "-1\n"
          ]
        }
      ]
    },
    {
      "cell_type": "code",
      "source": [
        "# 6065번\n",
        "# 3개의 정수(a, b, c)가 입력되었을 때, 짝수만 출력하기\n",
        "\n",
        "a, b, c = map(int, input().split())\n",
        "\n",
        "if a % 2 == 0 :\n",
        "  print(a)\n",
        "\n",
        "if b % 2 == 0 :\n",
        "  print(b)\n",
        "  \n",
        "if c % 2 == 0 :\n",
        "  print(c)"
      ],
      "metadata": {
        "colab": {
          "base_uri": "https://localhost:8080/"
        },
        "id": "COqQbeEs_JsL",
        "outputId": "c1334409-6060-40b0-8dae-4d55d4c43aef"
      },
      "execution_count": 7,
      "outputs": [
        {
          "output_type": "stream",
          "name": "stdout",
          "text": [
            "1 2 4\n",
            "2\n",
            "4\n"
          ]
        }
      ]
    },
    {
      "cell_type": "code",
      "source": [
        "# 6066번\n",
        "# 3개의 정수(a, b, c)가 입력되었을 때, 짝(even)/홀(odd)을 출력하기\n",
        "\n",
        "a, b, c = map(int, input().split())\n",
        "\n",
        "if a % 2 == 0 :\n",
        "  print('even')\n",
        "\n",
        "else :\n",
        "  print('odd')\n",
        "\n",
        "if b % 2 == 0 :\n",
        "  print('even')\n",
        "\n",
        "else :\n",
        "  print('odd')\n",
        "\n",
        "if c % 2 == 0 :\n",
        "  print('even')\n",
        "\n",
        "else :\n",
        "  print('odd')"
      ],
      "metadata": {
        "colab": {
          "base_uri": "https://localhost:8080/"
        },
        "id": "tdGorabVA718",
        "outputId": "59f7efb9-276a-4031-87b9-a1632da9a1ee"
      },
      "execution_count": 8,
      "outputs": [
        {
          "output_type": "stream",
          "name": "stdout",
          "text": [
            "1 2 8\n",
            "odd\n",
            "even\n",
            "even\n"
          ]
        }
      ]
    },
    {
      "cell_type": "code",
      "source": [
        "# 6067번\n",
        "# 0이 아닌 정수 1개가 입력되었을 때, 음(-)/양(+)과 짝(even)/홀(odd)을 구분해 분류하기\n",
        "\n",
        "a = int(input())\n",
        "\n",
        "if a < 0 : # 음수\n",
        "\n",
        "  if a % 2 == 0 : # 짝수\n",
        "    print('A')\n",
        "  \n",
        "  else : # 홀수\n",
        "    print('B')\n",
        "\n",
        "if a > 0 : # 양수\n",
        "\n",
        "  if a % 2 == 0 : # 짝수\n",
        "    print('C')\n",
        "\n",
        "  else :\n",
        "    print('D')"
      ],
      "metadata": {
        "colab": {
          "base_uri": "https://localhost:8080/"
        },
        "id": "P1meWrJUCKZc",
        "outputId": "b28d2c5a-f313-445d-cd8d-6b55be1524b4"
      },
      "execution_count": 9,
      "outputs": [
        {
          "output_type": "stream",
          "name": "stdout",
          "text": [
            "-2147483648\n",
            "A\n"
          ]
        }
      ]
    },
    {
      "cell_type": "code",
      "source": [
        "# 6068번\n",
        "# 점수(정수, 0 ~ 100)를 입력받아 평가를 출력하기\n",
        "\n",
        "a = int(input())\n",
        "\n",
        "if a >= 90 :\n",
        "  print('A')\n",
        "\n",
        "elif a >= 70  :\n",
        "  print('B')\n",
        "\n",
        "elif a >= 40 :\n",
        "  print('C')\n",
        "\n",
        "else :\n",
        "  print('D')"
      ],
      "metadata": {
        "colab": {
          "base_uri": "https://localhost:8080/"
        },
        "id": "6POejftNDhJK",
        "outputId": "db16ee3f-7283-472b-c432-ab6b819545b6"
      },
      "execution_count": 12,
      "outputs": [
        {
          "output_type": "stream",
          "name": "stdout",
          "text": [
            "72\n",
            "B\n"
          ]
        }
      ]
    },
    {
      "cell_type": "code",
      "source": [
        "# 6069번\n",
        "# 평가를 문자(A, B, C, D, ...)로 입력받아 내용을 다르게 출력하기\n",
        "\n",
        "a = input()\n",
        "\n",
        "if a == 'A' :\n",
        "  print('best!!!')\n",
        "\n",
        "elif a == 'B' :\n",
        "  print('good!!')\n",
        "\n",
        "elif a == 'C' :\n",
        "  print('run!')\n",
        "\n",
        "elif a == 'D' :\n",
        "  print('slowly~')\n",
        "\n",
        "else :\n",
        "  print('what?')"
      ],
      "metadata": {
        "colab": {
          "base_uri": "https://localhost:8080/"
        },
        "id": "_i3lZ6XSEDJY",
        "outputId": "2f1cb39f-9231-4fa5-b920-abee64a2d7c3"
      },
      "execution_count": 14,
      "outputs": [
        {
          "output_type": "stream",
          "name": "stdout",
          "text": [
            "A\n",
            "best!!!\n"
          ]
        }
      ]
    },
    {
      "cell_type": "code",
      "source": [
        "# 6070번\n",
        "# 월이 입력될 때 계절 이름이 출력하기\n",
        "\n",
        "a = int(input())\n",
        "\n",
        "if a // 3 == 1 :\n",
        "    print(\"spring\")\n",
        "\n",
        "elif a // 3 == 2 :\n",
        "    print(\"summer\")\n",
        "\n",
        "elif a // 3 == 3 :\n",
        "    print(\"fall\")\n",
        "\n",
        "else :\n",
        "    print(\"winter\")"
      ],
      "metadata": {
        "colab": {
          "base_uri": "https://localhost:8080/"
        },
        "id": "y-M9JpxKFz64",
        "outputId": "3ab5bcca-b1f8-41ad-c61c-4b6d8079ff84"
      },
      "execution_count": 18,
      "outputs": [
        {
          "output_type": "stream",
          "name": "stdout",
          "text": [
            "12\n",
            "winter\n"
          ]
        }
      ]
    },
    {
      "cell_type": "code",
      "source": [
        "# 6071번\n",
        "# 0이 아니면 입력된 정수를 출력하고, 0이 입력되면 출력을 중단하기\n",
        "\n",
        "n = 1\n",
        "\n",
        "while n != 0 :\n",
        "  n = int(input())\n",
        "\n",
        "  if n != 0 :\n",
        "    print(n)\n",
        "\n",
        "  else :\n",
        "    break"
      ],
      "metadata": {
        "colab": {
          "base_uri": "https://localhost:8080/"
        },
        "id": "UqXUkns8I1j6",
        "outputId": "671c7f9e-7452-4078-860e-af1b6d5a81ba"
      },
      "execution_count": 21,
      "outputs": [
        {
          "name": "stdout",
          "output_type": "stream",
          "text": [
            "7\n",
            "7\n",
            "4\n",
            "4\n",
            "2\n",
            "2\n",
            "3\n",
            "3\n",
            "0\n"
          ]
        }
      ]
    },
    {
      "cell_type": "code",
      "source": [
        "# 6072번\n",
        "# 정수(1 ~ 100) 1개가 입력되었을 때 카운트다운을 출력하기\n",
        "\n",
        "n = int(input())\n",
        "\n",
        "while n != 0 :\n",
        "  \n",
        "  print(n)\n",
        "  n -= 1   "
      ],
      "metadata": {
        "colab": {
          "base_uri": "https://localhost:8080/"
        },
        "id": "3Mn2cgT3LCk2",
        "outputId": "9a3fc414-aaec-4db6-94af-dc455b0d20d5"
      },
      "execution_count": 30,
      "outputs": [
        {
          "output_type": "stream",
          "name": "stdout",
          "text": [
            "5\n",
            "5\n",
            "4\n",
            "3\n",
            "2\n",
            "1\n"
          ]
        }
      ]
    },
    {
      "cell_type": "code",
      "source": [
        "# 6073번\n",
        "# 정수(1 ~ 100) 1개가 입력되었을 때 카운트다운을 출력하기\n",
        "\n",
        "n = int(input())\n",
        "\n",
        "while n != 0 :\n",
        "\n",
        "  n -= 1\n",
        "  print(n)"
      ],
      "metadata": {
        "colab": {
          "base_uri": "https://localhost:8080/"
        },
        "id": "CiLLKPXIMs5p",
        "outputId": "12d0766c-d656-4b52-f371-a9de8530e771"
      },
      "execution_count": 32,
      "outputs": [
        {
          "output_type": "stream",
          "name": "stdout",
          "text": [
            "5\n",
            "4\n",
            "3\n",
            "2\n",
            "1\n",
            "0\n"
          ]
        }
      ]
    },
    {
      "cell_type": "code",
      "source": [
        "# 6074번\n",
        "# 영문 소문자(a ~ z) 1개가 입력되었을 때, \n",
        "# a부터 그 문자까지의 알파벳을 순서대로 출력하기\n",
        "\n",
        "a = ord(input())\n",
        "alpa = ord('a')\n",
        "\n",
        "while alpa <= a :\n",
        "  \n",
        "  print(chr(alpa), end=' ')\n",
        "  alpa += 1"
      ],
      "metadata": {
        "colab": {
          "base_uri": "https://localhost:8080/"
        },
        "id": "hKSyp3frct8S",
        "outputId": "e779199b-1149-4ad6-9035-696656036174"
      },
      "execution_count": 34,
      "outputs": [
        {
          "output_type": "stream",
          "name": "stdout",
          "text": [
            "f\n",
            "a b c d e f "
          ]
        }
      ]
    },
    {
      "cell_type": "code",
      "source": [
        "# 6075번\n",
        "# 정수(0 ~ 100) 1개를 입력받아 0부터 그 수까지 순서대로 출력하기\n",
        "\n",
        "a = int(input())\n",
        "b = 0\n",
        "\n",
        "while b <= a :\n",
        "  \n",
        "  print(b)\n",
        "  b += 1"
      ],
      "metadata": {
        "colab": {
          "base_uri": "https://localhost:8080/"
        },
        "id": "r1l8NJggdmCu",
        "outputId": "ce3b9135-3cf5-4624-ca7a-7a9410c3c5ef"
      },
      "execution_count": 1,
      "outputs": [
        {
          "output_type": "stream",
          "name": "stdout",
          "text": [
            "4\n",
            "0\n",
            "1\n",
            "2\n",
            "3\n",
            "4\n"
          ]
        }
      ]
    },
    {
      "cell_type": "code",
      "source": [
        "# 6076번\n",
        "# 정수(0 ~ 100) 1개를 입력받아 0부터 그 수까지 순서대로 출력하기\n",
        "\n",
        "a = int(input())\n",
        "\n",
        "for i in range(a + 1) :\n",
        "  print(i)"
      ],
      "metadata": {
        "colab": {
          "base_uri": "https://localhost:8080/"
        },
        "id": "VeELHKUSe5Dm",
        "outputId": "728b4ba3-830b-43b1-ecf5-947f071df466"
      },
      "execution_count": 2,
      "outputs": [
        {
          "output_type": "stream",
          "name": "stdout",
          "text": [
            "4\n",
            "0\n",
            "1\n",
            "2\n",
            "3\n",
            "4\n"
          ]
        }
      ]
    },
    {
      "cell_type": "code",
      "source": [
        "# 6077번\n",
        "# 정수(1 ~ 100) 1개를 입력받아 1부터 그 수까지 짝수의 합을 구하기\n",
        "\n",
        "a = int(input())\n",
        "sum = 0\n",
        "\n",
        "for i in range(1, a + 1) :\n",
        "  \n",
        "  if i % 2 == 0 :\n",
        "    sum += i\n",
        "\n",
        "print(sum)"
      ],
      "metadata": {
        "colab": {
          "base_uri": "https://localhost:8080/"
        },
        "id": "FZmlVZkpwB-W",
        "outputId": "3ff44069-fcd1-4c76-db51-81442ec87a9a"
      },
      "execution_count": 4,
      "outputs": [
        {
          "output_type": "stream",
          "name": "stdout",
          "text": [
            "5\n",
            "6\n"
          ]
        }
      ]
    },
    {
      "cell_type": "code",
      "source": [
        "# 6078번\n",
        "# 영문 소문자 'q'가 입력될 때까지 입력한 문자를 계속 출력하기\n",
        "\n",
        "while True :\n",
        "\n",
        "  a = input()\n",
        "  print(a)\n",
        "\n",
        "  if a == 'q' :\n",
        "    break"
      ],
      "metadata": {
        "colab": {
          "base_uri": "https://localhost:8080/"
        },
        "id": "QSm8ZhMPwnKo",
        "outputId": "7cb49c71-fc34-40f9-bb43-73d552995b96"
      },
      "execution_count": 7,
      "outputs": [
        {
          "output_type": "stream",
          "name": "stdout",
          "text": [
            "x\n",
            "x\n",
            "b\n",
            "b\n",
            "k\n",
            "k\n",
            "d\n",
            "d\n",
            "q\n",
            "q\n"
          ]
        }
      ]
    },
    {
      "cell_type": "code",
      "source": [
        "# 6079번\n",
        "# 1, 2, 3 ... 을 계속 더해 나갈 때, 그 합이 입력한 정수(0 ~ 1000)보다 같거나 작을 때까지만\n",
        "# 계속 더하는 프로그램을 작성하기\n",
        "\n",
        "a = int(input())\n",
        "sum = 0\n",
        "\n",
        "for i in range (a + 1) :\n",
        "\n",
        "  sum += i\n",
        "\n",
        "  if sum >= a :\n",
        "    print(i)\n",
        "    break\n"
      ],
      "metadata": {
        "colab": {
          "base_uri": "https://localhost:8080/"
        },
        "id": "t69ZrX6Dyqm5",
        "outputId": "b394b9a7-5adf-45b7-f5d6-27314509e850"
      },
      "execution_count": 4,
      "outputs": [
        {
          "output_type": "stream",
          "name": "stdout",
          "text": [
            "55\n",
            "10\n"
          ]
        }
      ]
    },
    {
      "cell_type": "code",
      "source": [
        "# 6080번\n",
        "# 1부터 n까지, 1부터 m까지 숫자가 적힌 서로 다른 주사위 2개를 던졌을 때, 나올 수 있는 모든 경우를 출력하기\n",
        "\n",
        "n, m = map(int, input().split())\n",
        "\n",
        "for i in range(1, n + 1) :\n",
        "  for o in range(1, m + 1) :\n",
        "    print(i, o)\n"
      ],
      "metadata": {
        "colab": {
          "base_uri": "https://localhost:8080/"
        },
        "id": "mT1eNTb9RrHO",
        "outputId": "96a91355-2686-459d-c194-c321afaec900"
      },
      "execution_count": 8,
      "outputs": [
        {
          "output_type": "stream",
          "name": "stdout",
          "text": [
            "2 4\n",
            "1 1\n",
            "1 2\n",
            "1 3\n",
            "1 4\n",
            "2 1\n",
            "2 2\n",
            "2 3\n",
            "2 4\n"
          ]
        }
      ]
    },
    {
      "cell_type": "code",
      "source": [
        "# 6081번\n",
        "# A, B, C, D, E, F 중 하나가 입력될 때, 1부터 F까지 곱한 16진수 구구단의 내용을 출력하기\n",
        "\n",
        "a = int(input(), 16)\n",
        "\n",
        "for i in range (1, 16) :\n",
        "  print('%X'%a, '*%X'%i, '=%X'%(a * i), sep='')"
      ],
      "metadata": {
        "colab": {
          "base_uri": "https://localhost:8080/"
        },
        "id": "mNJWqSjeSXJp",
        "outputId": "5cfcd39d-251a-45be-fc2b-58173f6c4ddd"
      },
      "execution_count": 11,
      "outputs": [
        {
          "output_type": "stream",
          "name": "stdout",
          "text": [
            "B\n",
            "B*1=B\n",
            "B*2=16\n",
            "B*3=21\n",
            "B*4=2C\n",
            "B*5=37\n",
            "B*6=42\n",
            "B*7=4D\n",
            "B*8=58\n",
            "B*9=63\n",
            "B*A=6E\n",
            "B*B=79\n",
            "B*C=84\n",
            "B*D=8F\n",
            "B*E=9A\n",
            "B*F=A5\n"
          ]
        }
      ]
    },
    {
      "cell_type": "code",
      "source": [
        "# 6082번\n",
        "# 3 6 9 게임의 왕이 되기 위한 369 마스터 프로그램을 작성하기\n",
        "\n",
        "a = int(input())\n",
        "\n",
        "for i in range(1, a + 1) :\n",
        "\n",
        "  if i % 10 == 3 or i % 10 == 6 or i % 10 == 9 :\n",
        "    print('X', end=' ')\n",
        "  \n",
        "  else :\n",
        "    print(i, end=' ')"
      ],
      "metadata": {
        "colab": {
          "base_uri": "https://localhost:8080/"
        },
        "id": "ee54mrPIVIbE",
        "outputId": "f421f21f-1833-487a-d778-bab0d12acea8"
      },
      "execution_count": 15,
      "outputs": [
        {
          "output_type": "stream",
          "name": "stdout",
          "text": [
            "9\n",
            "1 2 X 4 5 X 7 8 X "
          ]
        }
      ]
    },
    {
      "cell_type": "code",
      "source": [
        "# 6083번\n",
        "# 빨강(r), 초록(g), 파랑(b) 각 빛의 가짓수가 주어질 때,\n",
        "# 주어진 rgb 빛들을 섞어 만들 수 있는 모든 경우의 조합(r g b)과 만들 수 있는 색의 가짓 수를 계산하기\n",
        "\n",
        "r, g, b = map(int, input().split())\n",
        "sum = 0\n",
        "\n",
        "for x in range(r) :\n",
        "\n",
        "  for y in range(g) :\n",
        "\n",
        "    for z in range(b) :\n",
        "\n",
        "      print(x, y, z)\n",
        "\n",
        "      sum = sum + 1\n",
        "      \n",
        "print(sum)"
      ],
      "metadata": {
        "colab": {
          "base_uri": "https://localhost:8080/"
        },
        "id": "Ib1_yfbVWWmo",
        "outputId": "ea463548-542a-4030-df29-62ea59ba8946"
      },
      "execution_count": 22,
      "outputs": [
        {
          "output_type": "stream",
          "name": "stdout",
          "text": [
            "2 2 2\n",
            "0 0 0\n",
            "0 0 1\n",
            "0 1 0\n",
            "0 1 1\n",
            "1 0 0\n",
            "1 0 1\n",
            "1 1 0\n",
            "1 1 1\n",
            "8\n"
          ]
        }
      ]
    }
  ]
}