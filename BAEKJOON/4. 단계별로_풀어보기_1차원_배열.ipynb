{
  "nbformat": 4,
  "nbformat_minor": 0,
  "metadata": {
    "colab": {
      "name": "단계별로_풀어보기_1차원 배열.ipynb",
      "provenance": [],
      "authorship_tag": "ABX9TyM+eFhtdcxAycxUl2foKATJ",
      "include_colab_link": true
    },
    "kernelspec": {
      "name": "python3",
      "display_name": "Python 3"
    },
    "language_info": {
      "name": "python"
    }
  },
  "cells": [
    {
      "cell_type": "markdown",
      "metadata": {
        "id": "view-in-github",
        "colab_type": "text"
      },
      "source": [
        "<a href=\"https://colab.research.google.com/github/jelly12paw/Algorithm/blob/main/BAEKJOON/%EB%8B%A8%EA%B3%84%EB%B3%84%EB%A1%9C_%ED%92%80%EC%96%B4%EB%B3%B4%EA%B8%B0_1%EC%B0%A8%EC%9B%90_%EB%B0%B0%EC%97%B4.ipynb\" target=\"_parent\"><img src=\"https://colab.research.google.com/assets/colab-badge.svg\" alt=\"Open In Colab\"/></a>"
      ]
    },
    {
      "cell_type": "markdown",
      "source": [
        "# BAEKJOON 단계별로 풀어보기"
      ],
      "metadata": {
        "id": "3c-5Nn1nKnhV"
      }
    },
    {
      "cell_type": "markdown",
      "source": [
        "### 1차원 배열"
      ],
      "metadata": {
        "id": "2RAAzFrHKpH1"
      }
    },
    {
      "cell_type": "code",
      "execution_count": 14,
      "metadata": {
        "colab": {
          "base_uri": "https://localhost:8080/"
        },
        "id": "_8ExJRsNKG58",
        "outputId": "be4f14c6-9a3b-482a-a95e-e6fc255e3a83"
      },
      "outputs": [
        {
          "output_type": "stream",
          "name": "stdout",
          "text": [
            "5\n",
            "20 10 35 30 7\n",
            "7 35\n"
          ]
        }
      ],
      "source": [
        "# 10818\n",
        "# N개의 정수가 주어진다. 이때, 최솟값과 최댓값을 구하는 프로그램을 작성하시오.\n",
        "\n",
        "a = int(input())\n",
        "num = list(map(int, input().split()))\n",
        "\n",
        "print(min(num), max(num))"
      ]
    },
    {
      "cell_type": "code",
      "source": [
        "# 2562\n",
        "# 9개의 서로 다른 자연수가 주어질 때, 이들 중 최댓값을 찾고 그 최댓값이 몇 번째 수인지를 구하는 프로그램을 작성하시오.\n",
        "\n",
        "num = []\n",
        "for i in range(9) :\n",
        "\n",
        "  num.append(int(input()))\n",
        "  max_index = num.index(max(num)) + 1\n",
        "\n",
        "print(f'{max(num)}\\n{max_index}')"
      ],
      "metadata": {
        "colab": {
          "base_uri": "https://localhost:8080/"
        },
        "id": "YhNHbLATKxGS",
        "outputId": "4c3092f1-e18d-4122-a116-4376d7f34ffa"
      },
      "execution_count": 22,
      "outputs": [
        {
          "output_type": "stream",
          "name": "stdout",
          "text": [
            "3\n",
            "29\n",
            "38\n",
            "12\n",
            "57\n",
            "74\n",
            "40\n",
            "85\n",
            "61\n",
            "85\n",
            "8\n"
          ]
        }
      ]
    },
    {
      "cell_type": "code",
      "source": [
        "# 2577\n",
        "# 세 개의 자연수 A, B, C가 주어질 때 A × B × C를 계산한 결과에 0부터 9까지 각각의 숫자가 몇 번씩 쓰였는지를 구하는 프로그램을 작성하시오.\n",
        "\n",
        "A = int(input())\n",
        "B = int(input())\n",
        "C = int(input())\n",
        "\n",
        "total = str(A * B * C)\n",
        "\n",
        "for i in range(10) :\n",
        "  print(total.count(str(i)))"
      ],
      "metadata": {
        "colab": {
          "base_uri": "https://localhost:8080/"
        },
        "id": "LzN-J0TyKy0Q",
        "outputId": "85812cfd-d9d2-4bd8-c6f4-2b89462ad672"
      },
      "execution_count": 35,
      "outputs": [
        {
          "output_type": "stream",
          "name": "stdout",
          "text": [
            "150\n",
            "266\n",
            "427\n",
            "3\n",
            "1\n",
            "0\n",
            "2\n",
            "0\n",
            "0\n",
            "0\n",
            "2\n",
            "0\n",
            "0\n"
          ]
        }
      ]
    },
    {
      "cell_type": "code",
      "source": [
        "# 3052\n",
        "# 수 10개를 입력받은 뒤, 이를 42로 나눈 나머지를 구한다. 그 다음 서로 다른 값이 몇 개 있는지 출력하는 프로그램을 작성하시오.\n",
        "\n",
        "na = []\n",
        "\n",
        "for i in range(10) :\n",
        "  a = int(input())\n",
        "  b = a % 42\n",
        "  na.append(b)\n",
        "\n",
        "print(len(set(na)))"
      ],
      "metadata": {
        "colab": {
          "base_uri": "https://localhost:8080/"
        },
        "id": "ijlZv2j4Kzws",
        "outputId": "ea48b078-cc02-4bda-c98d-146e0ee51792"
      },
      "execution_count": 6,
      "outputs": [
        {
          "output_type": "stream",
          "name": "stdout",
          "text": [
            "1\n",
            "2\n",
            "3\n",
            "4\n",
            "5\n",
            "6\n",
            "7\n",
            "8\n",
            "9\n",
            "10\n",
            "10\n"
          ]
        }
      ]
    },
    {
      "cell_type": "code",
      "source": [
        "# 1546\n",
        "# 모든 점수를 점수/M*100으로 고친 후 새로운 평균을 구하는 프로그램을 작성하시오.\n",
        "\n",
        "a = int(input())\n",
        "score = []\n",
        "score_num = list(map(int, input().split()))\n",
        "score_max = max(score_num)\n",
        "\n",
        "for i in score_num :\n",
        "  score.append(i / score_max * 100)\n",
        "\n",
        "print(sum(score) / a)"
      ],
      "metadata": {
        "colab": {
          "base_uri": "https://localhost:8080/"
        },
        "id": "wvMLMoFCK1AN",
        "outputId": "e10ce0ba-a393-4b0a-eff7-626fa8df6af8"
      },
      "execution_count": 14,
      "outputs": [
        {
          "output_type": "stream",
          "name": "stdout",
          "text": [
            "3\n",
            "40 80 60\n",
            "75.0\n"
          ]
        }
      ]
    },
    {
      "cell_type": "code",
      "source": [
        "# 8958\n",
        "# OX퀴즈의 결과가 주어졌을 때, 점수를 구하는 프로그램을 작성하시오.\n",
        "\n",
        "a = int(input())\n",
        "\n",
        "for i in range(a) :\n",
        "  ox = list(input())\n",
        "  cnt = 0\n",
        "  sum_cnt = 0\n",
        "\n",
        "  for o in ox :\n",
        "    if o == 'O' :\n",
        "      cnt += 1\n",
        "      sum_cnt += cnt\n",
        "    \n",
        "    else :\n",
        "      cnt = 0\n",
        "\n",
        "  print(sum_cnt)"
      ],
      "metadata": {
        "colab": {
          "base_uri": "https://localhost:8080/"
        },
        "id": "nqimvBvRK2YL",
        "outputId": "1378e304-1970-49d9-db9f-729afad5c31f"
      },
      "execution_count": 17,
      "outputs": [
        {
          "output_type": "stream",
          "name": "stdout",
          "text": [
            "5\n",
            "OOXXOXXOOO\n",
            "10\n",
            "OOXXOOXXOO\n",
            "9\n",
            "OXOXOXOXOXOXOX\n",
            "7\n",
            "OOOOOOOOOO\n",
            "55\n",
            "OOOOXOOOOXOOOOX\n",
            "30\n"
          ]
        }
      ]
    },
    {
      "cell_type": "code",
      "source": [
        "# 4344\n",
        "# 각 케이스마다 한 줄씩 평균을 넘는 학생들의 비율을 반올림하여 소수점 셋째 자리까지 출력한다.\n",
        "\n",
        "a = int(input())\n",
        "\n",
        "for i in range(1, a + 1) :\n",
        "  num = list(map(int, input().split()))\n",
        "  num_mean = sum(num[1:]) / num[0]\n",
        "  cnt = 0\n",
        "\n",
        "  for o in num[1:] :\n",
        "    if o > num_mean :\n",
        "      cnt += 1\n",
        "\n",
        "  stu = (cnt / num[0]) * 100\n",
        "  print('%.3f' %stu + '%')"
      ],
      "metadata": {
        "colab": {
          "base_uri": "https://localhost:8080/"
        },
        "id": "P03te30zK3kX",
        "outputId": "91ccf781-e61d-41bd-ef43-e58e0e33741f"
      },
      "execution_count": 24,
      "outputs": [
        {
          "output_type": "stream",
          "name": "stdout",
          "text": [
            "5\n",
            "5 50 50 70 80 100\n",
            "40.000%\n",
            "7 100 95 90 80 70 60 50\n",
            "57.143%\n",
            "3 70 90 80\n",
            "33.333%\n",
            "3 70 90 81\n",
            "66.667%\n",
            "9 100 99 98 97 96 95 94 93 91\n",
            "55.556%\n"
          ]
        }
      ]
    }
  ]
}
