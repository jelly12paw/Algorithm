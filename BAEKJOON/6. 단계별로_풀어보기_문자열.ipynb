{
  "nbformat": 4,
  "nbformat_minor": 0,
  "metadata": {
    "colab": {
      "name": "단계별로_풀어보기_문자열.ipynb",
      "provenance": [],
      "authorship_tag": "ABX9TyPXV/UKUU6Lt6f8VUiK8N21",
      "include_colab_link": true
    },
    "kernelspec": {
      "name": "python3",
      "display_name": "Python 3"
    },
    "language_info": {
      "name": "python"
    }
  },
  "cells": [
    {
      "cell_type": "markdown",
      "metadata": {
        "id": "view-in-github",
        "colab_type": "text"
      },
      "source": [
        "<a href=\"https://colab.research.google.com/github/jelly12paw/Algorithm/blob/main/BAEKJOON/6.%20%EB%8B%A8%EA%B3%84%EB%B3%84%EB%A1%9C_%ED%92%80%EC%96%B4%EB%B3%B4%EA%B8%B0_%EB%AC%B8%EC%9E%90%EC%97%B4.ipynb\" target=\"_parent\"><img src=\"https://colab.research.google.com/assets/colab-badge.svg\" alt=\"Open In Colab\"/></a>"
      ]
    },
    {
      "cell_type": "markdown",
      "source": [
        "# BAEKJOON 단계별로 풀어보기"
      ],
      "metadata": {
        "id": "MAyFu0sHdFhS"
      }
    },
    {
      "cell_type": "markdown",
      "source": [
        "### 문자열"
      ],
      "metadata": {
        "id": "z6lqTVgldJIR"
      }
    },
    {
      "cell_type": "code",
      "execution_count": 1,
      "metadata": {
        "colab": {
          "base_uri": "https://localhost:8080/"
        },
        "id": "HA3K_eDWdBBV",
        "outputId": "12a2d7a9-7ca7-4a9a-dcbb-22b4c812e7d1"
      },
      "outputs": [
        {
          "output_type": "stream",
          "name": "stdout",
          "text": [
            "A\n",
            "65\n"
          ]
        }
      ],
      "source": [
        "# 11654\n",
        "# 알파벳 소문자, 대문자, 숫자 0-9중 하나가 주어졌을 때, 주어진 글자의 아스키 코드값을 출력하는 프로그램을 작성하시오.\n",
        "\n",
        "a = input()\n",
        "\n",
        "print(ord(a))"
      ]
    },
    {
      "cell_type": "code",
      "source": [
        "# 11720\n",
        "# N개의 숫자가 공백 없이 쓰여있다. 이 숫자를 모두 합해서 출력하는 프로그램을 작성하시오.\n",
        "\n",
        "a = input()\n",
        "b = input()\n",
        "\n",
        "sum = 0\n",
        "for i in b :\n",
        "  sum += int(i)\n",
        "\n",
        "print(sum)"
      ],
      "metadata": {
        "colab": {
          "base_uri": "https://localhost:8080/"
        },
        "id": "ikAHxmW0dUsi",
        "outputId": "85b87dc1-d75a-46d7-9c80-20fd70ea825c"
      },
      "execution_count": 10,
      "outputs": [
        {
          "output_type": "stream",
          "name": "stdout",
          "text": [
            "11\n",
            "10987654321\n",
            "46\n"
          ]
        }
      ]
    },
    {
      "cell_type": "code",
      "source": [
        "# 10809\n",
        "# 알파벳 소문자로만 이루어진 단어 S가 주어진다. 각각의 알파벳에 대해서, 단어에 포함되어 있는 경우에는 처음 등장하는 위치를, \n",
        "# 포함되어 있지 않은 경우에는 -1을 출력하는 프로그램을 작성하시오.\n",
        "\n",
        "S = 'abcdefghijklmnopqrstuvwxyz'\n",
        "a = input()\n",
        "\n",
        "for i in S :\n",
        "  if i in a :\n",
        "    print(a.index(i), end=' ')\n",
        "\n",
        "  else : \n",
        "    print(-1, end=' ')"
      ],
      "metadata": {
        "colab": {
          "base_uri": "https://localhost:8080/"
        },
        "id": "JqgT9z1Cdnz7",
        "outputId": "04d88269-aeb7-4e28-9e8a-9f7912437d46"
      },
      "execution_count": 16,
      "outputs": [
        {
          "output_type": "stream",
          "name": "stdout",
          "text": [
            "baekjoon\n",
            "1 0 -1 -1 2 -1 -1 -1 -1 4 3 -1 -1 7 5 -1 -1 -1 -1 -1 -1 -1 -1 -1 -1 -1 "
          ]
        }
      ]
    },
    {
      "cell_type": "code",
      "source": [
        "# 2675\n",
        "# 문자열 S를 입력받은 후에, 각 문자를 R번 반복해 새 문자열 P를 만든 후 출력하는 프로그램을 작성하시오.\n",
        "\n",
        "S = int(input())\n",
        "\n",
        "for i in range(S) :\n",
        "  a, b = input().split()\n",
        "\n",
        "  for o in b :\n",
        "    o = o * int(a)\n",
        "\n",
        "    print(o, end='')\n",
        "  print()"
      ],
      "metadata": {
        "colab": {
          "base_uri": "https://localhost:8080/"
        },
        "id": "g2i-LA3ZdpCF",
        "outputId": "abf0c468-6637-4d07-ae21-05399af51cc1"
      },
      "execution_count": 25,
      "outputs": [
        {
          "output_type": "stream",
          "name": "stdout",
          "text": [
            "2\n",
            "3 ABC\n",
            "AAABBBCCC\n",
            "5 /HTP\n",
            "/////HHHHHTTTTTPPPPP\n"
          ]
        }
      ]
    },
    {
      "cell_type": "code",
      "source": [
        "# 1157\n",
        "# 알파벳 대소문자로 된 단어가 주어지면, 이 단어에서 가장 많이 사용된 알파벳이 무엇인지 알아내는 프로그램을 작성하시오. 단, 대문자와 소문자를 구분하지 않는다.\n",
        "\n",
        "a = input().upper()\n",
        "a_list = list(set(a))\n",
        "cnt = []\n",
        "\n",
        "for i in a_list :\n",
        "  a_cnt = a.count(i)\n",
        "  cnt.append(a_cnt)\n",
        "\n",
        "if cnt.count(max(cnt)) >= 2 :\n",
        "  print('?')\n",
        "\n",
        "else :\n",
        "  print(a_list[(cnt.index(max(cnt)))])"
      ],
      "metadata": {
        "colab": {
          "base_uri": "https://localhost:8080/"
        },
        "id": "lcAi-bK0dqKM",
        "outputId": "96736cd4-3f6a-4f08-c316-e28388378457"
      },
      "execution_count": 33,
      "outputs": [
        {
          "output_type": "stream",
          "name": "stdout",
          "text": [
            "Mississipi\n",
            "?\n"
          ]
        }
      ]
    },
    {
      "cell_type": "code",
      "source": [
        "# 1152\n",
        "# 영어 대소문자와 공백으로 이루어진 문자열이 주어진다. 이 문자열에는 몇 개의 단어가 있을까? 이를 구하는 프로그램을 작성하시오.\n",
        "\n",
        "word = input().split()\n",
        "\n",
        "print(len(word))"
      ],
      "metadata": {
        "colab": {
          "base_uri": "https://localhost:8080/"
        },
        "id": "QAIFNXCEdrdN",
        "outputId": "6d40f4e3-d227-4eae-98ac-27c5bc0028f7"
      },
      "execution_count": 1,
      "outputs": [
        {
          "output_type": "stream",
          "name": "stdout",
          "text": [
            "The Curious Case of Benjamin Button\n",
            "6\n"
          ]
        }
      ]
    },
    {
      "cell_type": "code",
      "source": [
        "# 2908\n",
        "# 첫째 줄에 상근이가 칠판에 적은 두 수 A와 B가 주어진다. 두 수는 같지 않은 세 자리 수이며, 0이 포함되어 있지 않다.\n",
        "\n",
        "num = input().split()\n",
        "\n",
        "num_list = []\n",
        "\n",
        "for i in num :\n",
        "  i = i[: :-1]\n",
        "  num_list.append(int(i))\n",
        "\n",
        "print(max(num_list))"
      ],
      "metadata": {
        "colab": {
          "base_uri": "https://localhost:8080/"
        },
        "id": "ugEr2Rw9dtdr",
        "outputId": "a1eae711-f2a0-4765-bbce-bfc83d1df125"
      },
      "execution_count": 5,
      "outputs": [
        {
          "output_type": "stream",
          "name": "stdout",
          "text": [
            "734 893\n",
            "437\n"
          ]
        }
      ]
    },
    {
      "cell_type": "code",
      "source": [
        "# 5622\n",
        "# 첫째 줄에 알파벳 대문자로 이루어진 단어가 주어진다. 단어의 길이는 2보다 크거나 같고, 15보다 작거나 같다.\n",
        "\n",
        "alpa = ['ABC', 'DEF', 'GHI', 'JKL', 'MNO', 'PQRS', 'TUV', 'XWYZ']\n",
        "word = input()\n",
        "\n",
        "cnt = 0\n",
        "for alpa_cnt in alpa :\n",
        "  for i in word :\n",
        "    if i in alpa_cnt :\n",
        "\n",
        "      cnt += alpa.index(alpa_cnt) + 3\n",
        "\n",
        "print(cnt)"
      ],
      "metadata": {
        "colab": {
          "base_uri": "https://localhost:8080/"
        },
        "id": "9UrNcBfYduxj",
        "outputId": "eec675ca-9e5e-4239-a0c6-dea692e73f7f"
      },
      "execution_count": 6,
      "outputs": [
        {
          "output_type": "stream",
          "name": "stdout",
          "text": [
            "WA\n",
            "13\n"
          ]
        }
      ]
    },
    {
      "cell_type": "code",
      "source": [
        "# 2941\n",
        "#  ljes=njak은 크로아티아 알파벳 6개(lj, e, š, nj, a, k)로 이루어져 있다. 단어가 주어졌을 때, 몇 개의 크로아티아 알파벳으로 이루어져 있는지 출력한다.\n",
        "\n",
        "cro = ['c=', 'c-', 'dz=', 'd-', 'lj', 'nj', 's=', 'z=']\n",
        "word = input()\n",
        "\n",
        "for i in cro :\n",
        "  word = word.replace(i, '*')\n",
        "\n",
        "print(len(word))"
      ],
      "metadata": {
        "colab": {
          "base_uri": "https://localhost:8080/"
        },
        "id": "2jX0tUyOdv6d",
        "outputId": "957cf47a-9c72-483b-82a7-60f1d7a71dc3"
      },
      "execution_count": 11,
      "outputs": [
        {
          "output_type": "stream",
          "name": "stdout",
          "text": [
            "ljes=njak\n",
            "6\n"
          ]
        }
      ]
    },
    {
      "cell_type": "code",
      "source": [
        "# 1316\n",
        "# 단어 N개를 입력으로 받아 그룹 단어의 개수를 출력하는 프로그램을 작성하시오.\n",
        "\n",
        "num = int(input())\n",
        "\n",
        "word_cnt = 0\n",
        "for i in range(num) :\n",
        "  word = input()\n",
        "  cnt = 0\n",
        "\n",
        "  for index in range(len(word)-1) :\n",
        "    if word[index] != word[index + 1] :\n",
        "      new = word[index + 1 :]\n",
        "\n",
        "      if new.count(word[index]) > 0 :\n",
        "        cnt += 1\n",
        "\n",
        "  if cnt == 0 :\n",
        "    word_cnt += 1\n",
        "\n",
        "print(word_cnt)"
      ],
      "metadata": {
        "colab": {
          "base_uri": "https://localhost:8080/"
        },
        "id": "j5sKq4_3dxQC",
        "outputId": "95f5c44c-4733-4dff-924d-d772af7224ad"
      },
      "execution_count": 13,
      "outputs": [
        {
          "output_type": "stream",
          "name": "stdout",
          "text": [
            "3\n",
            "happy\n",
            "new\n",
            "year\n",
            "3\n"
          ]
        }
      ]
    }
  ]
}