{
  "nbformat": 4,
  "nbformat_minor": 0,
  "metadata": {
    "colab": {
      "name": "단계별로 풀어보기_입출력과 사칙연산.ipynb",
      "provenance": [],
      "collapsed_sections": [],
      "authorship_tag": "ABX9TyPSFYkOrBMgPMLVJol35Ugw",
      "include_colab_link": true
    },
    "kernelspec": {
      "name": "python3",
      "display_name": "Python 3"
    },
    "language_info": {
      "name": "python"
    }
  },
  "cells": [
    {
      "cell_type": "markdown",
      "metadata": {
        "id": "view-in-github",
        "colab_type": "text"
      },
      "source": [
        "<a href=\"https://colab.research.google.com/github/jelly12paw/Algorithm/blob/main/BAEKJOON/%EB%8B%A8%EA%B3%84%EB%B3%84%EB%A1%9C_%ED%92%80%EC%96%B4%EB%B3%B4%EA%B8%B0_%EC%9E%85%EC%B6%9C%EB%A0%A5%EA%B3%BC_%EC%82%AC%EC%B9%99%EC%97%B0%EC%82%B0.ipynb\" target=\"_parent\"><img src=\"https://colab.research.google.com/assets/colab-badge.svg\" alt=\"Open In Colab\"/></a>"
      ]
    },
    {
      "cell_type": "markdown",
      "source": [
        "# BAEKJOON 단계별로 풀어보기"
      ],
      "metadata": {
        "id": "lzzgkj7WE2TU"
      }
    },
    {
      "cell_type": "markdown",
      "source": [
        "### 입출력과 사칙연산"
      ],
      "metadata": {
        "id": "lOA5iaEPE8hZ"
      }
    },
    {
      "cell_type": "code",
      "execution_count": 1,
      "metadata": {
        "colab": {
          "base_uri": "https://localhost:8080/"
        },
        "id": "0u_kQcCqEbyX",
        "outputId": "bcf6a7f4-6888-4846-f80c-ed611bf9c62d"
      },
      "outputs": [
        {
          "output_type": "stream",
          "name": "stdout",
          "text": [
            "Hello World!\n"
          ]
        }
      ],
      "source": [
        "# 2557\n",
        "# Hello World!를 화면에 출력하는 문제\n",
        "\n",
        "print('Hello World!')"
      ]
    },
    {
      "cell_type": "code",
      "source": [
        "# 10718\n",
        "# 두 줄에 걸쳐 \"강한친구 대한육군\"을 한 줄에 한 번씩 출력한다.\n",
        "\n",
        "print('강한친구 대한육군')\n",
        "print('강한친구 대한육군')"
      ],
      "metadata": {
        "colab": {
          "base_uri": "https://localhost:8080/"
        },
        "id": "xDaLI9olFLlV",
        "outputId": "29f14fdd-1dae-46bd-ce61-cb93f8551591"
      },
      "execution_count": 15,
      "outputs": [
        {
          "output_type": "stream",
          "name": "stdout",
          "text": [
            "강한친구 대한육군\n",
            "강한친구 대한육군\n"
          ]
        }
      ]
    },
    {
      "cell_type": "code",
      "source": [
        "# 10171\n",
        "# 고양이를 출력한다.\n",
        "\n",
        "print('\\\\    /\\\\')\n",
        "print(' )  ( \\')')\n",
        "print('(  /  )')\n",
        "print(' \\(__)|')"
      ],
      "metadata": {
        "colab": {
          "base_uri": "https://localhost:8080/"
        },
        "id": "R9wME_1tFN6P",
        "outputId": "0c19cd10-b14f-4373-c0ce-037f6b740f52"
      },
      "execution_count": 17,
      "outputs": [
        {
          "output_type": "stream",
          "name": "stdout",
          "text": [
            "\\    /\\\n",
            " )  ( ')\n",
            "(  /  )\n",
            " \\(__)|\n"
          ]
        }
      ]
    },
    {
      "cell_type": "code",
      "source": [
        "# 10172\n",
        "# 개를 출력한다.\n",
        "\n",
        "print('|\\\\_/|')\n",
        "print('|q p|   /}')\n",
        "print('( 0 )\"\"\"\\\\')\n",
        "print('|\\\"^\\\"`    |')\n",
        "print('||_/=\\\\\\\\__|')"
      ],
      "metadata": {
        "colab": {
          "base_uri": "https://localhost:8080/"
        },
        "id": "C1VYFZNCFQGO",
        "outputId": "f4f7bdf3-dbbe-4edc-c90b-e7e049555d04"
      },
      "execution_count": 21,
      "outputs": [
        {
          "output_type": "stream",
          "name": "stdout",
          "text": [
            "|\\_/|\n",
            "|q p|   /}\n",
            "( 0 )\"\"\"\\\n",
            "|\"^\"`    |\n",
            "||_/=\\\\__|\n"
          ]
        }
      ]
    },
    {
      "cell_type": "code",
      "source": [
        "# 1000\n",
        "# 두 정수 A와 B를 입력받은 다음, A+B를 출력하는 프로그램을 작성하시오.\n",
        "\n",
        "a, b = map(int, input().split())\n",
        "\n",
        "print(a + b)"
      ],
      "metadata": {
        "colab": {
          "base_uri": "https://localhost:8080/"
        },
        "id": "5datBQHjFRxh",
        "outputId": "2db21786-59f1-475f-9fd0-4215d70360eb"
      },
      "execution_count": 22,
      "outputs": [
        {
          "output_type": "stream",
          "name": "stdout",
          "text": [
            "1 2\n",
            "3\n"
          ]
        }
      ]
    },
    {
      "cell_type": "code",
      "source": [
        "# 1001\n",
        "# 두 정수 A와 B를 입력받은 다음, A-B를 출력하는 프로그램을 작성하시오.\n",
        "\n",
        "a, b = map(int, input().split())\n",
        "\n",
        "print(a - b)"
      ],
      "metadata": {
        "colab": {
          "base_uri": "https://localhost:8080/"
        },
        "id": "i4uyV4WDFTK2",
        "outputId": "00c865f2-8b1a-4639-a017-7c4c100ff098"
      },
      "execution_count": 23,
      "outputs": [
        {
          "output_type": "stream",
          "name": "stdout",
          "text": [
            " 3 2\n",
            "1\n"
          ]
        }
      ]
    },
    {
      "cell_type": "code",
      "source": [
        "# 10998\n",
        "# 두 정수 A와 B를 입력받은 다음, A×B를 출력하는 프로그램을 작성하시오.\n",
        "\n",
        "a, b = map(int, input().split())\n",
        "\n",
        "print(a * b)"
      ],
      "metadata": {
        "colab": {
          "base_uri": "https://localhost:8080/"
        },
        "id": "BR2PJPzWFVwe",
        "outputId": "45872fe6-6f6e-4606-a76f-6bc4159dcb7c"
      },
      "execution_count": 24,
      "outputs": [
        {
          "output_type": "stream",
          "name": "stdout",
          "text": [
            "1 2\n",
            "2\n"
          ]
        }
      ]
    },
    {
      "cell_type": "code",
      "source": [
        "# 1008\n",
        "# 두 정수 A와 B를 입력받은 다음, A/B를 출력하는 프로그램을 작성하시오.\n",
        "\n",
        "a, b = map(int, input().split())\n",
        "\n",
        "print(a / b)"
      ],
      "metadata": {
        "colab": {
          "base_uri": "https://localhost:8080/"
        },
        "id": "_tAgH_jEFYII",
        "outputId": "315da018-f7f6-4fb8-a952-21b4cca56101"
      },
      "execution_count": 25,
      "outputs": [
        {
          "output_type": "stream",
          "name": "stdout",
          "text": [
            "1 3\n",
            "0.3333333333333333\n"
          ]
        }
      ]
    },
    {
      "cell_type": "code",
      "source": [
        "# 10869\n",
        "# 두 자연수 A와 B가 주어진다. 이때, A+B, A-B, A*B, A/B(몫), A%B(나머지)를 출력하는 프로그램을 작성하시오. \n",
        "\n",
        "a, b = map(int, input().split())\n",
        "\n",
        "print(a + b)\n",
        "print(a - b)\n",
        "print(a * b)\n",
        "print(a // b)\n",
        "print(a % b)"
      ],
      "metadata": {
        "colab": {
          "base_uri": "https://localhost:8080/"
        },
        "id": "rwlKAru8FZlt",
        "outputId": "3dd14b3c-b0da-443e-ef50-a868dcb0ccf0"
      },
      "execution_count": 28,
      "outputs": [
        {
          "output_type": "stream",
          "name": "stdout",
          "text": [
            "7 3\n",
            "10\n",
            "4\n",
            "21\n",
            "2\n",
            "1\n"
          ]
        }
      ]
    },
    {
      "cell_type": "code",
      "source": [
        "# 10926\n",
        "# 첫째 줄에 준하의 놀람을 출력한다. 놀람은 아이디 뒤에 ??!를 붙여서 나타낸다.\n",
        "\n",
        "a = input()\n",
        "\n",
        "print(a, end='??!')"
      ],
      "metadata": {
        "colab": {
          "base_uri": "https://localhost:8080/"
        },
        "id": "5VBy-bcwFa-9",
        "outputId": "ea8adaef-ac15-4896-8d7f-a50db0cd575a"
      },
      "execution_count": 29,
      "outputs": [
        {
          "output_type": "stream",
          "name": "stdout",
          "text": [
            "joonas\n",
            "joonas??!"
          ]
        }
      ]
    },
    {
      "cell_type": "code",
      "source": [
        "# 18108\n",
        "# 불기 연도를 서기 연도로 변환한 결과를 출력한다.\n",
        "\n",
        "a = int(input())\n",
        "\n",
        "print(a - 543)"
      ],
      "metadata": {
        "colab": {
          "base_uri": "https://localhost:8080/"
        },
        "id": "-p3gVHPpFchm",
        "outputId": "d8b0d977-e03f-48e2-847b-1d8058eb4eb7"
      },
      "execution_count": 30,
      "outputs": [
        {
          "output_type": "stream",
          "name": "stdout",
          "text": [
            "2541\n",
            "1998\n"
          ]
        }
      ]
    },
    {
      "cell_type": "code",
      "source": [
        "# 10430\n",
        "# 첫째 줄에 (A+B)%C, 둘째 줄에 ((A%C) + (B%C))%C, 셋째 줄에 (A×B)%C, 넷째 줄에 ((A%C) × (B%C))%C를 출력한다.\n",
        "\n",
        "a, b, c = map(int, input().split())\n",
        "\n",
        "print((a + b) % c)\n",
        "print(((a % c) + (b % c)) % c)\n",
        "print((a * b) % c)\n",
        "print(((a % c) * (b % c)) % c)"
      ],
      "metadata": {
        "colab": {
          "base_uri": "https://localhost:8080/"
        },
        "id": "REI4wChTFeR6",
        "outputId": "560025ca-aefc-450f-b28c-cbd3b650becf"
      },
      "execution_count": 31,
      "outputs": [
        {
          "output_type": "stream",
          "name": "stdout",
          "text": [
            "5 8 4\n",
            "1\n",
            "1\n",
            "0\n",
            "0\n"
          ]
        }
      ]
    },
    {
      "cell_type": "code",
      "source": [
        "# 2588\n",
        "# (세 자리 수) × (세 자리 수) 계산의 첫째 줄부터 넷째 줄까지 차례대로 (3), (4), (5), (6)에 들어갈 값을 출력한다.\n",
        "\n",
        "a = int(input())\n",
        "b = input()\n",
        "\n",
        "print(a * int(b[2]))\n",
        "print(a * int(b[1]))\n",
        "print(a * int(b[0]))\n",
        "print(a * int(b))"
      ],
      "metadata": {
        "colab": {
          "base_uri": "https://localhost:8080/"
        },
        "id": "6hWJZN5ZFgOk",
        "outputId": "fa9e9a5f-9ed0-4227-fa6c-c6c56e3f311d"
      },
      "execution_count": 33,
      "outputs": [
        {
          "output_type": "stream",
          "name": "stdout",
          "text": [
            "472\n",
            "385\n",
            "2360\n",
            "3776\n",
            "1416\n",
            "181720\n"
          ]
        }
      ]
    },
    {
      "cell_type": "code",
      "source": [
        "# 25083\n",
        "# 새싹을 출력한다.\n",
        "\n",
        "print('         ,r\\'\\\"7')\n",
        "print('r`-_   ,\\'  ,/')\n",
        "print(' \\\\. \\\". L_r\\'')\n",
        "print('   `~\\\\/')\n",
        "print('      |')\n",
        "print('      |')"
      ],
      "metadata": {
        "colab": {
          "base_uri": "https://localhost:8080/"
        },
        "id": "Z2U0ziGkFitA",
        "outputId": "3292b67b-71d9-4f5c-a275-a3fd20d9cff4"
      },
      "execution_count": 35,
      "outputs": [
        {
          "output_type": "stream",
          "name": "stdout",
          "text": [
            "         ,r'\"7\n",
            "r`-_   ,'  ,/\n",
            " \\. \". L_r'\n",
            "   `~\\/\n",
            "      |\n",
            "      |\n"
          ]
        }
      ]
    },
    {
      "cell_type": "code",
      "source": [
        "# 10699\n",
        "# 서울의 오늘 날짜를 \"YYYY-MM-DD\" 형식으로 출력한다.\n",
        "\n",
        "import datetime\n",
        "\n",
        "print(str(datetime.datetime.now())[:10])"
      ],
      "metadata": {
        "colab": {
          "base_uri": "https://localhost:8080/"
        },
        "id": "pgiEx20RSROO",
        "outputId": "f177ee2b-375d-45c1-fef7-4b1ce69de008"
      },
      "execution_count": 45,
      "outputs": [
        {
          "output_type": "stream",
          "name": "stdout",
          "text": [
            "2022-07-18\n"
          ]
        }
      ]
    },
    {
      "cell_type": "code",
      "source": [
        "# 7287\n",
        "# 첫 줄에 자신이 맞은 문제의 수, 둘째 줄에 아이디를 출력한다.\n",
        "\n",
        "print('내가 맞은 문제 개수')\n",
        "print('자신의 백준 ID')"
      ],
      "metadata": {
        "colab": {
          "base_uri": "https://localhost:8080/"
        },
        "id": "mGjGTsXPUErp",
        "outputId": "9da0a3aa-cba4-41be-9bc5-b1ea9f28a202"
      },
      "execution_count": 49,
      "outputs": [
        {
          "output_type": "stream",
          "name": "stdout",
          "text": [
            "내가 맞은 문제 개수\n",
            "자신의 백준 ID\n"
          ]
        }
      ]
    },
    {
      "cell_type": "code",
      "source": [
        "# 11382\n",
        "# A+B+C의 값을 출력한다.\n",
        "\n",
        "a, b, c = map(int, input().split())\n",
        "\n",
        "print(a + b + c)"
      ],
      "metadata": {
        "colab": {
          "base_uri": "https://localhost:8080/"
        },
        "id": "Z2HnDd8dYmb1",
        "outputId": "8b047d36-7de9-4a17-fcb2-00da57c70d40"
      },
      "execution_count": 50,
      "outputs": [
        {
          "output_type": "stream",
          "name": "stdout",
          "text": [
            "77 77 7777\n",
            "7931\n"
          ]
        }
      ]
    }
  ]
}
