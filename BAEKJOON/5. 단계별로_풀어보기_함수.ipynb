{
  "nbformat": 4,
  "nbformat_minor": 0,
  "metadata": {
    "colab": {
      "name": "단계별로_풀어보기_함수.ipynb",
      "provenance": [],
      "authorship_tag": "ABX9TyPFo+n56R0UkdIlmzTcyGzp",
      "include_colab_link": true
    },
    "kernelspec": {
      "name": "python3",
      "display_name": "Python 3"
    },
    "language_info": {
      "name": "python"
    }
  },
  "cells": [
    {
      "cell_type": "markdown",
      "metadata": {
        "id": "view-in-github",
        "colab_type": "text"
      },
      "source": [
        "<a href=\"https://colab.research.google.com/github/jelly12paw/Algorithm/blob/main/%EB%8B%A8%EA%B3%84%EB%B3%84%EB%A1%9C_%ED%92%80%EC%96%B4%EB%B3%B4%EA%B8%B0_%ED%95%A8%EC%88%98.ipynb\" target=\"_parent\"><img src=\"https://colab.research.google.com/assets/colab-badge.svg\" alt=\"Open In Colab\"/></a>"
      ]
    },
    {
      "cell_type": "markdown",
      "source": [
        "# BAEKJOON 단계별로 풀어보기"
      ],
      "metadata": {
        "id": "-lfCKYZ_Qnub"
      }
    },
    {
      "cell_type": "markdown",
      "source": [
        "### 함수"
      ],
      "metadata": {
        "id": "kHIPPCxTQrns"
      }
    },
    {
      "cell_type": "code",
      "source": [
        "# 15596\n",
        "# a: 합을 구해야 하는 정수 n개가 저장되어 있는 리스트\n",
        "# 리턴값: a에 포함되어 있는 정수 n개의 합 (정수)\n",
        "# 런타임 에러 코드\n",
        "def sum_a(a_sum) :\n",
        "\n",
        "  a = []\n",
        "  \n",
        "  for i in range(a_sum + 1) :\n",
        "    a.append(i)\n",
        "\n",
        "  return sum(a)\n",
        "\n",
        "print(sum_a(10))"
      ],
      "metadata": {
        "colab": {
          "base_uri": "https://localhost:8080/"
        },
        "id": "8ez_PbSq92GS",
        "outputId": "0a819903-c2d5-49a4-b2d8-95dd1b9ceee4"
      },
      "execution_count": 2,
      "outputs": [
        {
          "output_type": "stream",
          "name": "stdout",
          "text": [
            "55\n"
          ]
        }
      ]
    },
    {
      "cell_type": "code",
      "source": [
        "# 15596\n",
        "# 정답 코드\n",
        "\n",
        "def solve(a) :\n",
        "\n",
        "    ans = sum(a)\n",
        "    return ans\n",
        "\n",
        "print(solve([1, 2, 3]))"
      ],
      "metadata": {
        "colab": {
          "base_uri": "https://localhost:8080/"
        },
        "id": "szkImzEBSEOS",
        "outputId": "484a4f5d-1a9c-4856-ff08-dbe1f11930cb"
      },
      "execution_count": 3,
      "outputs": [
        {
          "output_type": "stream",
          "name": "stdout",
          "text": [
            "6\n"
          ]
        }
      ]
    },
    {
      "cell_type": "code",
      "source": [
        "# 4673\n",
        "# 10000보다 작거나 같은 셀프 넘버를 한 줄에 하나씩 출력하는 프로그램을 작성하시오.\n",
        "\n",
        "def self_num(num) :\n",
        "\n",
        "  for i in list(str(num)) :\n",
        "    num += int(i)\n",
        "\n",
        "  return num\n",
        "\n",
        "num_list = []\n",
        "\n",
        "for i in range(10000) :\n",
        "  num_list.append(self_num(i))\n",
        "\n",
        "for o in range(10000) :\n",
        "  if o in num_list :\n",
        "    pass\n",
        "\n",
        "  else :\n",
        "    print(o)\n",
        "\n",
        "self_num(10000)"
      ],
      "metadata": {
        "colab": {
          "base_uri": "https://localhost:8080/"
        },
        "id": "ZVKkyWrERlZo",
        "outputId": "3282bb72-94cd-4aa3-fb28-428f8b5c3a07"
      },
      "execution_count": 24,
      "outputs": [
        {
          "output_type": "stream",
          "name": "stdout",
          "text": [
            "1\n",
            "3\n",
            "5\n",
            "7\n",
            "9\n",
            "20\n",
            "31\n",
            "42\n",
            "53\n",
            "64\n",
            "75\n",
            "86\n",
            "97\n",
            "108\n",
            "110\n",
            "121\n",
            "132\n",
            "143\n",
            "154\n",
            "165\n",
            "176\n",
            "187\n",
            "198\n",
            "209\n",
            "211\n",
            "222\n",
            "233\n",
            "244\n",
            "255\n",
            "266\n",
            "277\n",
            "288\n",
            "299\n",
            "310\n",
            "312\n",
            "323\n",
            "334\n",
            "345\n",
            "356\n",
            "367\n",
            "378\n",
            "389\n",
            "400\n",
            "411\n",
            "413\n",
            "424\n",
            "435\n",
            "446\n",
            "457\n",
            "468\n",
            "479\n",
            "490\n",
            "501\n",
            "512\n",
            "514\n",
            "525\n",
            "536\n",
            "547\n",
            "558\n",
            "569\n",
            "580\n",
            "591\n",
            "602\n",
            "613\n",
            "615\n",
            "626\n",
            "637\n",
            "648\n",
            "659\n",
            "670\n",
            "681\n",
            "692\n",
            "703\n",
            "714\n",
            "716\n",
            "727\n",
            "738\n",
            "749\n",
            "760\n",
            "771\n",
            "782\n",
            "793\n",
            "804\n",
            "815\n",
            "817\n",
            "828\n",
              
             # 중략
             
            "9567\n",
            "9578\n",
            "9589\n",
            "9600\n",
            "9611\n",
            "9622\n",
            "9624\n",
            "9635\n",
            "9646\n",
            "9657\n",
            "9668\n",
            "9679\n",
            "9690\n",
            "9701\n",
            "9712\n",
            "9723\n",
            "9725\n",
            "9736\n",
            "9747\n",
            "9758\n",
            "9769\n",
            "9780\n",
            "9791\n",
            "9802\n",
            "9813\n",
            "9824\n",
            "9826\n",
            "9837\n",
            "9848\n",
            "9859\n",
            "9870\n",
            "9881\n",
            "9892\n",
            "9903\n",
            "9914\n",
            "9925\n",
            "9927\n",
            "9938\n",
            "9949\n",
            "9960\n",
            "9971\n",
            "9982\n",
            "9993\n"
          ]
        },
        {
          "output_type": "execute_result",
          "data": {
            "text/plain": [
              "10001"
            ]
          },
          "metadata": {},
          "execution_count": 24
        }
      ]
    },
    {
      "cell_type": "code",
      "source": [
        "# 1065\n",
        "# 첫째 줄에 1보다 크거나 같고, N보다 작거나 같은 한수의 개수를 출력한다.\n",
        "# 채점 상 오답 코드\n",
        "\n",
        "def num(a) :\n",
        "\n",
        "  cnt = 0\n",
        "\n",
        "  for i in range(1, a + 1) :\n",
        "    num_list = list(map(int, str(i)))\n",
        "\n",
        "    if i < 100 :\n",
        "      cnt += 1\n",
        "\n",
        "    elif num_list[0] - num_list[1] == num_list[1] - num_list[2] :\n",
        "      cnt += 1\n",
        "\n",
        "  return cnt\n",
        "\n",
        "print(num(1))\n",
        "print(num(210))\n",
        "print(num(1000))\n",
        "print(num(500))"
      ],
      "metadata": {
        "colab": {
          "base_uri": "https://localhost:8080/"
        },
        "id": "LcBAPxXlS8P3",
        "outputId": "29d9449a-afc5-4f00-e883-408f3c021a7f"
      },
      "execution_count": 27,
      "outputs": [
        {
          "output_type": "stream",
          "name": "stdout",
          "text": [
            "1\n",
            "105\n",
            "144\n",
            "119\n"
          ]
        }
      ]
    },
    {
      "cell_type": "code",
      "source": [
        "# 1065\n",
        "# 채점 상 정답 코드\n",
        "\n",
        "num = int(input())\n",
        "\n",
        "cnt = 0\n",
        "for i in range(1, num + 1):\n",
        "    num_list = list(map(int, str(i)))\n",
        "    \n",
        "    if i < 100:\n",
        "        cnt += 1  \n",
        "\n",
        "    elif num_list[0] - num_list[1] == num_list[1] - num_list[2]:\n",
        "        cnt += 1  \n",
        "        \n",
        "print(cnt)"
      ],
      "metadata": {
        "colab": {
          "base_uri": "https://localhost:8080/"
        },
        "id": "EQ8TvCASdhSd",
        "outputId": "4f2b4943-2005-49bb-92ed-e9a6b06636c0"
      },
      "execution_count": 28,
      "outputs": [
        {
          "output_type": "stream",
          "name": "stdout",
          "text": [
            "1000\n",
            "144\n"
          ]
        }
      ]
    }
  ]
}
