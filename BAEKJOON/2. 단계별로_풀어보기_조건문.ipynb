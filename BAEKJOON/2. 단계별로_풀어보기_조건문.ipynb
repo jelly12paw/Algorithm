{
  "nbformat": 4,
  "nbformat_minor": 0,
  "metadata": {
    "colab": {
      "name": "단계별로_풀어보기_조건문.ipynb",
      "provenance": [],
      "authorship_tag": "ABX9TyOvPT+P++1c4oMGg0Cl8MK9",
      "include_colab_link": true
    },
    "kernelspec": {
      "name": "python3",
      "display_name": "Python 3"
    },
    "language_info": {
      "name": "python"
    }
  },
  "cells": [
    {
      "cell_type": "markdown",
      "metadata": {
        "id": "view-in-github",
        "colab_type": "text"
      },
      "source": [
        "<a href=\"https://colab.research.google.com/github/jelly12paw/Algorithm/blob/main/BAEKJOON/%EB%8B%A8%EA%B3%84%EB%B3%84%EB%A1%9C_%ED%92%80%EC%96%B4%EB%B3%B4%EA%B8%B0_%EC%A1%B0%EA%B1%B4%EB%AC%B8.ipynb\" target=\"_parent\"><img src=\"https://colab.research.google.com/assets/colab-badge.svg\" alt=\"Open In Colab\"/></a>"
      ]
    },
    {
      "cell_type": "markdown",
      "source": [
        "# BAEKJOON 단계별로 풀어보기"
      ],
      "metadata": {
        "id": "lxTHkdsyDXtz"
      }
    },
    {
      "cell_type": "markdown",
      "source": [
        "### 조건문"
      ],
      "metadata": {
        "id": "P56gN9IIDcbn"
      }
    },
    {
      "cell_type": "code",
      "execution_count": 7,
      "metadata": {
        "colab": {
          "base_uri": "https://localhost:8080/"
        },
        "id": "Hiy0oCytDNNj",
        "outputId": "2ef88f1a-aaf6-43d3-9644-a6ba935608c4"
      },
      "outputs": [
        {
          "output_type": "stream",
          "name": "stdout",
          "text": [
            "1 2\n",
            "<\n"
          ]
        }
      ],
      "source": [
        "# 1330\n",
        "\n",
        "# A가 B보다 큰 경우에는 '>'를 출력한다. \n",
        "# A가 B보다 작은 경우에는 '<'를 출력한다. \n",
        "# A와 B가 같은 경우에는 '=='를 출력한다.\n",
        "\n",
        "a, b = map(int, input().split())\n",
        "\n",
        "if a > b :\n",
        "  print('>')\n",
        "\n",
        "elif a == b :\n",
        "  print('==')\n",
        "\n",
        "else :\n",
        "  print('<')"
      ]
    },
    {
      "cell_type": "code",
      "source": [
        "# 9498\n",
        "# 시험 점수를 입력받아 90 ~ 100점은 A, 80 ~ 89점은 B, 70 ~ 79점은 C, 60 ~ 69점은 D, 나머지 점수는 F를 출력하는 프로그램을 작성하시오.\n",
        "\n",
        "a = int(input())\n",
        "\n",
        "if a >= 90 :\n",
        "  print('A')\n",
        "\n",
        "elif a >= 80 :\n",
        "  print('B')\n",
        "\n",
        "elif a >= 70 :\n",
        "  print('C')\n",
        "\n",
        "elif a >= 60 :\n",
        "  print('D')\n",
        "\n",
        "else :\n",
        "  print('F')"
      ],
      "metadata": {
        "colab": {
          "base_uri": "https://localhost:8080/"
        },
        "id": "jVgMCOtdDmRS",
        "outputId": "3409fb92-dc08-41b0-cdff-37a54e580897"
      },
      "execution_count": 10,
      "outputs": [
        {
          "output_type": "stream",
          "name": "stdout",
          "text": [
            "100\n",
            "A\n"
          ]
        }
      ]
    },
    {
      "cell_type": "code",
      "source": [
        "# 2753\n",
        "# 연도가 주어졌을 때, 윤년이면 1, 아니면 0을 출력하는 프로그램을 작성하시오.\n",
        "\n",
        "a = int(input())\n",
        "\n",
        "if a % 4 == 0 and (a % 100 != 0 or a % 400 == 0) :\n",
        "  print(1)\n",
        "\n",
        "else :\n",
        "  print(0)"
      ],
      "metadata": {
        "colab": {
          "base_uri": "https://localhost:8080/"
        },
        "id": "vUmtfxbgDnV6",
        "outputId": "c033558b-0d82-4422-f62f-580e515992e2"
      },
      "execution_count": 18,
      "outputs": [
        {
          "output_type": "stream",
          "name": "stdout",
          "text": [
            "2000\n",
            "1\n"
          ]
        }
      ]
    },
    {
      "cell_type": "code",
      "source": [
        "# 14681\n",
        "\n",
        "x = int(input())\n",
        "y = int(input())\n",
        "\n",
        "if x > 0 and y > 0 :\n",
        "  print(1)\n",
        "\n",
        "elif x > 0 and y < 0 :\n",
        "  print(4)\n",
        "\n",
        "elif x < 0 and y > 0 :\n",
        "  print(2)\n",
        "\n",
        "else :\n",
        "  print(3)"
      ],
      "metadata": {
        "colab": {
          "base_uri": "https://localhost:8080/"
        },
        "id": "0Z_CCWBzDovQ",
        "outputId": "3ba8c1e1-1fa5-4606-a009-e6f1e7676b66"
      },
      "execution_count": 19,
      "outputs": [
        {
          "output_type": "stream",
          "name": "stdout",
          "text": [
            "12\n",
            "5\n",
            "1\n"
          ]
        }
      ]
    },
    {
      "cell_type": "code",
      "source": [
        "# 2884\n",
        "# 첫째 줄에 두 정수 H와 M이 주어진다. 45분 일찍 알람 설정하기\n",
        "\n",
        "H, M = map(int, input().split())\n",
        "\n",
        "if M < 45 :\n",
        "  if H == 0 :\n",
        "    \n",
        "    H = 23\n",
        "    M += 60\n",
        "\n",
        "  else :\n",
        "    H -= 1\n",
        "    M += 60\n",
        "\n",
        "print(H, M - 45)"
      ],
      "metadata": {
        "colab": {
          "base_uri": "https://localhost:8080/"
        },
        "id": "GpnjEWyVDp0i",
        "outputId": "47490b61-53e7-4f1f-9805-0f8858e52455"
      },
      "execution_count": 24,
      "outputs": [
        {
          "output_type": "stream",
          "name": "stdout",
          "text": [
            "10 30\n",
            "9 45\n"
          ]
        }
      ]
    },
    {
      "cell_type": "code",
      "source": [
        "# 2525\n",
        "# 첫째 줄에는 현재 시각이 나온다. 현재 시각은 시 A (0 ≤ A ≤ 23) 와 분 B (0 ≤ B ≤ 59)가 정수로 빈칸을 사이에 두고 순서대로 주어진다. \n",
        "# 두 번째 줄에는 요리하는 데 필요한 시간 C (0 ≤ C ≤ 1,000)가 분 단위로 주어진다.\n",
        "# 채점 상 오답 코드\n",
        "\n",
        "\n",
        "H, M = map(int, input().split())\n",
        "fin = int(input())\n",
        "\n",
        "H = H + (fin // 60)\n",
        "M = M + (fin % 60)\n",
        "\n",
        "if M > 59 :\n",
        "  H += 1\n",
        "  M -= 60\n",
        "\n",
        "elif H > 23 :\n",
        "  H -= 24\n",
        "\n",
        "print(H, M)"
      ],
      "metadata": {
        "colab": {
          "base_uri": "https://localhost:8080/"
        },
        "id": "GzMcveKDDq0m",
        "outputId": "12d999f8-4cb2-4beb-ef73-ab3b19ea8c25"
      },
      "execution_count": 27,
      "outputs": [
        {
          "output_type": "stream",
          "name": "stdout",
          "text": [
            "14 30\n",
            "20\n",
            "14 50\n"
          ]
        }
      ]
    },
    {
      "cell_type": "code",
      "source": [
        "# 2525\n",
        "# 채점 상 정답 코드\n",
        "\n",
        "a, b = map(int, input().split())\n",
        "c = int(input())\n",
        "\n",
        "b += c\n",
        "a += (b//60)\n",
        "b %= 60\n",
        "\n",
        "if a > 23 :\n",
        "  a -= 24\n",
        "\n",
        "print(a, b)\n"
      ],
      "metadata": {
        "colab": {
          "base_uri": "https://localhost:8080/"
        },
        "id": "DMXoNX_IT-Wk",
        "outputId": "190d2d03-486e-46fe-8f9e-f713530a6471"
      },
      "execution_count": 28,
      "outputs": [
        {
          "output_type": "stream",
          "name": "stdout",
          "text": [
            "14 30\n",
            "20\n",
            "14 50\n"
          ]
        }
      ]
    },
    {
      "cell_type": "code",
      "source": [
        "# 2480\n",
        "\n",
        "# 같은 눈이 3개가 나오면 10,000원+(같은 눈)×1,000원의 상금을 받게 된다. \n",
        "# 같은 눈이 2개만 나오는 경우에는 1,000원+(같은 눈)×100원의 상금을 받게 된다. \n",
        "# 모두 다른 눈이 나오는 경우에는 (그 중 가장 큰 눈)×100원의 상금을 받게 된다.  \n",
        "# 채점 상 오답 코드\n",
        "\n",
        "a, b, c = map(int, input().split())\n",
        "\n",
        "if a == b == c :\n",
        "  print(10000 + (a * 1000))\n",
        "\n",
        "elif a == b or a == c :\n",
        "  print(1000 + (a * 100))\n",
        "\n",
        "  if b == c :\n",
        "    print(1000 + (b * 100))\n",
        "\n",
        "elif a != b != c :\n",
        "  if a > b and a > c :\n",
        "    print(a * 100)\n",
        "\n",
        "  elif b > a and b > c :\n",
        "    print(b * 100)\n",
        "\n",
        "  elif c > a and c > b :\n",
        "    print(c * 100)"
      ],
      "metadata": {
        "colab": {
          "base_uri": "https://localhost:8080/"
        },
        "id": "9Y2g6Ir7Ds4t",
        "outputId": "593b88ce-31d9-457d-8e40-90c83b71b41a"
      },
      "execution_count": 31,
      "outputs": [
        {
          "output_type": "stream",
          "name": "stdout",
          "text": [
            "6 2 5\n",
            "600\n"
          ]
        }
      ]
    },
    {
      "cell_type": "code",
      "source": [
        "# 2480\n",
        "# 채점 상 정답 코드\n",
        "\n",
        "a, b, c = map(int, input().split())\n",
        "\n",
        "if a == b == c:\n",
        "    print(10000 + a*1000)\n",
        "\n",
        "elif a == b or a == c:\n",
        "    print(1000 + a*100)\n",
        "\n",
        "elif b == c:\n",
        "    print(1000 + b*100)\n",
        "\n",
        "else:\n",
        "    print(max(a, b, c)*100)"
      ],
      "metadata": {
        "colab": {
          "base_uri": "https://localhost:8080/"
        },
        "id": "UtQxW8-1X1nj",
        "outputId": "a56ba0a0-dfde-4944-b98b-90c9c76a9748"
      },
      "execution_count": 32,
      "outputs": [
        {
          "output_type": "stream",
          "name": "stdout",
          "text": [
            "6 2 5\n",
            "600\n"
          ]
        }
      ]
    },
    {
      "cell_type": "code",
      "source": [
        "# 2420\n",
        "# 첫째 줄에 두 유명도의 차이 (|N-M|)을 출력한다.\n",
        "\n",
        "a, b = map(int, input().split())\n",
        "\n",
        "print(abs(a - b))"
      ],
      "metadata": {
        "colab": {
          "base_uri": "https://localhost:8080/"
        },
        "id": "2VkwIaaqZ1Oc",
        "outputId": "0a020671-1e44-42ab-e569-123ff4cae085"
      },
      "execution_count": 33,
      "outputs": [
        {
          "output_type": "stream",
          "name": "stdout",
          "text": [
            "-2 5\n",
            "7\n"
          ]
        }
      ]
    }
  ]
}
