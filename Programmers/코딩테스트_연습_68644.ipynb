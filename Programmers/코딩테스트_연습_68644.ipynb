{
  "nbformat": 4,
  "nbformat_minor": 0,
  "metadata": {
    "colab": {
      "name": "코딩테스트 연습_월간 코드 챌린지 시즌1.ipynb",
      "provenance": [],
      "authorship_tag": "ABX9TyNnl64bd1AbHvbsDEEWq4cA",
      "include_colab_link": true
    },
    "kernelspec": {
      "name": "python3",
      "display_name": "Python 3"
    },
    "language_info": {
      "name": "python"
    }
  },
  "cells": [
    {
      "cell_type": "markdown",
      "metadata": {
        "id": "view-in-github",
        "colab_type": "text"
      },
      "source": [
        "<a href=\"https://colab.research.google.com/github/jelly12paw/Algorithm/blob/main/Programmers/%EC%BD%94%EB%94%A9%ED%85%8C%EC%8A%A4%ED%8A%B8_%EC%97%B0%EC%8A%B5_68644.ipynb\" target=\"_parent\"><img src=\"https://colab.research.google.com/assets/colab-badge.svg\" alt=\"Open In Colab\"/></a>"
      ]
    },
    {
      "cell_type": "markdown",
      "source": [
        "# Programmers 코딩테스트 연습"
      ],
      "metadata": {
        "id": "4usgRcB2zCrm"
      }
    },
    {
      "cell_type": "markdown",
      "source": [
        "### 월간 코드 챌린지 시즌1"
      ],
      "metadata": {
        "id": "mGdrRzW0zJqt"
      }
    },
    {
      "cell_type": "code",
      "execution_count": 23,
      "metadata": {
        "colab": {
          "base_uri": "https://localhost:8080/"
        },
        "id": "GM-rZGwMy0LC",
        "outputId": "9073737c-e7dd-4f9f-a3a6-2cd0f10b3b66"
      },
      "outputs": [
        {
          "output_type": "stream",
          "name": "stdout",
          "text": [
            "[2, 3, 4, 5, 6, 7]\n"
          ]
        }
      ],
      "source": [
        "# 68644\n",
        "# numbers에서 서로 다른 인덱스에 있는 두 개의 수를 뽑아 더해서 만들 수 있는 모든 수를 \n",
        "# 배열에 오름차순으로 담아 return 하도록 solution 함수를 완성해주세요.\n",
        "\n",
        "def solution(numbers):\n",
        "    answer = []\n",
        "\n",
        "    for i in range(len(numbers)) :\n",
        "      for num in range(i + 1, len(numbers)) :\n",
        "        answer.append(numbers[i] + numbers[num])\n",
        "    \n",
        "    answer = list(set(answer))\n",
        "    answer.sort()\n",
        "    return answer\n",
        "\n",
        "print(solution([2,1,3,4,1]))"
      ]
    },
    {
      "cell_type": "code",
      "source": [
        "from itertools import combinations\n",
        "\n",
        "def solution(numbers) :\n",
        "    answer = []\n",
        "\n",
        "    for num in combinations(numbers, 2) :\n",
        "        answer.append(sum(num))\n",
        "\n",
        "    answer = list(set(answer))\n",
        "    answer.sort()\n",
        "    return answer"
      ],
      "metadata": {
        "id": "nLJLi2E93aHg"
      },
      "execution_count": null,
      "outputs": []
    }
  ]
}