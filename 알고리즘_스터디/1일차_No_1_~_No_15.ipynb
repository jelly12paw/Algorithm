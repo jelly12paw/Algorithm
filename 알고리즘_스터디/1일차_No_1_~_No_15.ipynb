{
  "nbformat": 4,
  "nbformat_minor": 0,
  "metadata": {
    "colab": {
      "name": "1일차 No.1 ~ No. 15.ipynb",
      "provenance": [],
      "authorship_tag": "ABX9TyPu598I8VyyTlRmBKow34DW",
      "include_colab_link": true
    },
    "kernelspec": {
      "name": "python3",
      "display_name": "Python 3"
    },
    "language_info": {
      "name": "python"
    }
  },
  "cells": [
    {
      "cell_type": "markdown",
      "metadata": {
        "id": "view-in-github",
        "colab_type": "text"
      },
      "source": [
        "<a href=\"https://colab.research.google.com/github/jelly12paw/Algorithm/blob/main/%EC%95%8C%EA%B3%A0%EB%A6%AC%EC%A6%98_%EC%8A%A4%ED%84%B0%EB%94%94/1%EC%9D%BC%EC%B0%A8_No_1_~_No_15.ipynb\" target=\"_parent\"><img src=\"https://colab.research.google.com/assets/colab-badge.svg\" alt=\"Open In Colab\"/></a>"
      ]
    },
    {
      "cell_type": "markdown",
      "source": [
        "## BOJ 2577 숫자의 개수"
      ],
      "metadata": {
        "id": "S9NuWgaV6UPL"
      }
    },
    {
      "cell_type": "code",
      "execution_count": 2,
      "metadata": {
        "colab": {
          "base_uri": "https://localhost:8080/"
        },
        "id": "IwwGYT5w5KHg",
        "outputId": "d7d342fb-470e-422e-c4d8-aab0c3e5b675"
      },
      "outputs": [
        {
          "output_type": "stream",
          "name": "stdout",
          "text": [
            "150\n",
            "266\n",
            "427\n",
            "3\n",
            "1\n",
            "0\n",
            "2\n",
            "0\n",
            "0\n",
            "0\n",
            "2\n",
            "0\n",
            "0\n"
          ]
        }
      ],
      "source": [
        "# 세 개의 자연수 입력받기\n",
        "a = int(input())\n",
        "b = int(input())\n",
        "c = int(input())\n",
        "\n",
        "# a * b * c를 곱한 값을 문자열로 변환\n",
        "abc = str(a * b * c)\n",
        "\n",
        "# abc 값에 쓰인 숫자 0 ~ 9까지의 개수를 셀 리스트\n",
        "abc_count = [0] * 10\n",
        "\n",
        "# 문자열 abc를 하나씩 꺼내어 인덱스번호와 숫자가 같은 위치에 \n",
        "# 해당 숫자가 나올 때마다 1씩 더하기\n",
        "for i in abc :\n",
        "  abc_count[int(i)] += 1\n",
        "\n",
        "# 리스트에 저장된 값을 하나씩 출력\n",
        "for j in abc_count :\n",
        "  print(j)"
      ]
    },
    {
      "cell_type": "markdown",
      "source": [
        "## BOJ 2908 상수"
      ],
      "metadata": {
        "id": "fL8OMnJZ9nrD"
      }
    },
    {
      "cell_type": "code",
      "source": [
        "# 세 자리 수 두 개 입력받기\n",
        "a, b = map(int, input().split())\n",
        "\n",
        "# 세 자리 수 a, b를 문자열로 변환하여 역순으로 만들기\n",
        "a = str(a)[::-1]\n",
        "b = str(b)[::-1]\n",
        "\n",
        "# a, b를 정수형으로 변환하여 두 수 중 큰 값을 출력\n",
        "print(max(int(a), int(b)))"
      ],
      "metadata": {
        "colab": {
          "base_uri": "https://localhost:8080/"
        },
        "id": "RAQd-73a896y",
        "outputId": "4b0f470f-90c7-49ba-8667-262325a309dd"
      },
      "execution_count": 6,
      "outputs": [
        {
          "output_type": "stream",
          "name": "stdout",
          "text": [
            "734 893\n",
            "437\n"
          ]
        }
      ]
    },
    {
      "cell_type": "markdown",
      "source": [
        "## BOJ 8958 OX퀴즈"
      ],
      "metadata": {
        "id": "Qtw8p--i9oLW"
      }
    },
    {
      "cell_type": "code",
      "source": [
        "# 입력된 숫자만큼 테스트 케이스 실행\n",
        "for _ in range(int(input())) :\n",
        "  # OX퀴즈 결과 입력받기\n",
        "  ox = input()\n",
        "  \n",
        "  # OX퀴즈 점수 합계\n",
        "  score_sum = []\n",
        "  # OX퀴즈 점수 구할 값\n",
        "  score = 0\n",
        "  # OX퀴즈 결과값을 하나씩 꺼내기\n",
        "  for i in ox :\n",
        "    # O가 연속으로 나오면 score 값을 1씩 증가 후 리스트에 저장\n",
        "    if i == 'O' :\n",
        "      score += 1\n",
        "      score_sum.append(score)\n",
        "      \n",
        "    # X면 score 값을 0으로 변경 후 리스트에 저장\n",
        "    else :\n",
        "      score = 0\n",
        "      score_sum.append(score)\n",
        "      \n",
        "  # 리스트에 저장된 수의 합계를 출력\n",
        "  print(sum(score_sum)) "
      ],
      "metadata": {
        "colab": {
          "base_uri": "https://localhost:8080/"
        },
        "id": "QyY5N7ga_gFE",
        "outputId": "ca5f5b78-e04e-461e-90ae-6410bd9d150f"
      },
      "execution_count": 35,
      "outputs": [
        {
          "output_type": "stream",
          "name": "stdout",
          "text": [
            "1\n",
            "OOXXOXXOOO\n",
            "10\n"
          ]
        }
      ]
    },
    {
      "cell_type": "markdown",
      "source": [
        "## BOJ 1000 A+B"
      ],
      "metadata": {
        "id": "2-pMGxSG_keX"
      }
    },
    {
      "cell_type": "code",
      "source": [
        "# 두 정수를 입력받기\n",
        "a, b = map(int, input().split())\n",
        "\n",
        "# 두 정수의 합을 출력\n",
        "print(a+b)"
      ],
      "metadata": {
        "colab": {
          "base_uri": "https://localhost:8080/"
        },
        "id": "YPdNzwYZ_oE8",
        "outputId": "51d8aefc-a063-4ea2-91b5-251c5c3f28c4"
      },
      "execution_count": 3,
      "outputs": [
        {
          "output_type": "stream",
          "name": "stdout",
          "text": [
            "1 2\n",
            "3\n"
          ]
        }
      ]
    },
    {
      "cell_type": "markdown",
      "source": [
        "## BOJ 2558 A+B - 2"
      ],
      "metadata": {
        "id": "NRTak6gA_p5E"
      }
    },
    {
      "cell_type": "code",
      "source": [
        "# 두 정수를 입력받기\n",
        "a = int(input())\n",
        "b = int(input())\n",
        "\n",
        "# 두 정수의 합을 출력하기\n",
        "print(a + b)"
      ],
      "metadata": {
        "id": "awXRVNbO_p5G"
      },
      "execution_count": null,
      "outputs": []
    },
    {
      "cell_type": "markdown",
      "source": [
        "## BOJ 10950 A+B - 3"
      ],
      "metadata": {
        "id": "K6b_-sFC_ubp"
      }
    },
    {
      "cell_type": "code",
      "source": [
        "# 입력받은 수만큼 테스트 케이스 실행\n",
        "for _ in range(int(input())) :\n",
        "  # 두 정수를 입력받기\n",
        "  a, b = map(int, input().split())\n",
        "\n",
        "  # 입력받은 두 정수의 합을 출력\n",
        "  print(a + b)"
      ],
      "metadata": {
        "id": "q0AtApFI_ubr"
      },
      "execution_count": null,
      "outputs": []
    },
    {
      "cell_type": "markdown",
      "source": [
        "## BOJ 10953 A+B - 6"
      ],
      "metadata": {
        "id": "Zc-8TS0d__tE"
      }
    },
    {
      "cell_type": "code",
      "source": [
        "# 입력받은 수만큼 테스트 케이스 실행\n",
        "for _ in range(int(input())) :\n",
        "  # 두 정수를 쉼표(,)로 구분하여 입력받기\n",
        "  a, b = map(int, input().split(','))\n",
        "\n",
        "  # 입력받은 두 정수의 합을 출력\n",
        "  print(a + b)"
      ],
      "metadata": {
        "colab": {
          "base_uri": "https://localhost:8080/"
        },
        "id": "LBtTNE2___td",
        "outputId": "da1db9f1-f9ed-4077-e6aa-1c5d8a5fbc9c"
      },
      "execution_count": 4,
      "outputs": [
        {
          "output_type": "stream",
          "name": "stdout",
          "text": [
            "1\n",
            "1, 1\n",
            "2\n"
          ]
        }
      ]
    },
    {
      "cell_type": "markdown",
      "source": [
        "## BOJ 2438 별 찍기 - 1"
      ],
      "metadata": {
        "id": "OJk20jcX__te"
      }
    },
    {
      "cell_type": "code",
      "source": [
        "# 1부터 입력받은 정수만큼 별(*)의 개수를 증가하여 출력\n",
        "for i in range(1, int(input())+1) :\n",
        "\n",
        "  print('*' * i)"
      ],
      "metadata": {
        "colab": {
          "base_uri": "https://localhost:8080/"
        },
        "id": "INwngcqO__tf",
        "outputId": "76d4d920-549e-481a-9044-9995881486b2"
      },
      "execution_count": 5,
      "outputs": [
        {
          "output_type": "stream",
          "name": "stdout",
          "text": [
            "5\n",
            "*\n",
            "**\n",
            "***\n",
            "****\n",
            "*****\n"
          ]
        }
      ]
    },
    {
      "cell_type": "markdown",
      "source": [
        "## BOJ 2439 별 찍기 - 2"
      ],
      "metadata": {
        "id": "ISep7zTx__tf"
      }
    },
    {
      "cell_type": "code",
      "source": [
        "# 정수 입력받기\n",
        "n = int(input())\n",
        "\n",
        "# 1부터 입력받은 정수만큼 별(*)의 개수를 증가하기\n",
        "for i in range(1, n + 1) :\n",
        "\n",
        "  # 오른쪽정렬로 출력하기\n",
        "  print(' ' * (n - i) + '*' * i)"
      ],
      "metadata": {
        "colab": {
          "base_uri": "https://localhost:8080/"
        },
        "id": "SzbMHvGH__tg",
        "outputId": "f0330277-fde4-4e83-b190-a1df393314cf"
      },
      "execution_count": 6,
      "outputs": [
        {
          "output_type": "stream",
          "name": "stdout",
          "text": [
            "5\n",
            "    *\n",
            "   **\n",
            "  ***\n",
            " ****\n",
            "*****\n"
          ]
        }
      ]
    },
    {
      "cell_type": "markdown",
      "source": [
        "## BOJ 10995 별 찍기 - 20"
      ],
      "metadata": {
        "id": "kiibaFIFAN5a"
      }
    },
    {
      "cell_type": "code",
      "source": [
        "# 정수 입력받기\n",
        "n = int(input())\n",
        "\n",
        "# 입력받은 정수가 1이면 '*' 한 개만 출력\n",
        "if n == 1 :\n",
        "  print('*')\n",
        "\n",
        "# 입력받은 정수가 2 이상이면\n",
        "else :\n",
        "  # 입력받은 정수만큼 반복\n",
        "  for i in range(n) :\n",
        "    # 홀수 번째 줄에는 별(*)과 공백(' ') 순서대로 n번 반복해서 출력\n",
        "    if i % 2 == 0 :\n",
        "      print('* ' * n)\n",
        "    # 짝수 번째 줄에는 공백(' ')과 별(*) 순서대로 n번 반복해서 출력\n",
        "    else :\n",
        "      print(' *' * n)    "
      ],
      "metadata": {
        "colab": {
          "base_uri": "https://localhost:8080/"
        },
        "id": "JSU6An1rAN5r",
        "outputId": "b594ca95-b3ec-41f1-b9a6-0db5f05a6ac7"
      },
      "execution_count": 13,
      "outputs": [
        {
          "output_type": "stream",
          "name": "stdout",
          "text": [
            "5\n",
            "* * * * * \n",
            " * * * * *\n",
            "* * * * * \n",
            " * * * * *\n",
            "* * * * * \n"
          ]
        }
      ]
    },
    {
      "cell_type": "markdown",
      "source": [
        "## BOJ 1330 두 수 비교하기"
      ],
      "metadata": {
        "id": "n9-3APPOAN5s"
      }
    },
    {
      "cell_type": "code",
      "source": [
        "# 두 정수 입력받기\n",
        "a, b = map(int, input().split())\n",
        "\n",
        "# a가 b보다 큰 경우에는 '>' 출력\n",
        "if a > b :\n",
        "  print('>')\n",
        "# a가 b보다 작은 경우에는 '<' 출력\n",
        "elif a < b :\n",
        "  print('<')\n",
        "# a와 b가 같은 경우에는 '==' 출력\n",
        "else :\n",
        "  print('==')"
      ],
      "metadata": {
        "colab": {
          "base_uri": "https://localhost:8080/"
        },
        "id": "LUulOBpDAN5t",
        "outputId": "18a479f2-0783-443f-ac35-f71868a176aa"
      },
      "execution_count": 24,
      "outputs": [
        {
          "output_type": "stream",
          "name": "stdout",
          "text": [
            "1 2\n",
            "<\n"
          ]
        }
      ]
    },
    {
      "cell_type": "markdown",
      "source": [
        "## BOJ 9498 시험 성적"
      ],
      "metadata": {
        "id": "F0kNlfqYAN5t"
      }
    },
    {
      "cell_type": "code",
      "source": [
        "# 시험 점수 입력받기\n",
        "n = int(input())\n",
        "\n",
        "# 입력받은 점수가 90 ~ 100점이면 A\n",
        "if n >= 90 :\n",
        "  print('A')\n",
        "  \n",
        "# 입력받은 점수가 80 ~ 89점이면 B\n",
        "elif n >= 80  :\n",
        "  print('B')\n",
        "\n",
        "# 입력받은 점수가 70 ~ 79점이면 C\n",
        "elif n >= 70 :\n",
        "  print('C')\n",
        "\n",
        "# 입력받은 점수가 60 ~ 69점이면 D\n",
        "elif n >= 60 :\n",
        "  print('D')\n",
        "\n",
        "# 그 외의 점수는 F\n",
        "else :\n",
        "  print('F')"
      ],
      "metadata": {
        "colab": {
          "base_uri": "https://localhost:8080/"
        },
        "id": "cwLRQXm4AN5u",
        "outputId": "70f624ca-fe86-4a82-8b23-9428e6101476"
      },
      "execution_count": 16,
      "outputs": [
        {
          "output_type": "stream",
          "name": "stdout",
          "text": [
            "70\n",
            "C\n"
          ]
        }
      ]
    },
    {
      "cell_type": "markdown",
      "source": [
        "## BOJ 2753 윤년"
      ],
      "metadata": {
        "id": "lEfIcZYHAN5u"
      }
    },
    {
      "cell_type": "code",
      "source": [
        "# 연도 입력받기\n",
        "n = int(input())\n",
        "\n",
        "# 윤년은 4의 배수이면서, 100의 배수가 아닐 때 또는 400의 배수\n",
        "# 연도가 윤년이면 1을 출력\n",
        "if n % 4 == 0 and n % 100 != 0 or n % 400 == 0 :\n",
        "  print(1)\n",
        "# 윤년이 아니면 0을 출력\n",
        "else :\n",
        "  print(0)"
      ],
      "metadata": {
        "colab": {
          "base_uri": "https://localhost:8080/"
        },
        "id": "D7okTia3AN5u",
        "outputId": "03d8d232-7379-4f3f-ee4e-423def3eaa79"
      },
      "execution_count": 31,
      "outputs": [
        {
          "output_type": "stream",
          "name": "stdout",
          "text": [
            "2012\n",
            "1\n"
          ]
        }
      ]
    },
    {
      "cell_type": "markdown",
      "source": [
        "## BOJ 14681 사분면 고르기"
      ],
      "metadata": {
        "id": "jT4DOEh-AN5v"
      }
    },
    {
      "cell_type": "code",
      "source": [
        "# x좌표, y좌표 입력받기\n",
        "x = int(input())\n",
        "y = int(input())\n",
        "\n",
        "# x, y 모두 양수이면 제 1사분면\n",
        "if x > 0 and y > 0 :\n",
        "  print(1)\n",
        "# x 음수, y 양수이면 제 2사분면\n",
        "elif x < 0 and y > 0 :\n",
        "  print(2)\n",
        "# x, y 모두 음수이면 제 3사분면\n",
        "elif x < 0 and y < 0 :\n",
        "  print(3)\n",
        "# x 양수, y 음수이면 제 4사분면\n",
        "else :\n",
        "  print(4)"
      ],
      "metadata": {
        "colab": {
          "base_uri": "https://localhost:8080/"
        },
        "id": "s6pycSlKAN5w",
        "outputId": "99a4fa12-07fd-472f-9f22-2865e9dcb733"
      },
      "execution_count": 33,
      "outputs": [
        {
          "output_type": "stream",
          "name": "stdout",
          "text": [
            "12\n",
            "5\n",
            "1\n"
          ]
        }
      ]
    },
    {
      "cell_type": "markdown",
      "source": [
        "## BOJ 2739 구구단"
      ],
      "metadata": {
        "id": "f5P2o9RtAN5x"
      }
    },
    {
      "cell_type": "code",
      "source": [
        "# 정수 입력받기\n",
        "n = int(input())\n",
        "\n",
        "# 입력받은 정수의 구구단 출력\n",
        "for i in range(1, 10) :\n",
        "  print(f'{n} * {i} = {n * i}')"
      ],
      "metadata": {
        "colab": {
          "base_uri": "https://localhost:8080/"
        },
        "id": "8j33z3T1AN5x",
        "outputId": "aabb7072-942b-4ecb-b882-bf52e7410049"
      },
      "execution_count": 34,
      "outputs": [
        {
          "output_type": "stream",
          "name": "stdout",
          "text": [
            "2\n",
            "2 * 1 = 2\n",
            "2 * 2 = 4\n",
            "2 * 3 = 6\n",
            "2 * 4 = 8\n",
            "2 * 5 = 10\n",
            "2 * 6 = 12\n",
            "2 * 7 = 14\n",
            "2 * 8 = 16\n",
            "2 * 9 = 18\n"
          ]
        }
      ]
    }
  ]
}