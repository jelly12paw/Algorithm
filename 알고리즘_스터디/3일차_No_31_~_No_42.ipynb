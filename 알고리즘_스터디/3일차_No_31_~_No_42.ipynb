{
  "nbformat": 4,
  "nbformat_minor": 0,
  "metadata": {
    "colab": {
      "provenance": [],
      "collapsed_sections": [],
      "authorship_tag": "ABX9TyM1wJ9MjIm5BIlrdONbC6gE",
      "include_colab_link": true
    },
    "kernelspec": {
      "name": "python3",
      "display_name": "Python 3"
    },
    "language_info": {
      "name": "python"
    }
  },
  "cells": [
    {
      "cell_type": "markdown",
      "metadata": {
        "id": "view-in-github",
        "colab_type": "text"
      },
      "source": [
        "<a href=\"https://colab.research.google.com/github/jelly12paw/Algorithm/blob/main/%EC%95%8C%EA%B3%A0%EB%A6%AC%EC%A6%98_%EC%8A%A4%ED%84%B0%EB%94%94/3%EC%9D%BC%EC%B0%A8_No_31_~_No_42.ipynb\" target=\"_parent\"><img src=\"https://colab.research.google.com/assets/colab-badge.svg\" alt=\"Open In Colab\"/></a>"
      ]
    },
    {
      "cell_type": "markdown",
      "source": [
        "##  프로그래머스 음양 더하기"
      ],
      "metadata": {
        "id": "pyIk29vC4U41"
      }
    },
    {
      "cell_type": "code",
      "execution_count": null,
      "metadata": {
        "id": "stX_ipY34U49"
      },
      "outputs": [],
      "source": [
        "# 절댓값을 담은 배열 absolutes와 절댓값에 담긴 정수들의 음수/양수를 표기한 signs\n",
        "# 두 배열을 이용한 함수 solution 만들기\n",
        "\n",
        "def solution(absolutes, signs) :\n",
        "\n",
        "  # 정수의 합을 구할 변수\n",
        "  abs_sum = 0\n",
        "\n",
        "  # 절댓값 배열에 담긴 숫자를 하나씩 꺼내기\n",
        "  for i in range(len(absolutes)) :\n",
        "    # signs가 True이면 양수를 더해주기\n",
        "    if signs[i] == True :\n",
        "      abs_sum += absolutes[i]\n",
        "    # 음수면 합에서 빼주기\n",
        "    else :\n",
        "      abs_sum -= absolutes[i]\n",
        "\n",
        "  # 정수의 합에 더해진 값을 리턴\n",
        "  return abs_sum"
      ]
    },
    {
      "cell_type": "markdown",
      "source": [
        "## BOJ 1157 단어 공부"
      ],
      "metadata": {
        "id": "QCAzLIOFChkC"
      }
    },
    {
      "cell_type": "code",
      "execution_count": null,
      "metadata": {
        "colab": {
          "base_uri": "https://localhost:8080/"
        },
        "id": "2laEJ5OTChkD",
        "outputId": "4db16018-8a10-49eb-ea2b-d33a78bb3d51"
      },
      "outputs": [
        {
          "output_type": "stream",
          "name": "stdout",
          "text": [
            "zZa\n",
            "Z\n"
          ]
        }
      ],
      "source": [
        "## 시간 초과\n",
        "\n",
        "# 대문자로 문자 입력받기\n",
        "word = input().upper()\n",
        "\n",
        "# 각 알파벳과 알파벳의 수를 저장할 딕셔너리\n",
        "alpha = {}\n",
        "\n",
        "# 입력받은 문자를 하나씩 꺼내어 알파벳은 key, 사용 횟수 value로 딕셔너리에 저장\n",
        "for i in word :\n",
        "  alpha.get(i)\n",
        "  alpha[i] = word.count(i)\n",
        "\n",
        "# 가장 많이 쓰인 알파벳을 담을 리스트\n",
        "max_alpha = []\n",
        "\n",
        "# 딕셔너리에 저장된 알바벳과 사용 횟수를 하나씩 분리하여\n",
        "for k, v in alpha.items() :\n",
        "  # 사용 횟수가 가장 많은 알파벳을 리스트에 저장\n",
        "  if max(alpha.values()) == v :\n",
        "    max_alpha.append(k)\n",
        "\n",
        "# 사용 횟수가 가장 많은 알파벳이 2개 이상이면 ?를 출력\n",
        "if len(max_alpha) >= 2 :\n",
        "  print('?')\n",
        "\n",
        "# 알파벳이 1개라면 해당 알파벳 출력\n",
        "else :\n",
        "  print(*max_alpha)"
      ]
    },
    {
      "cell_type": "markdown",
      "source": [
        "## BOJ 2941 크로아티아 알파벳"
      ],
      "metadata": {
        "id": "o2y1rcNRmHM6"
      }
    },
    {
      "cell_type": "code",
      "execution_count": null,
      "metadata": {
        "colab": {
          "base_uri": "https://localhost:8080/"
        },
        "outputId": "327e2d23-49f1-4c31-f972-0793cf494305",
        "id": "yNaptjHPmHNW"
      },
      "outputs": [
        {
          "output_type": "stream",
          "name": "stdout",
          "text": [
            "3\n",
            "6\n"
          ]
        }
      ],
      "source": [
        "# 크로아티아 알파벳을 변형 표기한 글자들을 저장한 리스트\n",
        "cro_alpha = ['c=', 'c-', 'dz=', 'd-', 'lj', 'nj', 's=', 'z=']\n",
        "\n",
        "# 문자 입력받기\n",
        "word = input()\n",
        "\n",
        "# 크로아티아 알파벳 리스트를 하나씩 꺼내어\n",
        "for i in cro_alpha :\n",
        "  # 입력받은 글자에 해당 크로아티아 알파벳이 있다면 *로 바꿈\n",
        "  word = word.replace(i, '*')\n",
        "\n",
        "# *로 바꾼 문자열의 길이를 출력\n",
        "print(len(word))"
      ]
    },
    {
      "cell_type": "markdown",
      "source": [
        "## BOJ 2851 슈퍼마리오"
      ],
      "metadata": {
        "id": "pgpU0KJaokaY"
      }
    },
    {
      "cell_type": "code",
      "source": [
        "# 입력받은 버섯의 점수를 저장할 리스트\n",
        "mushrooms = []\n",
        "\n",
        "# 10개의 버섯 점수를 한 줄 씩 입력받아 리스트에 저장\n",
        "for _ in range(10) :\n",
        "  mushrooms.append(int(input()))\n",
        "\n",
        "# 버섯 점수를 하나씩 더하여 100에 가까운 수를 찾을 변수\n",
        "near_100 = 0\n",
        "\n",
        "# 버섯 점수 리스트의 인덱스\n",
        "m_idx = 0\n",
        "\n",
        "# 버섯 점수의 리스트에서 하나씩 꺼내어\n",
        "while m_idx <= 9 :\n",
        "  # 100에 가까운 수가 될 때까지 더하기\n",
        "  near_100 += mushrooms[m_idx]\n",
        "  # 버섯 점수의 합이 100이 되었다면 종료\n",
        "  if near_100 == 100 :\n",
        "    break\n",
        "\n",
        "  # 버섯 점수의 합이 100보다 크다면\n",
        "  elif near_100 > 100 :\n",
        "    # n번째까지 더한 합과 n-1번째까지 더한 합을 비교 \n",
        "    # n번째까지 더한 합이 100에 더 가깝거나 같다면 n번째까지 더한 합을 출력\n",
        "    if near_100 - 100 <= 100 - (near_100 - mushrooms[m_idx]) :\n",
        "      break\n",
        "    # 아니라면 n-1번째까지의 합을 출력\n",
        "    else :\n",
        "      near_100 = near_100 - mushrooms[m_idx]\n",
        "      break\n",
        "  # 100에 가까운 합이 나오지 않았다면 다음 번 버섯 점수를 더하기\n",
        "  m_idx += 1\n",
        "\n",
        "# 100에 가까운 버섯 점수의 합을 출력\n",
        "print(near_100)"
      ],
      "metadata": {
        "colab": {
          "base_uri": "https://localhost:8080/"
        },
        "id": "jk-WerScopKB",
        "outputId": "54f378b8-0735-4cde-d227-5bb0e32213e0"
      },
      "execution_count": null,
      "outputs": [
        {
          "output_type": "stream",
          "name": "stdout",
          "text": [
            "10\n",
            "20\n",
            "30\n",
            "40\n",
            "50\n",
            "60\n",
            "70\n",
            "80\n",
            "90\n",
            "100\n",
            "100\n"
          ]
        }
      ]
    },
    {
      "cell_type": "markdown",
      "source": [
        "## BOJ 7568 덩치"
      ],
      "metadata": {
        "id": "F4ZNDsORowWu"
      }
    },
    {
      "cell_type": "code",
      "source": [
        "# 입력받은 덩치를 저장할 리스트\n",
        "dungchi = []\n",
        "\n",
        "# 입력받은 테스트 케이스의 수\n",
        "for _ in range(int(input())) :\n",
        "  # 키와 몸무게를 입력받아 리스트에 저장\n",
        "  dungchi.append(list(map(int, input().split())))\n",
        "\n",
        "# 리스트에 저장된 키와 몸무게 정보를 하나씩 꺼내기\n",
        "for one in dungchi :\n",
        "  # 덩치 순위는 1등부터 시작\n",
        "  rank = 1\n",
        "\n",
        "  # 리스트에 저장된 키와 몸무게 정보를 하나씩 꺼내 앞의 정보와 비교하기\n",
        "  for two in dungchi :\n",
        "    # 비교하는 번째의 키와 몸무게의 정보와 다음 번째의 키와 몸무게의 정보가 다르면 비교하기\n",
        "    if (one[0] != two[0]) & (one[1] != two[1]) :\n",
        "      # 다음 번째의 키와 몸무게를 비교하여 다음 번째의 키와 몸무게가 더 크다면\n",
        "      if (one[0] < two[0]) & (one[1] < two[1]) :\n",
        "        # 비교하는 번째의 순위를 뒤로 미루기\n",
        "        rank += 1\n",
        "\n",
        "  # 각 번째의 순위를 출력\n",
        "  print(rank)\n",
        "\n",
        "# 이해하지 못했던 부분\n",
        "# 비슷한 키와 몸무게의 정의를 하는게 이해가 안됨\n",
        "\n",
        "# 코드를 보고 이해한 부분\n",
        "# 비교하는 대상과 비교되어지는 대상의 키와 몸무게 중 하나만 크면 되는 것이 아니라 둘 다 커야지 순위가 앞 순위가 된다."
      ],
      "metadata": {
        "colab": {
          "base_uri": "https://localhost:8080/"
        },
        "id": "zdrm_awWozyh",
        "outputId": "43386a69-af47-4a89-b7b1-25f08e8856cd"
      },
      "execution_count": null,
      "outputs": [
        {
          "output_type": "stream",
          "name": "stdout",
          "text": [
            "5\n",
            "55 185\n",
            "58 183\n",
            "88 186\n",
            "60 175\n",
            "46 155\n",
            "2\n",
            "2\n",
            "1\n",
            "2\n",
            "5\n"
          ]
        }
      ]
    },
    {
      "cell_type": "markdown",
      "source": [
        "## BOJ 유학 금지"
      ],
      "metadata": {
        "id": "HzGXLG19IPE0"
      }
    },
    {
      "cell_type": "code",
      "source": [
        "# CAMBRIDGE가 저장된 변수 만들기\n",
        "cam = 'CAMBRIDGE'\n",
        "\n",
        "# 문자열 입력받기\n",
        "word = input()\n",
        "\n",
        "# CAMBRIDGE 문자열을 하나씩 꺼내기\n",
        "for i in cam :\n",
        "  # 입력받은 문자열을 하나씩 꺼내기\n",
        "  for j in word :\n",
        "    # 입력받은 문자열 안에 CAMBRIDGE 문자열이 있다면\n",
        "    if i == j :\n",
        "      # 해당 문자열을 지워주고 문자값에 저장\n",
        "      word = word.replace(j, '')\n",
        "\n",
        "# 변경한 문자열 출력\n",
        "print(word)"
      ],
      "metadata": {
        "colab": {
          "base_uri": "https://localhost:8080/"
        },
        "id": "U399G6peIRH3",
        "outputId": "686aca44-95f0-4357-b540-df4d2e4b6b8e"
      },
      "execution_count": null,
      "outputs": [
        {
          "output_type": "stream",
          "name": "stdout",
          "text": [
            "LOVA\n",
            "LOV\n"
          ]
        }
      ]
    },
    {
      "cell_type": "markdown",
      "source": [
        "## BOJ 태보태보 총난타"
      ],
      "metadata": {
        "id": "UdUmLgRrFKoR"
      }
    },
    {
      "cell_type": "code",
      "source": [
        "# 문자열을 입력받아 리스트로 저장\n",
        "taebo = list(input())\n",
        "\n",
        "# 왼손의 잔상의 수\n",
        "left_ = 0\n",
        "# 오른손의 잔상의수\n",
        "right_ = 0\n",
        "\n",
        "# 리스트에서 문자열을 순서대로 하나씩 꺼내어\n",
        "for i in taebo :\n",
        "  # 왼손의 잔상 '@'가 나오면 1 씩 증가\n",
        "  if i == '@' :\n",
        "    left_ += 1\n",
        "  # '(' 문자가 나오면 왼손의 잔상의 수를 세는 것을 종료\n",
        "  elif i == '(' :\n",
        "    break\n",
        "\n",
        "# 리스트에서 문자열을 역순으로 하나씩 꺼내어\n",
        "for i in taebo[::-1] :\n",
        "  # 오른손의 잔상 '@'가 나오면 1 씩 증가\n",
        "  if i == '@' :\n",
        "    right_ += 1\n",
        "  # ')' 문자가 나오면 오른손의 잔상의 수를 세는 것을 종료\n",
        "  elif i == ')' :\n",
        "    break\n",
        "\n",
        "# 왼손과 오른손의 잔상의 수를 출력\n",
        "print(left_, right_)"
      ],
      "metadata": {
        "colab": {
          "base_uri": "https://localhost:8080/"
        },
        "id": "NXYmPzA8FN7D",
        "outputId": "224771bc-c12b-4151-eff5-1350b940d268"
      },
      "execution_count": null,
      "outputs": [
        {
          "output_type": "stream",
          "name": "stdout",
          "text": [
            "@===@==@=@==(^0^)==@=@===@\n",
            "4 3\n"
          ]
        }
      ]
    },
    {
      "cell_type": "markdown",
      "source": [
        "## BOJ 2711 오타맨 고창영"
      ],
      "metadata": {
        "id": "sRlkpg37NM1V"
      }
    },
    {
      "cell_type": "code",
      "source": [
        "# 테스트 케이스를 몇 번 실행할건지 수를 입력\n",
        "for i in range(int(input())) :\n",
        "  \n",
        "  # 오타를 낸 위치와 오타를 낸 문자열을 입력받기\n",
        "  idx, word = input().split()\n",
        "  \n",
        "  # 오타를 낸 위치를 숫자열로 변환하고 1을 빼기 \n",
        "  # 1을 빼는 이유 : 인덱스 값이 0부터 시작하기 때문에 첫 번째 자리는 인덱스값으로는 0 번째 자리\n",
        "  idx = int(idx) - 1\n",
        "  \n",
        "  # 인덱스 값을 기준으로 첫 문자열 부터 인덱스 - 1까지의 문자열과\n",
        "  # 인덱스 + 1부터 마지막까지의 문자열을 word 변수에 저장\n",
        "  word = word[:idx] + word[idx+1:]\n",
        "\n",
        "  # 오타를 지운 문자열 출력\n",
        "  print(word)"
      ],
      "metadata": {
        "colab": {
          "base_uri": "https://localhost:8080/"
        },
        "id": "sYWW2WwaNR1I",
        "outputId": "40bb2134-9e2c-45d1-8cab-044db8c88182"
      },
      "execution_count": null,
      "outputs": [
        {
          "output_type": "stream",
          "name": "stdout",
          "text": [
            "1\n",
            "4 MISSPELL\n",
            "MISPELL\n"
          ]
        }
      ]
    },
    {
      "cell_type": "markdown",
      "source": [
        "## BOJ 2920 음계"
      ],
      "metadata": {
        "id": "88xN66Eqo3JW"
      }
    },
    {
      "cell_type": "code",
      "source": [
        "# 음계를 입력받아 리스트로 저장\n",
        "n = list(map(int, input().split()))\n",
        "\n",
        "# 1부터 차례대로 숫자가 올라가면 ascending \n",
        "if n == sorted(n) :\n",
        "  print('ascending')\n",
        "\n",
        "# 8부터 차례대로 숫자가 내려가면 descending\n",
        "elif n == sorted(n, reverse= True) :\n",
        "  print('descending') \n",
        "\n",
        "# 위의 두 사례에 해당되지 않으면 mixed\n",
        "else :\n",
        "  print('mixed')"
      ],
      "metadata": {
        "colab": {
          "base_uri": "https://localhost:8080/"
        },
        "id": "4gD0Zl4-o9kd",
        "outputId": "7c2806cf-7bfe-4c87-e020-6a8d1839fc6c"
      },
      "execution_count": null,
      "outputs": [
        {
          "output_type": "stream",
          "name": "stdout",
          "text": [
            "1 2 3 4 5 6 7 8\n",
            "ascending\n"
          ]
        }
      ]
    },
    {
      "cell_type": "markdown",
      "source": [
        "## BOJ 4673 셀프 넘버"
      ],
      "metadata": {
        "id": "H_8_MN2Bm-Jf"
      }
    },
    {
      "cell_type": "code",
      "source": [
        "# 셀프 넘버란 자기 자신의 숫자와 각 자리의 숫자를 더한 값이 아닌 수를 말한다.\n",
        "\n",
        "# 셀프 넘버가 아닌 숫자를 저장할 리스트\n",
        "not_self_num = []\n",
        "\n",
        "# 0부터 9999까지의 숫자를 하나씩 꺼내어\n",
        "for num in range(10000) :\n",
        "  # 꺼낸 숫자의 각 자리 수의 합을 더하기\n",
        "  sum_num = sum(map(int, str(num)))\n",
        "  # 셀프 넘버가 아닌 수(자신의 숫자 + 자신의 각 자리 수의 합)를 리스트에 저장\n",
        "  not_self_num.append(num + sum_num)\n",
        "\n",
        "# 셀프 넘버의 값이 10000 이하인 값만 하나씩 출력\n",
        "for self_num in range(10000) :\n",
        "  # 0부터 9999까지의 숫자 중 셀프 넘버가 아닌 리스트에 저장된 값이라면 통과\n",
        "  if self_num in not_self_num :\n",
        "    pass\n",
        "  # 셀프 넘버인 값만 하나씩 출력\n",
        "  else :\n",
        "    print(self_num)"
      ],
      "metadata": {
        "id": "sXWq8lA_pCix"
      },
      "execution_count": null,
      "outputs": []
    },
    {
      "cell_type": "markdown",
      "source": [
        "## BOJ 2511 카드놀이"
      ],
      "metadata": {
        "id": "aEqxFzHRUHmj"
      }
    },
    {
      "cell_type": "code",
      "source": [
        "# A의 카드 리스트 입력받기\n",
        "a_li=list(map(int,input().split())) \n",
        "# B의 카드 리스트 입력받기\n",
        "b_li=list(map(int,input().split()))\n",
        "\n",
        "# A의 총점을 계산\n",
        "a = 0 \n",
        "# B의 총점을 계산\n",
        "b = 0 \n",
        "# 인덱스 값\n",
        "count = 0 \n",
        "# 카드 리스트에 저장된 숫자를 하나씩 꺼내기\n",
        "for i in range(10) : \n",
        "    # 해당 라운드에 A의 숫자가 크면 A에 3점 추가\n",
        "    if a_li[i] > b_li[i] : \n",
        "        a += 3 \n",
        "    \n",
        "    # 해당 라운드에 B의 숫자가 크면 B에 3점 추가    \n",
        "    elif b_li[i] > a_li[i] : \n",
        "        b += 3 \n",
        "    \n",
        "    # 해당 라운드에 A와 B의 숫자가 같다면 양쪽에 1점씩 추가    \n",
        "    elif b_li[i] == a_li[i] : \n",
        "        a+=1 \n",
        "        b+=1 \n",
        "        if b_li[i-1] != a_li[i-1] : \n",
        "            count = i-1 \n",
        "# A와 B의 총점을 출력\n",
        "print(a, b)\n",
        "\n",
        "if a > b: \n",
        "    print('A') \n",
        "elif a == b: \n",
        "    if b_li[count] > a_li[count]: \n",
        "        print(\"B\") \n",
        "    elif b_li[count] < a_li[count]:\n",
        "        print(\"A\") \n",
        "    else: \n",
        "        print(\"D\") \n",
        "elif b > a: \n",
        "    print('B')"
      ],
      "metadata": {
        "id": "LRSmteZhUOeJ"
      },
      "execution_count": null,
      "outputs": []
    },
    {
      "cell_type": "markdown",
      "source": [
        "## BOJ 10798 세로읽기"
      ],
      "metadata": {
        "id": "sHVP29-MWg-N"
      }
    },
    {
      "cell_type": "code",
      "source": [
        "c = [[0] * 15 for i in range(5)]\n",
        "for i in range(5):\n",
        "    d = list(input())\n",
        "    d_len = len(d)\n",
        "    for j in range(d_len):\n",
        "        c[i][j] = d[j]\n",
        "for i in range(15):\n",
        "    for j in range(5):\n",
        "        if c[j][i] == 0:\n",
        "            continue\n",
        "        else:\n",
        "            print(c[j][i], end='')\n",
        "\n",
        "# 구글링"
      ],
      "metadata": {
        "id": "yFOy6geCWlX7"
      },
      "execution_count": null,
      "outputs": []
    },
    {
      "cell_type": "markdown",
      "source": [
        "## BOJ 11651 좌표 정렬하기 2"
      ],
      "metadata": {
        "id": "h1ia--fuqF4F"
      }
    },
    {
      "cell_type": "code",
      "source": [
        "# 입력받은 x, y좌표을 담을 리스트\n",
        "num = []\n",
        "\n",
        "# 입력받은 수 만큼 좌표를 리스트로 입력받아 num에 저장\n",
        "for i in range(int(input())) :\n",
        "  num.append(list(map(int, input().split())))\n",
        "\n",
        "# 입력받은 좌표 리스트를 y좌표 , x좌표 순서대로 정렬\n",
        "num = sorted(num, key = lambda x : (x[1], x[0]))\n",
        "\n",
        "# 정렬된 리스트를 하나씩 꺼내어 출력\n",
        "for i in num :\n",
        "  print(*i)"
      ],
      "metadata": {
        "colab": {
          "base_uri": "https://localhost:8080/"
        },
        "id": "Cb2S2IoufhMP",
        "outputId": "9c3ac80a-8780-44da-bbc4-07e24de0943a"
      },
      "execution_count": null,
      "outputs": [
        {
          "output_type": "stream",
          "name": "stdout",
          "text": [
            "5\n",
            "0 4\n",
            "1 -1\n",
            "1 1\n",
            "2 2\n",
            "3 3\n",
            "1 -1\n",
            "1 1\n",
            "2 2\n",
            "3 3\n",
            "0 4\n"
          ]
        }
      ]
    }
  ]
}