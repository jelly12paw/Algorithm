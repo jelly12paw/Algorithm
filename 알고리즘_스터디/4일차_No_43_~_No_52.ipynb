{
  "nbformat": 4,
  "nbformat_minor": 0,
  "metadata": {
    "colab": {
      "provenance": [],
      "authorship_tag": "ABX9TyPvStpWq61ID9giVgoePjK8",
      "include_colab_link": true
    },
    "kernelspec": {
      "name": "python3",
      "display_name": "Python 3"
    },
    "language_info": {
      "name": "python"
    }
  },
  "cells": [
    {
      "cell_type": "markdown",
      "metadata": {
        "id": "view-in-github",
        "colab_type": "text"
      },
      "source": [
        "<a href=\"https://colab.research.google.com/github/jelly12paw/Algorithm/blob/main/%EC%95%8C%EA%B3%A0%EB%A6%AC%EC%A6%98_%EC%8A%A4%ED%84%B0%EB%94%94/4%EC%9D%BC%EC%B0%A8_No_43_~_No_52.ipynb\" target=\"_parent\"><img src=\"https://colab.research.google.com/assets/colab-badge.svg\" alt=\"Open In Colab\"/></a>"
      ]
    },
    {
      "cell_type": "markdown",
      "source": [
        "## BOJ 23825 SASA 모형을 만들어보자"
      ],
      "metadata": {
        "id": "xI_8-R7RwDnP"
      }
    },
    {
      "cell_type": "code",
      "execution_count": null,
      "metadata": {
        "colab": {
          "base_uri": "https://localhost:8080/"
        },
        "id": "kvkCqip1qT1J",
        "outputId": "c834f30c-a4ee-4209-885f-83ca16d569a4"
      },
      "outputs": [
        {
          "output_type": "stream",
          "name": "stdout",
          "text": [
            "4 5\n",
            "2\n"
          ]
        }
      ],
      "source": [
        "# S 블록 개수와 A 블록 개수 입력받기\n",
        "s, a = map(int, input().split())\n",
        "\n",
        "# SASA 모양을 만들기위해서는 S 블록 2개와 A블록 2개가 필요\n",
        "# 입력받은 S와 A 블록의 개수 중 적은 개수의 블록을 기준으로 2를 나눈 몫이 \n",
        "# SASA 모양을 만들 수 있는 최대 개수\n",
        "print(min(s, a) // 2)"
      ]
    },
    {
      "cell_type": "markdown",
      "source": [
        "## BOJ 3052 나머지"
      ],
      "metadata": {
        "id": "BcNORREzzZ9A"
      }
    },
    {
      "cell_type": "code",
      "source": [
        "# 입력받은 수를 중복없이 저장할 셋\n",
        "namurji = set()\n",
        "\n",
        "# 10개의 수를 입력받아 42로 나눈 나머지를 리스트에 저장\n",
        "for _ in range(10) :\n",
        "  namurji.add(int(input()) % 42)\n",
        "\n",
        "# 셋에 저장된 나머지의 개수 출력\n",
        "print(len(namurji))"
      ],
      "metadata": {
        "colab": {
          "base_uri": "https://localhost:8080/"
        },
        "id": "QdwF9kAVzWJi",
        "outputId": "84bb523b-b7d7-4708-9400-1e70a53b0681"
      },
      "execution_count": null,
      "outputs": [
        {
          "output_type": "stream",
          "name": "stdout",
          "text": [
            "42\n",
            "84\n",
            "252\n",
            "420\n",
            "840\n",
            "126\n",
            "42\n",
            "84\n",
            "420\n",
            "126\n",
            "1\n"
          ]
        }
      ]
    },
    {
      "cell_type": "markdown",
      "source": [
        "## BOJ 5622 다이얼"
      ],
      "metadata": {
        "id": "DR6zwgHv2MwM"
      }
    },
    {
      "cell_type": "code",
      "source": [
        "# 다이얼에 입력되어 있는 알파벳과 입력까지 걸리는 초를 담은 딕셔너리\n",
        "dial = {\n",
        "    'ABC' : 3,\n",
        "    'DEF' : 4,\n",
        "    'GHI' : 5,\n",
        "    'JKL' : 6,\n",
        "    'MNO' : 7,\n",
        "    'PQRS' : 8,\n",
        "    'TUV' : 9,\n",
        "    'WXYZ' : 10,\n",
        "}\n",
        "\n",
        "# 문자 입력받기\n",
        "word = input()\n",
        "\n",
        "# 입력받은 문자가 걸리는 초를 담을 리스트\n",
        "dial_sum = []\n",
        "\n",
        "# 입력받은 문자를 하나씩 꺼내기\n",
        "for i in word :\n",
        "  # 다이얼 딕셔너리에 저장된 키 값을 하나씩 꺼내기\n",
        "  for j in dial :\n",
        "    # 입력받은 문자가 다이얼 키 값 안에 있다면\n",
        "    if i in j :\n",
        "      # 해당 value 값을 리스트에 저장\n",
        "      dial_sum.append(dial[j])\n",
        "\n",
        "# 리스트에 담은 초들의 합을 출력\n",
        "print(sum(dial_sum))"
      ],
      "metadata": {
        "colab": {
          "base_uri": "https://localhost:8080/"
        },
        "id": "O6N6VV_ByJ9W",
        "outputId": "7188f061-2fb5-4a8d-e12f-f7dafaa5ad9d"
      },
      "execution_count": null,
      "outputs": [
        {
          "output_type": "stream",
          "name": "stdout",
          "text": [
            "WA\n",
            "13\n"
          ]
        }
      ]
    },
    {
      "cell_type": "markdown",
      "source": [
        "## BOJ 1292 쉽게 푸는 문제"
      ],
      "metadata": {
        "id": "8fZJt4cAVuyy"
      }
    },
    {
      "cell_type": "code",
      "source": [
        "# 시작 인덱스와 끝 인덱스 입력받기\n",
        "start, end = map(int, input().split())\n",
        "\n",
        "# 수열을 담을 리스트\n",
        "nums = []\n",
        "\n",
        "# 수열의 숫자를 하나씩 증가할 변수\n",
        "cnt = 1\n",
        "\n",
        "# 끝 인덱스 길이만큼 수열을 입력받기\n",
        "while len(nums) <= end :\n",
        "  # 1부터 숫자의 수만큼 리스트에 저장\n",
        "  nums.extend([cnt] * cnt)\n",
        "  # 그 다음 숫자로 더하기 1\n",
        "  cnt += 1\n",
        "\n",
        "# 저장된 리스트의 시작 인덱스부터 끝 인덱스까지의 합을 출력\n",
        "print(sum(nums[start-1 : end]))"
      ],
      "metadata": {
        "colab": {
          "base_uri": "https://localhost:8080/"
        },
        "id": "IydUwJsHS85a",
        "outputId": "f3cd3237-5bf0-48cd-acf0-cd93b5fc7297"
      },
      "execution_count": null,
      "outputs": [
        {
          "output_type": "stream",
          "name": "stdout",
          "text": [
            "3 7\n",
            "15\n"
          ]
        }
      ]
    },
    {
      "cell_type": "markdown",
      "source": [
        "## BOJ 1357 뒤집힌 덧셈"
      ],
      "metadata": {
        "id": "68JUcj9HZ9qW"
      }
    },
    {
      "cell_type": "code",
      "source": [
        "# 입력받은 문자열을 역순으로 바꿔줄 함수 Rev\n",
        "def Rev(num) :\n",
        "  num = str(num)[::-1]\n",
        "  # 문자열을 숫자형으로 변환하여 리턴\n",
        "  return int(num)\n",
        "\n",
        "# 두 개의 정수를 문자열로 입력받기\n",
        "X, Y = input().split()\n",
        "\n",
        "# 입력받은 정수를 역순으로 바꾸고 더한 값을 다시 역순으로 출력\n",
        "print(Rev(Rev(X) + Rev(Y)))"
      ],
      "metadata": {
        "colab": {
          "base_uri": "https://localhost:8080/"
        },
        "id": "UTInyy61ZFHd",
        "outputId": "15a2a941-5fb4-4af5-bd1f-133bef9fe774"
      },
      "execution_count": null,
      "outputs": [
        {
          "output_type": "stream",
          "name": "stdout",
          "text": [
            "123 100\n",
            "223\n"
          ]
        }
      ]
    },
    {
      "cell_type": "markdown",
      "source": [
        "## BOJ 10816 숫자 카드 2"
      ],
      "metadata": {
        "id": "lg118t5Vc8zg"
      }
    },
    {
      "cell_type": "code",
      "source": [
        "# 시간 초과\n",
        "\n",
        "# 상근이가 소지한 숫자 카드의 개수\n",
        "n = int(input())\n",
        "\n",
        "# 상근이가 소지한 숫자 카드에 적혀있는 수 리스트\n",
        "sg_nums = list(map(int, input().split()))\n",
        "\n",
        "# 비교할 숫자 카드의 개수 \n",
        "m = int(input())\n",
        "\n",
        "# 비교할 숫자 카드에 적혀있는 수 리스트\n",
        "m_nums = list(map(int, input().split()))\n",
        "\n",
        "# 비교할 숫자 카드 리스트에 있는 수 카드를 상근이가 몇 개 가지고 있는지 저장할 리스트\n",
        "cnt = []\n",
        "\n",
        "# 비교할 숫자 카드 리스트에 저장된 수를 하나씩 꺼내기\n",
        "for i in m_nums :\n",
        "  # 해당 숫자의 숫자 카드를 상근이가 가지고 있다면\n",
        "  if i in sg_nums :\n",
        "    # 몇 개 가지고 있는지 세고 리스트에 저장\n",
        "      cnt.append(sg_nums.count(i))\n",
        "\n",
        "  # 상근이가 비교할 숫자 카드를 가지고 있지 않으면\n",
        "  else :\n",
        "    # 0 이라고 표기\n",
        "    cnt.append(0)\n",
        "\n",
        "# 리스트에 저장된 수를 출력\n",
        "print(*cnt)"
      ],
      "metadata": {
        "colab": {
          "base_uri": "https://localhost:8080/"
        },
        "id": "eJFqdo8FbZIu",
        "outputId": "6a092301-3671-4098-bcc1-50cdb4609235"
      },
      "execution_count": null,
      "outputs": [
        {
          "output_type": "stream",
          "name": "stdout",
          "text": [
            "10\n",
            "6 3 2 10 10 10 -10 -10 7 3\n",
            "8\n",
            "10 9 -5 2 3 4 5 -10\n",
            "3 0 0 1 2 0 0 2\n"
          ]
        }
      ]
    },
    {
      "cell_type": "markdown",
      "source": [
        "## BOJ 7785 회사에 있는 사람"
      ],
      "metadata": {
        "id": "HZVW7pLFhR5o"
      }
    },
    {
      "cell_type": "code",
      "source": [
        "# 오답 코드\n",
        "\n",
        "# 사원 이름과 사원의 출입 상태를 저장할 리스트\n",
        "chulip = []\n",
        "\n",
        "# 사원 이름과 사원의 출입 기록을 n번 받기\n",
        "for _ in range(int(input())) :\n",
        "  chulip.append(list(input().split()))\n",
        "\n",
        "# 출근한 사원의 이름을 담을 셋\n",
        "enter = set()\n",
        "# 퇴근한 사원의 이름을 담을 셋\n",
        "leave = set()\n",
        "\n",
        "# 출입 상태 리스트에 저장된 정보를 하나씩 꺼내\n",
        "for i in chulip :\n",
        "  # enter라고 표기된 사원 이름을 셋에 저장\n",
        "  if i[1] == 'enter' :\n",
        "    enter.add(i[0])\n",
        "  # leave라고 표기된 사원 이름을 셋에 저장\n",
        "  else :\n",
        "    leave.add(i[0])\n",
        "\n",
        "# 출근 상태인 사원 이름을 역순으로 출력\n",
        "print(*sorted(enter - leave, reverse=True), sep='\\n')"
      ],
      "metadata": {
        "colab": {
          "base_uri": "https://localhost:8080/"
        },
        "id": "z3YuJJWkg3M6",
        "outputId": "c2abce2e-f3c1-4241-b526-bcd71b432c06"
      },
      "execution_count": null,
      "outputs": [
        {
          "output_type": "stream",
          "name": "stdout",
          "text": [
            "4\n",
            "Baha enter\n",
            "Askar enter\n",
            "Baha leave\n",
            "Artem enter\n",
            "Askar\n",
            "Artem\n"
          ]
        }
      ]
    },
    {
      "cell_type": "markdown",
      "source": [
        "## BOJ 1302 베스트셀러"
      ],
      "metadata": {
        "id": "nw3bt5VRnPt0"
      }
    },
    {
      "cell_type": "code",
      "source": [
        "# 책 이름과 개수를 입력받을 딕셔너리\n",
        "books = {}\n",
        "\n",
        "# 책 제목을 n번 입력받기\n",
        "for _ in range(int(input())) :\n",
        "  book = input()\n",
        "  \n",
        "  # 입력받은 책 제목을 딕셔너리에 저장\n",
        "  if book not in books :\n",
        "    books[book] = 1\n",
        "  # 입력받은 책 제목이 딕셔너리에 있으면 value 값을 1 증가\n",
        "  else :\n",
        "    books[book] += 1\n",
        "\n",
        "# 베스트 셀러 책을 담을 리스트\n",
        "best = []\n",
        "# 딕셔너리에서 key와 value를 하나씩 꺼내기\n",
        "for name, cnt in books.items() :\n",
        "  # 가장 많이 팔린 책 제목을 리스트에 저장\n",
        "  if cnt == max(books.values()) :\n",
        "    best.append(name)\n",
        "\n",
        "# 책 제목을 정렬하여 가장 첫 번째에 있는 제목을 출력\n",
        "print(sorted(best)[0])"
      ],
      "metadata": {
        "colab": {
          "base_uri": "https://localhost:8080/"
        },
        "id": "3z9qM1bckZCn",
        "outputId": "f6018b2e-5d20-4196-aae5-a0788bc73d45"
      },
      "execution_count": null,
      "outputs": [
        {
          "output_type": "stream",
          "name": "stdout",
          "text": [
            "6\n",
            "a\n",
            "a\n",
            "a\n",
            "b\n",
            "b\n",
            "b\n",
            "a\n"
          ]
        }
      ]
    },
    {
      "cell_type": "markdown",
      "source": [
        "## BOJ 1764 듣보잡"
      ],
      "metadata": {
        "id": "rXgiMevyvZDv"
      }
    },
    {
      "cell_type": "code",
      "source": [
        "# 듣도 못한 사람의 수와 보도 못한 사람의 수 입력받기\n",
        "ear, eye = map(int, input().split())\n",
        "\n",
        "# 듣도 못한 사람을 저장할 셋\n",
        "ear_name = set()\n",
        "# 보도 못한 사람을 저장할 셋\n",
        "eye_name = set()\n",
        "\n",
        "# 듣도 못한 사람의 이름 입력받기\n",
        "for _ in range(ear) :\n",
        "  ear_name.add(input())\n",
        "\n",
        "# 보도 못한 사람의 이름 입력받기\n",
        "for _ in range(eye) :\n",
        "  eye_name.add(input())\n",
        "\n",
        "# 두 셋에 함께 저장되어 있는 이름의 수를 출력\n",
        "print(len(ear_name & eye_name))\n",
        "# 두 셋에 함께 저장되어 있는 이름을 순서대로 출력\n",
        "print(*sorted(ear_name & eye_name), sep='\\n')"
      ],
      "metadata": {
        "colab": {
          "base_uri": "https://localhost:8080/"
        },
        "id": "X5zMBYTjrIGI",
        "outputId": "4d0eb7e9-49c0-476d-97b1-cd4ebb23fea2"
      },
      "execution_count": null,
      "outputs": [
        {
          "output_type": "stream",
          "name": "stdout",
          "text": [
            "3 4\n",
            "a\n",
            "b\n",
            "c\n",
            "d\n",
            "c\n",
            "a\n",
            "f\n",
            "2\n",
            "a\n",
            "c\n"
          ]
        }
      ]
    },
    {
      "cell_type": "markdown",
      "source": [
        "## BOJ 11652 카드"
      ],
      "metadata": {
        "id": "wEz_G_17y2V0"
      }
    },
    {
      "cell_type": "code",
      "source": [
        "# 시간 초과\n",
        "\n",
        "# 숫자 카드의 수와 카드의 개수를 저장할 딕셔너리\n",
        "nums = {}\n",
        "\n",
        "# 가지고 있는 숫자 카드의 개수\n",
        "for _ in range(int(input())) :\n",
        "  # 숫자 카드의 수를 입력받기\n",
        "  card = int(input())\n",
        "\n",
        "  # 입력받은 숫자 카드가 딕셔너리에 없으면 저장\n",
        "  if card not in nums :\n",
        "    nums[card] = 1\n",
        "\n",
        "  # 입력받은 숫자 카드가 딕셔너리에 있으면 개수를 1 더하기\n",
        "  else :\n",
        "    nums[card] += 1\n",
        "\n",
        "# 가장 많이 가지고 있는 숫자카드를 저장할 리스트\n",
        "max_card = []\n",
        "\n",
        "# 딕셔너리에서 하나씩 꺼내\n",
        "for card_num, cnt in nums.items() :\n",
        "  # 가장 많이 가지고 있는 숫자 카드를 리스트에 저장\n",
        "  if cnt == max(nums.values()) :\n",
        "    max_card.append(card_num)\n",
        "\n",
        "# 리스트에 저장된 숫자가 2개 이상이라면 가장 작은 수를 출력\n",
        "print(min(max_card))"
      ],
      "metadata": {
        "colab": {
          "base_uri": "https://localhost:8080/"
        },
        "id": "8TXc3S3rw7hZ",
        "outputId": "911185d1-ebc9-45fe-85a6-718bc6e6c57d"
      },
      "execution_count": null,
      "outputs": [
        {
          "output_type": "stream",
          "name": "stdout",
          "text": [
            "5\n",
            "1\n",
            "2\n",
            "1\n",
            "2\n",
            "1\n",
            "1\n"
          ]
        }
      ]
    },
    {
      "cell_type": "code",
      "source": [
        "n = int(input())\n",
        "n_list = tuple(map(int, input().split()))\n",
        "m = int(input())\n",
        "m_list = tuple(map(int, input().split()))\n",
        "\n",
        "def bi_s(start, end, target) :\n",
        "  while start < end :\n",
        "    mid = (start + end) // 2\n",
        "\n",
        "    if m_list[mid] == target :\n",
        "      return 1\n",
        "    \n",
        "    elif "
      ],
      "metadata": {
        "id": "Zz0uUXz3qh1a"
      },
      "execution_count": null,
      "outputs": []
    }
  ]
}