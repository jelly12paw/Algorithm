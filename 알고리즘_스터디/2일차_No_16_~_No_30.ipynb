{    
  "nbformat": 4,
  "nbformat_minor": 0,
  "metadata": {
    "colab": {
      "name": "2일차 No.16 ~ No. 30.ipynb",
      "provenance": [],
      "authorship_tag": "ABX9TyMkFRM4X50TnlS5PGRZJSPG",
      "include_colab_link": true
    },
    "kernelspec": {
      "name": "python3",
      "display_name": "Python 3"
    },
    "language_info": {
      "name": "python"
    }
  },
  "cells": [
    {
      "cell_type": "markdown",
      "metadata": {
        "id": "view-in-github",
        "colab_type": "text"
      },
      "source": [
        "<a href=\"https://colab.research.google.com/github/jelly12paw/Algorithm/blob/main/%EC%95%8C%EA%B3%A0%EB%A6%AC%EC%A6%98_%EC%8A%A4%ED%84%B0%EB%94%94/2%EC%9D%BC%EC%B0%A8_No_16_~_No_30.ipynb\" target=\"_parent\"><img src=\"https://colab.research.google.com/assets/colab-badge.svg\" alt=\"Open In Colab\"/></a>"
      ]
    },
    {
      "cell_type": "markdown",
      "source": [
        "## BOJ 8393 합"
      ],
      "metadata": {
        "id": "QCAzLIOFChkC"
      }
    },
    {
      "cell_type": "code",
      "execution_count": 1,
      "metadata": {
        "colab": {
          "base_uri": "https://localhost:8080/"
        },
        "id": "2laEJ5OTChkD",
        "outputId": "327e2d23-49f1-4c31-f972-0793cf494305"
      },
      "outputs": [
        {
          "output_type": "stream",
          "name": "stdout",
          "text": [
            "3\n",
            "6\n"
          ]
        }
      ],
      "source": [
        "# 1부터 n값까지의 합을 세기\n",
        "sum_n = 0\n",
        "\n",
        "# n 입력받기\n",
        "for i in range(1, int(input())+1) :\n",
        "  sum_n += i\n",
        "\n",
        "print(sum_n)"
      ]
    },
    {
      "cell_type": "markdown",
      "source": [
        "## BOJ 2741\tN 찍기"
      ],
      "metadata": {
        "id": "80IVDjqdChkE"
      }
    },
    {
      "cell_type": "code",
      "source": [
        "# 1부터 n까지의 수를 하나씩 출력\n",
        "for i in range(1, int(input())+1) :\n",
        "  print(i)"
      ],
      "metadata": {
        "colab": {
          "base_uri": "https://localhost:8080/"
        },
        "id": "6EdEEWZ5ChkE",
        "outputId": "36c9eb67-f71d-47d2-b7ff-8ea732b649d1"
      },
      "execution_count": 2,
      "outputs": [
        {
          "output_type": "stream",
          "name": "stdout",
          "text": [
            "5\n",
            "1\n",
            "2\n",
            "3\n",
            "4\n",
            "5\n"
          ]
        }
      ]
    },
    {
      "cell_type": "markdown",
      "source": [
        "## BOJ 2742\t기찍 N"
      ],
      "metadata": {
        "id": "M_DTD7wUChkF"
      }
    },
    {
      "cell_type": "code",
      "source": [
        "# n부터 1까지의 수를 하나씩 출력\n",
        "for i in range(int(input()), 0, -1) :\n",
        "  print(i)"
      ],
      "metadata": {
        "colab": {
          "base_uri": "https://localhost:8080/"
        },
        "id": "50bOL-IXChkF",
        "outputId": "73092d0a-16bd-4e32-fd4b-2aa1c9a0172d"
      },
      "execution_count": 7,
      "outputs": [
        {
          "output_type": "stream",
          "name": "stdout",
          "text": [
            "5\n",
            "5\n",
            "4\n",
            "3\n",
            "2\n",
            "1\n"
          ]
        }
      ]
    },
    {
      "cell_type": "markdown",
      "source": [
        "## BOJ 11021\tA+B - 7"
      ],
      "metadata": {
        "id": "o-z25xEXChkG"
      }
    },
    {
      "cell_type": "code",
      "source": [
        "# 입력된 숫자만큼 테스트 케이스 실행\n",
        "for num in range(1, int(input())+1) :\n",
        "\n",
        "  # 두 정수 a, b 입력받기\n",
        "  a, b = map(int, input().split())\n",
        "\n",
        "  print(f'Case #{num}: {a + b}')"
      ],
      "metadata": {
        "colab": {
          "base_uri": "https://localhost:8080/"
        },
        "id": "7H9uH3_HChkG",
        "outputId": "14e6907a-ec3f-49d2-b812-0397e0abcb20"
      },
      "execution_count": 10,
      "outputs": [
        {
          "output_type": "stream",
          "name": "stdout",
          "text": [
            "1\n",
            "9 8\n",
            "Case #1: 17\n"
          ]
        }
      ]
    },
    {
      "cell_type": "markdown",
      "source": [
        "## BOJ 11022\tA+B - 8"
      ],
      "metadata": {
        "id": "HMzG_NXqChkH"
      }
    },
    {
      "cell_type": "code",
      "source": [
        "# 입력된 숫자만큼 테스트 케이스 실행\n",
        "for num in range(1, int(input())+1) :\n",
        "\n",
        "  # 두 정수 a, b 입력받기\n",
        "  a, b = map(int, input().split())\n",
        "\n",
        "  print(f'Case #{num}: {a} + {b} = {a + b}')"
      ],
      "metadata": {
        "colab": {
          "base_uri": "https://localhost:8080/"
        },
        "id": "wM7KZGFlChkH",
        "outputId": "3982dd95-f2df-4151-9894-bd9d6d177055"
      },
      "execution_count": 11,
      "outputs": [
        {
          "output_type": "stream",
          "name": "stdout",
          "text": [
            "2\n",
            "1 1\n",
            "Case #1: 1 + 1 = 2\n",
            "2 3\n",
            "Case #2: 2 + 3 = 5\n"
          ]
        }
      ]
    },
    {
      "cell_type": "markdown",
      "source": [
        "## BOJ 10952\tA+B - 5"
      ],
      "metadata": {
        "id": "WERcahQ8CmCt"
      }
    },
    {
      "cell_type": "code",
      "execution_count": 13,
      "metadata": {
        "colab": {
          "base_uri": "https://localhost:8080/"
        },
        "id": "KXhQ4yxrCmCu",
        "outputId": "469a3549-f612-4d02-a1c5-b5e985192ca5"
      },
      "outputs": [
        {
          "output_type": "stream",
          "name": "stdout",
          "text": [
            "1 1\n",
            "2\n",
            "2 3\n",
            "5\n",
            "5 2\n",
            "7\n",
            "0 0\n",
            "0\n"
          ]
        }
      ],
      "source": [
        "while True :  \n",
        "  \n",
        "  # 두 정수 a, b 입력받기\n",
        "  nums = list(map(int, input().split()))\n",
        "\n",
        "  print(sum(nums))\n",
        "\n",
        "  # 0 0이 입력되면 반복문 종료\n",
        "  if nums == [0, 0] :\n",
        "    break"
      ]
    },
    {
      "cell_type": "markdown",
      "source": [
        "## BOJ 10871\tX보다 작은 수"
      ],
      "metadata": {
        "id": "t9ic2mfQCmCu"
      }
    },
    {
      "cell_type": "code",
      "source": [
        "# 수열을 이루는 정수 n개와 기준 수 x 입력\n",
        "n, x = map(int, input().split())\n",
        "\n",
        "# 수열을 리스트로 입력\n",
        "nums = list(map(int, input().split()))\n",
        "\n",
        "# 수열 리스트 안의 숫자 중 x보다 작은 수만 출력\n",
        "for i in nums :\n",
        "  if i < x :\n",
        "    print(i, end=' ')"
      ],
      "metadata": {
        "colab": {
          "base_uri": "https://localhost:8080/"
        },
        "id": "aA8cs8xACmCw",
        "outputId": "1caa6531-6263-4cb4-8467-c80e9ecca6f5"
      },
      "execution_count": 15,
      "outputs": [
        {
          "output_type": "stream",
          "name": "stdout",
          "text": [
            "10 5\n",
            "1 10 4 9 2 3 8 5 7 6\n",
            "1 4 2 3 "
          ]
        }
      ]
    },
    {
      "cell_type": "markdown",
      "source": [
        "## BOJ 2480\t주사위 세개"
      ],
      "metadata": {
        "id": "OEVFUgxwCmCw"
      }
    },
    {
      "cell_type": "code",
      "source": [
        "# 주사위 세 개의 눈\n",
        "a, b, c = map(int, input().split())\n",
        "\n",
        "# 같은 눈이 3개가 나오면 10,000원+(같은 눈)×1,000원의 상금\n",
        "if a == b == c :\n",
        "  print(10000 + (a * 1000))\n",
        "\n",
        "# 같은 눈이 2개만 나오는 경우에는 1,000원+(같은 눈)×100원의 상금\n",
        "elif a == b or a == c :\n",
        "  print(1000 + (a * 100))\n",
        "\n",
        "elif b == c :\n",
        "  print(1000 + (b * 100))\n",
        "\n",
        "# 모두 다른 눈이 나오는 경우에는 (그 중 가장 큰 눈)×100원의 상금\n",
        "else :\n",
        "  print(max(a, b, c) * 100)"
      ],
      "metadata": {
        "colab": {
          "base_uri": "https://localhost:8080/"
        },
        "id": "trKueJdlCmCx",
        "outputId": "db172503-9f16-4ded-abd4-b5a34347ba60"
      },
      "execution_count": 19,
      "outputs": [
        {
          "output_type": "stream",
          "name": "stdout",
          "text": [
            "2 2 3\n",
            "1200\n"
          ]
        }
      ]
    },
    {
      "cell_type": "markdown",
      "source": [
        "## BOJ 1065\t한수"
      ],
      "metadata": {
        "id": "vKLKm5wuCmCx"
      }
    },
    {
      "cell_type": "code",
      "source": [
        "# 1부터 n까지 숫자 중 자기 자신의 수가 한수인지 판별하여 한수면 1씩 증가\n",
        "# 한 자리 수와 두 자리 수는 각 자리의 숫자들끼리 비교할 대상이 없기때문에 한수이다.\n",
        "\n",
        "# 한수의 개수 세기\n",
        "hansu = 0\n",
        "\n",
        "# 1부터 입력받은 숫자까지 하나씩 꺼내기\n",
        "for i in range(1, int(input())+1) :\n",
        "  # 자기 자신의 수가 한 자리, 두 자리의 수라면 한수이기에 1씩 더한다\n",
        "  if i < 100 :\n",
        "    hansu += 1\n",
        "\n",
        "  # 자기 자신의 수가 세 자리 이상의 수라면 등차수열인지 확인\n",
        "  else :\n",
        "    # 각 자리의 수를 분리하여 리스트로 만들기\n",
        "    ruhansu = list(map(int, str(i)))\n",
        "    # 각 자리 수와 그 다음 자리 수의 차가 같으면 한수이기에 1씩 더한다\n",
        "    if ruhansu[0] - ruhansu[1] == ruhansu[1] - ruhansu[2] :\n",
        "      hansu += 1\n",
        "\n",
        "print(hansu)"
      ],
      "metadata": {
        "colab": {
          "base_uri": "https://localhost:8080/"
        },
        "id": "qbn9xfayCmCy",
        "outputId": "e5c01ada-fa4e-4042-847c-183a26e3ddd9"
      },
      "execution_count": 2,
      "outputs": [
        {
          "output_type": "stream",
          "name": "stdout",
          "text": [
            "110\n",
            "99\n"
          ]
        }
      ]
    },
    {
      "cell_type": "markdown",
      "source": [
        "## BOJ 1110\t더하기 사이클"
      ],
      "metadata": {
        "id": "LRf8_hxuCmCy"
      }
    },
    {
      "cell_type": "code",
      "source": [
        "# 정수 입력\n",
        "num = int(input())\n",
        "\n",
        "# 사이클 횟수 세기\n",
        "cnt = 1\n",
        "\n",
        "# 사이클을 반복하면서 만들어지는 수와 정수 num이 같아지는 것을 구하기\n",
        "stop_num = num\n",
        "\n",
        "\n",
        "while True :\n",
        "  # num의 1의 자리 숫자\n",
        "  num_1 = num % 10\n",
        "  # num의 10의 자리 숫자\n",
        "  num_10 = num // 10\n",
        "  # 각 자리 수를 더한 값의 1의 자리 숫자\n",
        "  new_num_1 = (num_1 + num_10) % 10\n",
        "  # 새로운 정수의 값\n",
        "  num = num_1 * 10 + new_num_1\n",
        "  \n",
        "  # 사이클로 만들어진 새로운 정수의 값과 입력받은 정수의 값이 같으면 중단\n",
        "  if stop_num == num :\n",
        "    print(cnt)\n",
        "    break\n",
        "\n",
        "  # 사이클 횟수를 세기\n",
        "  else :\n",
        "    cnt += 1"
      ],
      "metadata": {
        "colab": {
          "base_uri": "https://localhost:8080/"
        },
        "id": "GqILTvdrCmCz",
        "outputId": "42ca00cd-8f31-46f3-a842-e4ad41e52864"
      },
      "execution_count": 23,
      "outputs": [
        {
          "output_type": "stream",
          "name": "stdout",
          "text": [
            "26\n",
            "4\n"
          ]
        }
      ]
    },
    {
      "cell_type": "markdown",
      "source": [
        "## BOJ 10818\t최소, 최대"
      ],
      "metadata": {
        "id": "S9NuWgaV6UPL"
      }
    },
    {
      "cell_type": "code",
      "execution_count": 24,
      "metadata": {
        "colab": {
          "base_uri": "https://localhost:8080/"
        },
        "id": "IwwGYT5w5KHg",
        "outputId": "d9b4edb1-a941-4d65-fb61-f66500e7e174"
      },
      "outputs": [
        {
          "output_type": "stream",
          "name": "stdout",
          "text": [
            "5\n",
            "20 10 35 30 7\n",
            "7 35\n"
          ]
        }
      ],
      "source": [
        "# n개의 정수 입력\n",
        "n = int(input())\n",
        "\n",
        "# 정수의 리스트 입력\n",
        "nums = list(map(int, input().split()))\n",
        "\n",
        "# 최소값, 최대값\n",
        "print(min(nums), max(nums))"
      ]
    },
    {
      "cell_type": "markdown",
      "source": [
        "## BOJ 2609\t최대공약수와 최소공배수"
      ],
      "metadata": {
        "id": "fL8OMnJZ9nrD"
      }
    },
    {
      "cell_type": "code",
      "source": [
        "# 최대공약수\n",
        "from math import gcd\n",
        "\n",
        "# 두 수 입력받기\n",
        "a, b = map(int, input().split())\n",
        "\n",
        "print(gcd(a, b))\n",
        "# 최소공배수\n",
        "print(a * b // gcd(a, b))"
      ],
      "metadata": {
        "colab": {
          "base_uri": "https://localhost:8080/"
        },
        "id": "RAQd-73a896y",
        "outputId": "08d52d9e-885c-41ff-88b5-1498f7bf2486"
      },
      "execution_count": 31,
      "outputs": [
        {
          "output_type": "stream",
          "name": "stdout",
          "text": [
            "24 18\n",
            "6\n",
            "72\n"
          ]
        }
      ]
    },
    {
      "cell_type": "markdown",
      "source": [
        "## BOJ 2231\t분해합"
      ],
      "metadata": {
        "id": "Qtw8p--i9oLW"
      }
    },
    {
      "cell_type": "code",
      "source": [
        "# 분해합 n을 입력\n",
        "n = int(input())\n",
        "\n",
        "# 분해합의 생성자를 찾기위해 숫자를 하나씩 찾기\n",
        "for num in range(n) :\n",
        "  # 숫자의 각 자리 수의 합\n",
        "  sum_num = sum(map(int, str(num)))\n",
        "  # 분해합은 자신의 숫자 + 자신의 각 자리 수의 합 \n",
        "  bunhae = num + sum_num\n",
        "\n",
        "  # 입력한 분해합과 생성자를 찾기위한 분해합이 같으면\n",
        "  if bunhae == n :\n",
        "    # 첫 번째로 찾은 자신의 수를 출력하고 중단\n",
        "    print(num)\n",
        "    break\n",
        "\n",
        "# 생성자가 없다면 0을 출력\n",
        "else :\n",
        "  print(0)"
      ],
      "metadata": {
        "colab": {
          "base_uri": "https://localhost:8080/"
        },
        "id": "QyY5N7ga_gFE",
        "outputId": "07e785fc-5d51-428a-ce65-334f3a5e237b"
      },
      "execution_count": 50,
      "outputs": [
        {
          "output_type": "stream",
          "name": "stdout",
          "text": [
            "216\n",
            "198\n"
          ]
        }
      ]
    },
    {
      "cell_type": "markdown",
      "source": [
        "## BOJ 2846\t오르막길"
      ],
      "metadata": {
        "id": "2-pMGxSG_keX"
      }
    },
    {
      "cell_type": "code",
      "source": [
        "# 오르막길 높이의 수\n",
        "n = int(input())\n",
        "\n",
        "# 오르막길에 대한 수열\n",
        "orumak = list(map(int, input().split()))\n",
        "# 오르막길 높이를 세기\n",
        "height = 0\n",
        "# 오르막길들만 담을 리스트\n",
        "hill = []\n",
        "\n",
        "# 길의 순서대로 다음번째 길의 언덕과 현재 언덕의 차가 양수면 오르막\n",
        "for i in range(len(orumak) - 1) :\n",
        "  if orumak[i+1] - orumak[i] > 0 :\n",
        "    # 오르막이 계속 이어지면 그 높이를 더해주기\n",
        "    height += orumak[i+1] - orumak[i]\n",
        "    # 리스트에 오르막의 높이를 저장\n",
        "    hill.append(height)\n",
        "\n",
        "  # 내리막이 나오면 높이의 값을 0으로 초기화\n",
        "  else :\n",
        "    height = 0\n",
        "\n",
        "# 내리막길만 있었다면 0을 출력\n",
        "if hill == [] :\n",
        "  print(0)\n",
        "\n",
        "# 언덕 높이가 저장된 리스트에서 가장 높은 값 출력\n",
        "else :\n",
        "  print(max(hill))"
      ],
      "metadata": {
        "colab": {
          "base_uri": "https://localhost:8080/"
        },
        "id": "YPdNzwYZ_oE8",
        "outputId": "497371a8-22fb-46fe-d402-1bfcd97384aa"
      },
      "execution_count": 43,
      "outputs": [
        {
          "output_type": "stream",
          "name": "stdout",
          "text": [
            "8\n",
            "12 20 1 3 4 4 11 1\n",
            "[8, 2, 3, 7]\n",
            "8\n"
          ]
        }
      ]
    },
    {
      "cell_type": "markdown",
      "source": [
        "## BOJ 2953\t나는요리사다"
      ],
      "metadata": {
        "id": "NRTak6gA_p5E"
      }
    },
    {
      "cell_type": "code",
      "source": [
        "# 각 참가자가 받은 점수의 합 리스트\n",
        "scores = []\n",
        "\n",
        "# 5명의 참가자가 받은 점수 입력\n",
        "for _ in range(5) :\n",
        "  # 점수의 합을 리스트에 저장\n",
        "  scores.append(sum(map(int, input().split())))\n",
        "\n",
        "# 가장 높은 점수를 받은 참가자의 번호와 그 점수를 출력\n",
        "print(scores.index(max(scores))+1, max(scores))"
      ],
      "metadata": {
        "id": "awXRVNbO_p5G",
        "colab": {
          "base_uri": "https://localhost:8080/"
        },
        "outputId": "2d85f406-374c-421b-d7d1-0c4b224ddaca"
      },
      "execution_count": 44,
      "outputs": [
        {
          "output_type": "stream",
          "name": "stdout",
          "text": [
            "5 4 4 5\n",
            "5 4 4 4\n",
            "5 5 4 4 \n",
            "5 5 5 4\n",
            "4 4 4 5\n",
            "4 19\n"
          ]
        }
      ]
    }
  ]
}
