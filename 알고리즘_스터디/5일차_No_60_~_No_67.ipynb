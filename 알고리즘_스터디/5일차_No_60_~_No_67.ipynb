{
  "nbformat": 4,
  "nbformat_minor": 0,
  "metadata": {
    "colab": {
      "provenance": [],
      "authorship_tag": "ABX9TyNv8KpbbNH8dRsOJV8nPSea",
      "include_colab_link": true
    },
    "kernelspec": {
      "name": "python3",
      "display_name": "Python 3"
    },
    "language_info": {
      "name": "python"
    }
  },
  "cells": [
    {
      "cell_type": "markdown",
      "metadata": {
        "id": "view-in-github",
        "colab_type": "text"
      },
      "source": [
        "<a href=\"https://colab.research.google.com/github/jelly12paw/Algorithm/blob/main/%EC%95%8C%EA%B3%A0%EB%A6%AC%EC%A6%98_%EC%8A%A4%ED%84%B0%EB%94%94/5%EC%9D%BC%EC%B0%A8_No_60_~_No_67.ipynb\" target=\"_parent\"><img src=\"https://colab.research.google.com/assets/colab-badge.svg\" alt=\"Open In Colab\"/></a>"
      ]
    },
    {
      "cell_type": "markdown",
      "source": [
        "## BOJ 2161 카드1"
      ],
      "metadata": {
        "id": "29laKfHoXbLB"
      }
    },
    {
      "cell_type": "code",
      "source": [
        "# 덱을 쓰기 위해 패키지를 불러오기\n",
        "# 덱이란 양쪽에서 append와 pop을 할 수 있어 속도가 빠르다.\n",
        "from collections import deque\n",
        "\n",
        "# 1부터 입력한 수까지 덱으로 입력받기\n",
        "queue = deque(range(1, int(input())+1))\n",
        "\n",
        "# 덱 안에 값이 하나 이상이 있다면 반복하기\n",
        "while len(queue) > 1:\n",
        "  # 덱에서 가장 앞에 있는 값을 빼내어 출력하기\n",
        "  print(queue.popleft(), end=' ')\n",
        "  # 빼낸 값 다음 번째의 값을 빼내어 마지막 순서에 저장하기 \n",
        "  queue.append(queue.popleft())\n",
        "# 덱 안에 값이 하나만 있다면 출력하기\n",
        "print(*queue)"
      ],
      "metadata": {
        "colab": {
          "base_uri": "https://localhost:8080/"
        },
        "id": "ufLVD1uRXboF",
        "outputId": "cbf407fb-c687-41f9-9183-2dbccf73d7a5"
      },
      "execution_count": null,
      "outputs": [
        {
          "output_type": "stream",
          "name": "stdout",
          "text": [
            "7\n",
            "1 3 5 7 4 2 6\n"
          ]
        }
      ]
    },
    {
      "cell_type": "markdown",
      "source": [
        "## BOJ 23253 자료구조는 정말 최고야"
      ],
      "metadata": {
        "id": "Cl3eb0UjXcBi"
      }
    },
    {
      "cell_type": "code",
      "source": [
        "# 교과서의 수 N, 교과서 더미의 수 M\n",
        "# 오답 코드\n",
        "# 어디를 손봐야하나...\n",
        "\n",
        "n, m = map(int, input().split())\n",
        "d = int(input())\n",
        "d1 = list(map(int, input().split()))\n",
        "dd = int(input())\n",
        "d2 = list(map(int, input().split()))\n",
        "\n",
        "book = []\n",
        "for i in range(max(d, dd)):\n",
        "  if i < len(d1):\n",
        "    book.append(d1[::-1][i])\n",
        "  \n",
        "  if i < len(d2):\n",
        "    book.append(d2[::-1][i])\n",
        "\n",
        "if book == list(range(1, n+1)):\n",
        "  print('Yes')\n",
        "else:\n",
        "  print('No')"
      ],
      "metadata": {
        "id": "RT95nJYVXcaS"
      },
      "execution_count": null,
      "outputs": []
    },
    {
      "cell_type": "markdown",
      "source": [
        "## BOJ 9012 괄호"
      ],
      "metadata": {
        "id": "-_lFMu-2Xcwz"
      }
    },
    {
      "cell_type": "code",
      "source": [
        "for _ in range(int(input())):\n",
        "  word = input()\n",
        "\n",
        "  stack_ = [] \n",
        "  for i in range(len(word)):\n",
        "    if word[i] == '(':\n",
        "      stack_.append(word[i])\n",
        "\n",
        "    else:\n",
        "      if stack_ != []: \n",
        "        stack_.pop() \n",
        "      else: \n",
        "        print('NO')\n",
        "        break\n",
        "\n",
        "  else:\n",
        "  if stack_ == []:\n",
        "    print('YES')\n",
        "  else:\n",
        "    print('NO')"
      ],
      "metadata": {
        "colab": {
          "base_uri": "https://localhost:8080/"
        },
        "id": "V53jVMf4XdJY",
        "outputId": "b34a169e-372f-4a9e-9792-dcf6593dd761"
      },
      "execution_count": null,
      "outputs": [
        {
          "output_type": "stream",
          "name": "stdout",
          "text": [
            "1\n",
            "))\n",
            "NO\n",
            "YES\n"
          ]
        }
      ]
    },
    {
      "cell_type": "markdown",
      "source": [
        "## BOJ 2909 KMP는 왜 KMP일까?"
      ],
      "metadata": {
        "id": "FWYmBxLU3yug"
      }
    },
    {
      "cell_type": "code",
      "execution_count": null,
      "metadata": {
        "colab": {
          "base_uri": "https://localhost:8080/"
        },
        "id": "dvPL9zGb3V7M",
        "outputId": "72378e59-3926-4482-a74a-9dd77f3447de"
      },
      "outputs": [
        {
          "output_type": "stream",
          "name": "stdout",
          "text": [
            "Knuth-Morris-Pratt\n",
            "KMP"
          ]
        }
      ],
      "source": [
        "# '-'을 기준으로 문자열을 나누어 리스트로 입력받기\n",
        "names = list(input().split('-'))\n",
        "\n",
        "# 리스트에 있는 요소들을 하나씩 꺼내어\n",
        "for i in names:\n",
        "  # 요소의 가장 처음 글자만 출력\n",
        "  print(i[0], end='')"
      ]
    },
    {
      "cell_type": "markdown",
      "source": [
        "## BOJ 14720 우유 축제"
      ],
      "metadata": {
        "id": "fUvE-wi34yXk"
      }
    },
    {
      "cell_type": "code",
      "source": [
        "# 딸기 > 초코 > 바나나 > 딸기\n",
        "# 그리디 알고리즘 : 지금 현재 상황에서 가장 좋은 것을 고른다\n",
        "# 오답코드\n",
        "# 0 1 2 0 1 2 순서 설정 안됨\n",
        "\n",
        "\n",
        "milks = [0, 1, 2]\n",
        "cnt = 0\n",
        "\n",
        "n = int(input())\n",
        "mm = list(map(int, input().split()))\n",
        "\n",
        "for i in range(len(mm)):\n",
        "  if i % 3 == 0:\n",
        "    mm[i] == milks[0]\n",
        "    cnt += 1\n",
        "  elif i % 3 == 1:\n",
        "    mm[i] == milks[1]\n",
        "    cnt += 1\n",
        "  elif i % 3 == 2:\n",
        "    mm[i] == milks[2]\n",
        "    cnt += 1\n",
        "\n",
        "print(cnt)  "
      ],
      "metadata": {
        "colab": {
          "base_uri": "https://localhost:8080/",
          "height": 270
        },
        "id": "3eUtBsRc4N3P",
        "outputId": "68fea122-33c0-4566-dfbb-e6d7b6a8e28c"
      },
      "execution_count": null,
      "outputs": [
        {
          "name": "stdout",
          "output_type": "stream",
          "text": [
            "7\n",
            "0 1 2 0 1 2 0\n"
          ]
        },
        {
          "output_type": "error",
          "ename": "IndexError",
          "evalue": "ignored",
          "traceback": [
            "\u001b[0;31m---------------------------------------------------------------------------\u001b[0m",
            "\u001b[0;31mIndexError\u001b[0m                                Traceback (most recent call last)",
            "\u001b[0;32m<ipython-input-9-9e0496507c81>\u001b[0m in \u001b[0;36m<module>\u001b[0;34m\u001b[0m\n\u001b[1;32m      9\u001b[0m \u001b[0;34m\u001b[0m\u001b[0m\n\u001b[1;32m     10\u001b[0m \u001b[0;32mfor\u001b[0m \u001b[0mi\u001b[0m \u001b[0;32min\u001b[0m \u001b[0mrange\u001b[0m\u001b[0;34m(\u001b[0m\u001b[0mlen\u001b[0m\u001b[0;34m(\u001b[0m\u001b[0mmilks\u001b[0m\u001b[0;34m)\u001b[0m\u001b[0;34m)\u001b[0m\u001b[0;34m:\u001b[0m\u001b[0;34m\u001b[0m\u001b[0;34m\u001b[0m\u001b[0m\n\u001b[0;32m---> 11\u001b[0;31m   \u001b[0;32mif\u001b[0m \u001b[0mmilks\u001b[0m\u001b[0;34m.\u001b[0m\u001b[0mpopleft\u001b[0m\u001b[0;34m(\u001b[0m\u001b[0;34m)\u001b[0m \u001b[0;34m==\u001b[0m \u001b[0;36m0\u001b[0m\u001b[0;34m:\u001b[0m\u001b[0;34m\u001b[0m\u001b[0;34m\u001b[0m\u001b[0m\n\u001b[0m\u001b[1;32m     12\u001b[0m     \u001b[0mcnt\u001b[0m \u001b[0;34m+=\u001b[0m \u001b[0;36m1\u001b[0m\u001b[0;34m\u001b[0m\u001b[0;34m\u001b[0m\u001b[0m\n\u001b[1;32m     13\u001b[0m \u001b[0;34m\u001b[0m\u001b[0m\n",
            "\u001b[0;31mIndexError\u001b[0m: pop from an empty deque"
          ]
        }
      ]
    },
    {
      "cell_type": "markdown",
      "source": [
        "## BOJ 1076 저항"
      ],
      "metadata": {
        "id": "N7oPAaEg014U"
      }
    },
    {
      "cell_type": "code",
      "source": [
        "color_value = {\n",
        "    'black' :\t0,\t\n",
        "    'brown' :\t1,\n",
        "    'red' :\t2,\n",
        "    'orange' : 3,\n",
        "    'yellow' : 4,\n",
        "    'green' :\t5,\n",
        "    'blue' : 6, \n",
        "    'violet' : 7,\n",
        "    'grey' : 8,\n",
        "    'white' :\t9\n",
        "}\n",
        "\n",
        "color_mul = {\n",
        "    'black' :\t1,\t\n",
        "    'brown' :\t10,\n",
        "    'red' :\t100,\n",
        "    'orange' : 1000,\n",
        "    'yellow' : 10000,\n",
        "    'green' :\t100000,\n",
        "    'blue' : 1000000, \n",
        "    'violet' : 10000000,\n",
        "    'grey' : 100000000,\n",
        "    'white' :\t1000000000\n",
        "}\n",
        "\n",
        "a = color_value[input()] * 10\n",
        "b = color_value[input()]\n",
        "c = color_mul[input()]\n",
        "\n",
        "print((a + b) * c)"
      ],
      "metadata": {
        "colab": {
          "base_uri": "https://localhost:8080/"
        },
        "id": "cOeGdh3K05IM",
        "outputId": "47b8d50c-6805-4f6d-cc51-7327cd2ec627"
      },
      "execution_count": null,
      "outputs": [
        {
          "output_type": "stream",
          "name": "stdout",
          "text": [
            "white\n",
            "white\n",
            "white\n",
            "90 9 1000000000\n",
            "99000000000\n"
          ]
        }
      ]
    },
    {
      "cell_type": "markdown",
      "source": [
        "## BOJ 20001 고무오리 디버깅"
      ],
      "metadata": {
        "id": "r49vxzqSMRIu"
      }
    },
    {
      "cell_type": "code",
      "source": [
        "duck = []\n",
        "\n",
        "while True:\n",
        "  word = input()\n",
        "  duck.append(word)\n",
        "\n",
        "  if word == '고무오리 디버깅 끝':\n",
        "    break\n",
        "\n",
        "duck = duck[1:-1]\n",
        "\n",
        "stack_ = []\n",
        "\n",
        "for i in range(len(duck)):\n",
        "  if duck[i] == '문제':\n",
        "    stack_.append(i)\n",
        "\n",
        "  if duck[i] == '고무오리':\n",
        "    if stack_ == []:\n",
        "      stack_.append('문제')\n",
        "      stack_.append('문제')\n",
        "\n",
        "    else:\n",
        "      stack_.pop()\n",
        "\n",
        "if stack_ == []:\n",
        "  print('고무오리야 사랑해')\n",
        "\n",
        "else:\n",
        "  print('힝구')\n",
        "\n",
        "  # 오답 코드\n",
        "  duck = []\n",
        "\n",
        "while True:\n",
        "  word = input()\n",
        "  duck.append(word)\n",
        "\n",
        "  if word == '고무오리 디버깅 끝':\n",
        "    break\n",
        "\n",
        "duck = duck[1:-1]\n",
        "\n",
        "stack_ = []\n",
        "\n",
        "for i in range(len(duck)):\n",
        "  if duck[i] == '문제':\n",
        "    stack_.append(i)\n",
        "  # print(stack_)\n",
        "\n",
        "  if stack_ == [] and duck[i] == '고무오리':\n",
        "    stack_.append('문제')\n",
        "    stack_.append('문제')\n",
        "  # print(stack_)\n",
        "\n",
        "  if duck[i] == '고무오리':\n",
        "    stack_.pop()\n",
        "  # print(stack_)\n",
        "\n",
        "if stack_ == []:\n",
        "  print('고무오리야 사랑해')\n",
        "\n",
        "else:\n",
        "  print('힝구')"
      ],
      "metadata": {
        "colab": {
          "base_uri": "https://localhost:8080/"
        },
        "id": "CyEu3xNlMWct",
        "outputId": "f0980195-8f5c-42c1-bf4e-42fc9edd76d1"
      },
      "execution_count": null,
      "outputs": [
        {
          "output_type": "stream",
          "name": "stdout",
          "text": [
            "고무오리 디버깅 시작\n",
            "문제\n",
            "문제\n",
            "고무오리\n",
            "고무오리\n",
            "문제\n",
            "고무오리\n",
            "고무오리 디버깅 끝\n",
            "['고무오리 디버깅 시작', '문제', '문제', '고무오리', '고무오리', '문제', '고무오리', '고무오리 디버깅 끝']\n"
          ]
        }
      ]
    },
    {
      "cell_type": "markdown",
      "source": [
        "## BOJ 10546 배부른 마라토너"
      ],
      "metadata": {
        "id": "fVjXFMMy9h_X"
      }
    },
    {
      "cell_type": "code",
      "source": [
        "# 시간 초과\n",
        "\n",
        "in_ = []\n",
        "\n",
        "n = int(input())\n",
        "for _ in range(n): # O(N)\n",
        "  in_.append(input())\n",
        "\n",
        "for i in range(n-1): # O(N)\n",
        "  out_ = input()\n",
        "\n",
        "  # if out_ in in_: # O(N)\n",
        "  in_.remove(out_) # O(N)\n",
        "\n",
        "print(*in_)"
      ],
      "metadata": {
        "colab": {
          "base_uri": "https://localhost:8080/",
          "height": 322
        },
        "id": "QGr-QtaX9k7d",
        "outputId": "1be257e8-1abf-4629-de3d-89da3f2be074"
      },
      "execution_count": null,
      "outputs": [
        {
          "name": "stdout",
          "output_type": "stream",
          "text": [
            "3\n",
            "a\n",
            "s\n",
            "d\n",
            "d\n"
          ]
        },
        {
          "output_type": "error",
          "ename": "TypeError",
          "evalue": "ignored",
          "traceback": [
            "\u001b[0;31m---------------------------------------------------------------------------\u001b[0m",
            "\u001b[0;31mTypeError\u001b[0m                                 Traceback (most recent call last)",
            "\u001b[0;32m<ipython-input-3-2be9379b62f1>\u001b[0m in \u001b[0;36m<module>\u001b[0;34m\u001b[0m\n\u001b[1;32m     11\u001b[0m \u001b[0;34m\u001b[0m\u001b[0m\n\u001b[1;32m     12\u001b[0m   \u001b[0;31m# if out_ in in_: # O(N)\u001b[0m\u001b[0;34m\u001b[0m\u001b[0;34m\u001b[0m\u001b[0;34m\u001b[0m\u001b[0m\n\u001b[0;32m---> 13\u001b[0;31m   \u001b[0min_\u001b[0m\u001b[0;34m.\u001b[0m\u001b[0mremove\u001b[0m\u001b[0;34m(\u001b[0m\u001b[0;34m)\u001b[0m \u001b[0;31m# O(N)\u001b[0m\u001b[0;34m\u001b[0m\u001b[0;34m\u001b[0m\u001b[0m\n\u001b[0m\u001b[1;32m     14\u001b[0m \u001b[0;34m\u001b[0m\u001b[0m\n\u001b[1;32m     15\u001b[0m \u001b[0mprint\u001b[0m\u001b[0;34m(\u001b[0m\u001b[0;34m*\u001b[0m\u001b[0min_\u001b[0m\u001b[0;34m)\u001b[0m\u001b[0;34m\u001b[0m\u001b[0;34m\u001b[0m\u001b[0m\n",
            "\u001b[0;31mTypeError\u001b[0m: remove() takes exactly one argument (0 given)"
          ]
        }
      ]
    }
  ]
}