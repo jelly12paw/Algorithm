{
  "nbformat": 4,
  "nbformat_minor": 0,
  "metadata": {
    "colab": {
      "provenance": [],
      "authorship_tag": "ABX9TyOkGYHkIG2X+2mWAXr/Bdrc",
      "include_colab_link": true
    },
    "kernelspec": {
      "name": "python3",
      "display_name": "Python 3"
    },
    "language_info": {
      "name": "python"
    }
  },
  "cells": [
    {
      "cell_type": "markdown",
      "metadata": {
        "id": "view-in-github",
        "colab_type": "text"
      },
      "source": [
        "<a href=\"https://colab.research.google.com/github/jelly12paw/Algorithm/blob/main/%EC%95%8C%EA%B3%A0%EB%A6%AC%EC%A6%98_%EC%8A%A4%ED%84%B0%EB%94%94/SWEA_%EB%AA%A8%EC%9D%98%EA%B3%A0%EC%82%AC_1%EC%A3%BC%EC%B0%A8.ipynb\" target=\"_parent\"><img src=\"https://colab.research.google.com/assets/colab-badge.svg\" alt=\"Open In Colab\"/></a>"
      ]
    },
    {
      "cell_type": "markdown",
      "source": [
        "## SWEA 신용카드 만들기 1"
      ],
      "metadata": {
        "id": "KgPd6NVeHHSM"
      }
    },
    {
      "cell_type": "code",
      "execution_count": null,
      "metadata": {
        "colab": {
          "base_uri": "https://localhost:8080/"
        },
        "id": "oY2zMBW6HAHd",
        "outputId": "2bd771f9-212b-47e0-ace3-86c128d02052"
      },
      "outputs": [
        {
          "output_type": "stream",
          "name": "stdout",
          "text": [
            "1\n",
            "4 5 2 0 0 2 0 0 1 9 0 0 4 0 6\n",
            "#1 0\n"
          ]
        }
      ],
      "source": [
        "# 룬 공식 : 카드 번호에서 16번째 숫자 N을 구하는 공식\n",
        "# 홀수 자리 : 각 자리 마다 2를 곱하고 더하기\n",
        "# 짝수 자리 : 다 더하기\n",
        "# 홀 + 짝 + N % 10 == 0 일 때의 N 구하기\n",
        "\n",
        "# 테스트 케이스를 몇 번 실행할지 입력받기\n",
        "for num in range(1, int(input())+1) :\n",
        "  # 15자리의 카드 번호 입력받아 리스트로 저장\n",
        "  card_nums = list(map(int, input().split()))\n",
        "\n",
        "  # 홀수 자리의 수의 합\n",
        "  odd_sum = 0\n",
        "  # 짝수 자리의 수의 합\n",
        "  even_sum = 0\n",
        "\n",
        "  # 입력받은 카드 번호 리스트에서 번호를 하나씩 꺼내기\n",
        "  for i in range(len(card_nums)) :\n",
        "    # 홀수 자리의 수(인덱스 상 짝수)에 2를 곱하고 홀수합에 더하기\n",
        "    if i % 2 == 0 :\n",
        "      odd_sum += card_nums[i] * 2\n",
        "    # 짝수 자리의 수는 짝수합에 더하기\n",
        "    else :\n",
        "      even_sum += card_nums[i]\n",
        "\n",
        "  # 0부터 9까지의 수 중에 룬 공식에 부합하는 16번째의 수 찾기\n",
        "  for j in range(10) :\n",
        "    # 홀수합 + 짝수합 + 16번째의 수를 10으로 나누떨어지는 수\n",
        "    if (odd_sum + even_sum + j) % 10 == 0 :\n",
        "      print(f'#{num} {j}')"
      ]
    },
    {
      "cell_type": "markdown",
      "source": [
        "## SWEA 신용카드 만들기 2"
      ],
      "metadata": {
        "id": "O84VjW5XK8zD"
      }
    },
    {
      "cell_type": "code",
      "source": [
        "# 신용 카드를 만들 수 있는 조건\n",
        "# 1. \"3, 4, 5, 6, 9\" 로 시작해야 한다.\n",
        "# 2. 카드 번호에 \"-\"이 들어갈 수 있으며 \"-\" 를 제외한 숫자의 개수는 16개여야 한다.\n",
        "\n",
        "# 테스트 케이스를 몇 번 실행할지 입력받기\n",
        "for num in range(1, int(input())+1) :\n",
        " # 카드 번호를 문자열로 입력받기\n",
        "  card_nums = input()\n",
        "\n",
        "  # 입력받은 카드 번호의 첫 번호가 \"3, 4, 5, 6, 9\"가 아니라면\n",
        "  if card_nums[0] not in '34569' :\n",
        "    # 유효하지 않다는 '0' 출력\n",
        "    print(f'#{num} {0}')\n",
        "\n",
        "  # 입력받은 카드 번호의 첫 번호가 \"3, 4, 5, 6, 9\"라면 계속 진행\n",
        "  else :\n",
        "    # 입력받은 카드 번호에 '-'가 포함되어 있다면\n",
        "    if '-' in card_nums :\n",
        "      # 입력받은 카드 번호의 '-'를 지워주기\n",
        "      card_nums = card_nums.replace('-', '')\n",
        "\n",
        "    # '-'를 지운 카드 번호의 길이가 16이라면\n",
        "    if len(card_nums) == 16 :\n",
        "      # 유효한 카드라는 '1' 출력\n",
        "      print(f'#{num} {1}')\n",
        "    # 아니라면 유효하지 않다는 '0' 출력\n",
        "    else :\n",
        "      print(f'#{num} {0}')"
      ],
      "metadata": {
        "colab": {
          "base_uri": "https://localhost:8080/"
        },
        "id": "JlFjInXJKQ_F",
        "outputId": "e4f8cd10-ff93-4960-cf46-8111452f509b"
      },
      "execution_count": null,
      "outputs": [
        {
          "output_type": "stream",
          "name": "stdout",
          "text": [
            "5\n",
            "5388-9075-9509-8708\n",
            "#1 1\n",
            "0832360068237774\n",
            "#2 0\n",
            "3555407448033347\n",
            "#3 1\n",
            "934295222177954\n",
            "#4 0\n",
            "7092778075669138\n",
            "#5 0\n"
          ]
        }
      ]
    },
    {
      "cell_type": "markdown",
      "source": [
        "## SWEA 문자열의 거울상"
      ],
      "metadata": {
        "id": "7cepFg3jcyaH"
      }
    },
    {
      "cell_type": "code",
      "source": [
        "# ‘b’, ‘d’, ‘p’, ‘q’의 문자를 거울에 비추면 ‘d’, ‘b’, ‘q’, ‘p’\n",
        "\n",
        "# ‘d’, ‘b’, ‘q’, ‘p’를 담은 리스트\n",
        "dbqp = ['d', 'b', 'q', 'p'] \n",
        "\n",
        "# 테스트 케이스를 몇 번 실행할지 입력받기\n",
        "for num in range(1, int(input())+1) :\n",
        "  # 문자열 입력받아 역순으로 저장\n",
        "  bdpq = input()[::-1]\n",
        "  \n",
        "  # ‘b’ : 1, ‘d’ : 2, ‘p’ : 3, ‘q’ : 4 로 변환\n",
        "  bdpq = bdpq.replace('b', '1')\n",
        "  bdpq = bdpq.replace('d', '2')\n",
        "  bdpq = bdpq.replace('p', '3')\n",
        "  bdpq = bdpq.replace('q', '4')\n",
        "\n",
        "  # 1 : 'd', 2 : 'b', 3 : 'q', 4 : 'p' 로 변환\n",
        "  bdpq = bdpq.replace('1', 'd')\n",
        "  bdpq = bdpq.replace('2', 'b')\n",
        "  bdpq = bdpq.replace('3', 'q')\n",
        "  bdpq = bdpq.replace('4', 'p')\n",
        "\n",
        "  # 거울에 비친 문자열 출력\n",
        "  print(f'#{num} {bdpq}')"
      ],
      "metadata": {
        "colab": {
          "base_uri": "https://localhost:8080/"
        },
        "id": "ez1M6ddSPmsm",
        "outputId": "2c520a1c-dcf1-4d4f-c9b4-a948ac738aec"
      },
      "execution_count": null,
      "outputs": [
        {
          "output_type": "stream",
          "name": "stdout",
          "text": [
            "1\n",
            "qqqqpppbbd\n",
            "#1 bddqqqpppp\n"
          ]
        }
      ]
    },
    {
      "cell_type": "markdown",
      "source": [
        "## SWEA 소득 불균형"
      ],
      "metadata": {
        "id": "3E_QCO9GjXuA"
      }
    },
    {
      "cell_type": "code",
      "source": [
        "# 테스트 케이스를 몇 번 실행할지 입력받기\n",
        "for num in range(1, int(input())+1) :\n",
        "  # 소득을 입력받을 사람의 수\n",
        "  n = int(input())\n",
        "  # 사람들의 소득을 리스트로 입력받기\n",
        "  n_money = list(map(int, input().split()))\n",
        "  # 평균 소득 구하기\n",
        "  n_mean = sum(n_money) // n\n",
        "\n",
        "  # 평균 소득 이하인 사람의 수 구하기\n",
        "  people = 0\n",
        "\n",
        "  # 소득 리스트에서 하나씩 꺼내기\n",
        "  for i in n_money :\n",
        "    # 소득이 평균 소득보다 이하라면\n",
        "    if i <= n_mean :\n",
        "      # 사람의 수에 1을 더하기\n",
        "      people += 1\n",
        "\n",
        "  print(f'#{num} {people}')"
      ],
      "metadata": {
        "colab": {
          "base_uri": "https://localhost:8080/"
        },
        "id": "wmgBEpH3e5YU",
        "outputId": "27e7a97d-0ce7-4719-911f-5529a3541203"
      },
      "execution_count": null,
      "outputs": [
        {
          "output_type": "stream",
          "name": "stdout",
          "text": [
            "2\n",
            "7\n",
            "15 15 15 15 15 15 15\n",
            "#1 7\n",
            "10\n",
            "1 1 1 1 1 1 1 1 1 100\n",
            "#2 9\n"
          ]
        }
      ]
    },
    {
      "cell_type": "markdown",
      "source": [
        "## SWEA 직사각형 길이 찾기"
      ],
      "metadata": {
        "id": "tZFCGg4EnbeA"
      }
    },
    {
      "cell_type": "code",
      "source": [
        "# 테스트 케이스를 몇 번 실행할지 입력받기\n",
        "for num in range(1, int(input())+1) :\n",
        "  # 직사각형 세 변의 길이를 입력받기\n",
        "  a, b, c = map(int, input().split())\n",
        "\n",
        "  # 세 변의 길이가 모두 같다면 한 변의 길이를 출력\n",
        "  if a == b == c :\n",
        "    print(f'#{num} {a}')\n",
        "  else :  \n",
        "    # 입력받은 두 변의 길이가 같다면 나머지 한 변의 길이를 출력\n",
        "    if a == b :\n",
        "      print(f'#{num} {c}')\n",
        "    \n",
        "    elif a == c :\n",
        "      print(f'#{num} {b}')\n",
        "\n",
        "    else :\n",
        "      print(f'#{num} {a}')"
      ],
      "metadata": {
        "colab": {
          "base_uri": "https://localhost:8080/"
        },
        "id": "MQm5P92jnGXp",
        "outputId": "21c00ca6-38bd-4581-80a0-cf6f77d2167b"
      },
      "execution_count": null,
      "outputs": [
        {
          "output_type": "stream",
          "name": "stdout",
          "text": [
            "3\n",
            "1 1 2\n",
            "#1 2\n",
            "4 3 4\n",
            "#2 3\n",
            "5 5 5\n",
            "#3 5\n"
          ]
        }
      ]
    },
    {
      "cell_type": "markdown",
      "source": [
        "## SWEA 최빈수 구하기"
      ],
      "metadata": {
        "id": "3bSjA-4zo6lY"
      }
    },
    {
      "cell_type": "code",
      "source": [
        "# 테스트 케이스를 몇 번 실행할지 입력받기\n",
        "for num in range(1, int(input())+1) :\n",
        "  # 테스트 케이스 번호 입력받기\n",
        "  test_num = int(input())\n",
        "  # 1000명의 학생들의 점수를 리스트로 입력받기\n",
        "  scores = list(map(int, input().split()))\n",
        "\n",
        "  # 0점부터 100점까지의 점수의 개수를 담을 리스트\n",
        "  score_cnt = [0] * 101\n",
        "\n",
        "  # 점수 리스트를 하나씩 꺼내어\n",
        "  for i in scores :\n",
        "    # 점수의 개수 리스트에 해당 점수와 같은 인덱스 값에 1을 더하기\n",
        "    score_cnt[i] += 1\n",
        "\n",
        "  # 점수의 개수 리스트에서 가장 큰 수의 인덱스 값을 출력\n",
        "  print(f'#{num} {score_cnt.index(max(score_cnt))}')"
      ],
      "metadata": {
        "colab": {
          "base_uri": "https://localhost:8080/"
        },
        "id": "4ZN_wA1SokCO",
        "outputId": "62ebc646-82d4-407b-f204-f9336676f824"
      },
      "execution_count": null,
      "outputs": [
        {
          "output_type": "stream",
          "name": "stdout",
          "text": [
            "1\n",
            "1\n",
            "41 85 72 38 80 69 65 68 96 22 49 67 51 61 63 87 66 24 80 83 71 60 64 52 90 60 49 31 23 99 94 11 25 24 51 15 13 39 67 97 19 76 12 33 99 18 92 35 74 0 95 71 39 33 39 32 37 45 57 71 95 5 71 24 86 8 51 54 74 24 75 70 33 63 29 99 58 94 52 13 35 99 46 57 71 23 17 3 94 48 77 18 83 11 83 25 59 62 2 78 86 7 94 65 80 32 39 84 60 65 72 61 58 84 8 72 12 19 47 49 49 59 71 52 34 22 21 20 92 33 80 39 74 9 28 97 100 93 29 25 4 66 79 81 98 21 91 62 82 4 59 100 34 1 51 80 92 69 77 39 38 97 51 34 35 19 22 1 67 9 90 31 82 11 51 84 78 70 74 42 100 88 53 80 57 62 32 51 48 63 92 46 4 61 31 98 69 52 88 20 68 41 48 79 97 98 56 44 73 3 63 100 87 87 41 79 64 83 63 1 21 72 24 9 75 51 25 53 77 0 52 30 96 93 32 89 70 89 55 71 79 40 10 64 80 30 19 62 67 98 42 8 32 57 27 22 1 38 89 52 74 43 8 2 65 82 20 67 22 43 22 95 16 48 25 6 75 86 96 3 85 43 69 93 4 61 53 81 43 84 20 15 34 22 35 26 28 33 67 19 79 19 45 8 13 51 0 86 68 18 47 82 3 16 80 0 18 39 22 5 26 65 70 21 92 66 65 14 6 46 46 21 32 80 35 86 6 67 29 42 71 14 77 55 3 1 14 38 71 82 41 65 12 5 77 3 67 22 59 40 81 48 63 63 25 45 32 78 83 26 96 18 99 45 56 31 30 45 47 80 1 7 81 18 1 90 15 71 22 69 44 18 31 60 16 93 13 17 44 97 98 51 46 42 22 47 72 97 24 52 55 59 25 100 28 5 14 76 32 41 97 61 32 20 0 2 8 41 52 77 35 22 98 78 92 68 29 82 33 28 16 5 9 21 13 26 39 59 69 10 42 4 13 80 34 42 100 44 32 70 15 32 8 83 10 23 73 8 53 7 21 10 52 14 82 28 24 33 94 59 4 17 73 53 85 31 100 74 74 12 72 38 34 14 22 53 0 30 95 3 52 79 41 36 81 25 24 67 48 95 44 7 96 77 90 48 92 45 78 93 95 38 71 4 83 79 64 89 0 76 81 34 66 1 13 58 4 40 5 24 17 6 65 13 13 76 3 20 8 36 12 60 37 42 53 87 10 65 42 25 47 41 33 71 69 94 24 12 92 11 71 3 82 91 90 20 95 44 76 60 34 95 49 40 89 4 45 27 9 34 82 59 2 20 68 22 29 10 1 23 19 47 16 76 47 49 90 94 10 18 55 69 14 26 59 77 73 8 21 72 1 74 76 51 94 44 24 98 71 77 59 9 12 49 38 72 22 55 35 61 16 48 41 21 67 74 92 4 7 85 34 92 39 96 42 26 1 1 4 64 33 96 62 23 67 76 26 47 32 73 82 30 14 61 21 92 40 4 2 38 76 64 8 14 3 49 71 31 38 86 98 17 15 98 32 55 69 46 61 3 44 67 50 44 76 0 45 23 25 11 82 99 11 39 50 40 21 52 17 60 44 90 44 6 16 38 3 41 43 56 26 24 0 9 90 36 50 13 42 88 87 66 32 28 73 94 52 11 35 47 9 87 37 57 15 56 38 95 6 43 23 30 84 39 88 69 5 34 81 93 86 2 77 10 28 30 97 68 14 12 88 1 100 35 73 30 2 43 11 41 58 82 6 84 71 16 18 67 41 100 92 78 57 7 35 69 56 76 13 93 26 26 38 21 96 7 88 2 60 17 54 95 26 2 0 21 87 11 96 36 83 88 31 24 24 62 14 88 84 39 22 17 84 96 1 78 91 53 9 35 75 87 100 33 80 42 7 20 50 65 81 92 14 45 96 34 6 20 86 51 4 19 70 91 13 0 42 70 43 15 47 14 96 72 41 91 11 72 7 92 12 16 51 13 86 40 50 43 55 26 7 1 70 18 71 99 49 55 94 78 40 59 20 96 34 6 28 85 42 70 62 63 32 34 97 80 49 47 50 73 85 63 20 29 0 19 91 84 58 55 33 4 68 55 12 38 49 9 13 99 4 35 26 5 42 29 98 20 95 77 36 63 41 42 45 81 40 53 60 5 55 9 13 34 6 52 28 35 33 29 21 67 57 61 21 41 95 54 50 19 81 75 67 73 77 47 40 83 16 28\n",
            "#1 71\n"
          ]
        }
      ]
    },
    {
      "cell_type": "markdown",
      "source": [
        "## SWEA 암호문 1"
      ],
      "metadata": {
        "id": "bqxKnCDrriTh"
      }
    },
    {
      "cell_type": "code",
      "source": [
        "# SWEA 모의고사 1주차\n",
        "# 암호문 1\n",
        "\n",
        "for 테스트케이스 in range(1, 11) :\n",
        "  원본_암호문_길이 = int(input())\n",
        "  원본_암호문 = list(map(int, input().split()))\n",
        "  명령어의_개수 = int(input())\n",
        "  명령어 = list(input().split())\n",
        "\n",
        "  for i in range(len(명령어)) :\n",
        "    if 명령어[i] == 'I' :\n",
        "      위치_인덱스 = int(명령어[i+1])\n",
        "      개수 = int(명령어[i+2])\n",
        "      덧붙일_숫자 = 명령어[i+3:i+3+개수]\n",
        "\n",
        "      for 숫자들 in 덧붙일_숫자[::-1]:\n",
        "        원본_암호문.insert(위치_인덱스, int(숫자들))\n",
        "\n",
        "  print('#{} {} {} {} {} {} {} {} {} {} {}'.format(테스트케이스, *원본_암호문[:10]))\n",
        "\n",
        "# 1. append와 insert의 차이점을 몰랐다.\n",
        "# 2. insert사용법을 모름\n",
        "\n",
        "# append()\n",
        "# 리스트 = [1, 2, 3]\n",
        "# 리스트.append(값)\n",
        "# 리스트 안에 값이 저장될 때 가장 마지막에 저장된다. [1, 2, 3, 값]\n",
        "\n",
        "# insert(위치, 값)\n",
        "# 리스트.insert(위치, 값)\n",
        "# 리스트 안에 값이 저장될 때 해당 위치에 저장된다.\n",
        "\n",
        "# 저장되는 값이 여러개일 경우 가장 먼저 입력된 값은 뒤로 간다.\n",
        "# 리스트.insert(위치, 값1)\n",
        "# 리스트.insert(위치, 값2)\n",
        "# [값2, 값1, 1, 2, 3]\n",
        "\n",
        "# for 숫자들 in 덧붙일_숫자[::-1]:\n",
        "#   원본_암호문.insert(위치_인덱스, int(숫자들))\n",
        "# 덧붙일_숫자 리스트에 있는 값을 역순으로 하나씩 저장하는 이유는\n",
        "# 가장 먼저 입력된 값을 가장 앞에서 출력하기 위해서이다."
      ],
      "metadata": {
        "id": "754LJNmerlKW"
      },
      "execution_count": null,
      "outputs": []
    },
    {
      "cell_type": "markdown",
      "source": [
        "# 이진 탐색"
      ],
      "metadata": {
        "id": "MaweKgfusnun"
      }
    },
    {
      "cell_type": "markdown",
      "source": [
        "## BOJ 1920 수 찾기"
      ],
      "metadata": {
        "id": "h8YM4wOnsqnm"
      }
    },
    {
      "cell_type": "code",
      "source": [
        "# 자연수 n 입력받기\n",
        "n = int(input())\n",
        "# N개 정수를 입력받아 정렬하여 튜플에 저장하기\n",
        "N = sorted(tuple(map(int, input().split())))\n",
        "# 자연수 m 입력받기\n",
        "m = int(input())\n",
        "# M개의 정수를 입력받아 튜플에 저장하기\n",
        "M = tuple(map(int, input().split()))\n",
        "\n",
        "# 이진 탐색 함수 만들기\n",
        "def bin_s(start, end, target) :\n",
        "  # 시작 인덱스 값이 끝 인덱스 값보다 작거나 같으면 유효\n",
        "  while start <= end :\n",
        "    # 중앙값의 인덱스 구하기\n",
        "    mid = (start + end) // 2\n",
        "\n",
        "    # 타겟 값과 중앙값이 같으면\n",
        "    if target == N[mid] :\n",
        "      # 1을 리턴\n",
        "      return 1\n",
        "    # 타겟 값이 중앙값보다 크다면\n",
        "    elif target > N[mid] :\n",
        "      # 시작 인덱스 값을 오른쪽으로 이동\n",
        "      start = mid + 1\n",
        "    # 타겟 값이 중앙값보다 작다면\n",
        "    elif target < N[mid] :\n",
        "      # 끝 인덱스 값을 왼쪽으로 이동\n",
        "      end = mid - 1\n",
        "  # 유효하지 않으면 0을 리턴\n",
        "  return 0\n",
        "\n",
        "# 튜플 M에 있는 값을 하나씩 꺼내어 타겟값으로 지정\n",
        "for target in M :\n",
        "  # 시작 인덱스 값과 비교할 튜플 N의 끝 인덱스 값 그리고 타겟값을 넣어 이진 탐색 함수에 넣기\n",
        "  print(bin_s(0, n-1, target))"
      ],
      "metadata": {
        "colab": {
          "base_uri": "https://localhost:8080/"
        },
        "id": "6zjOEDhlsv3Y",
        "outputId": "bba57627-0702-44fa-8f55-fc6f8c47d06b"
      },
      "execution_count": null,
      "outputs": [
        {
          "output_type": "stream",
          "name": "stdout",
          "text": [
            "5\n",
            "4 1 5 2 3\n",
            "5\n",
            "1 3 7 9 5\n",
            "1\n",
            "1\n",
            "0\n",
            "0\n",
            "1\n"
          ]
        }
      ]
    },
    {
      "cell_type": "markdown",
      "source": [
        "## BOJ 1654 랜선 자르기"
      ],
      "metadata": {
        "id": "0OvBmXU35ONg"
      }
    },
    {
      "cell_type": "code",
      "source": [
        "# 필요한 랜선의 개수 N, 가지고 있는 랜선의 개수 K"
      ],
      "metadata": {
        "id": "vyGsi287xlJL"
      },
      "execution_count": null,
      "outputs": []
    }
  ]
}