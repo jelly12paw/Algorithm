{
  "nbformat": 4,
  "nbformat_minor": 0,
  "metadata": {
    "colab": {
      "name": "SWEA_기초_문제_03.ipynb",
      "provenance": [],
      "authorship_tag": "ABX9TyOwGxVTn78LX9hWcRlQj9cD",
      "include_colab_link": true
    },
    "kernelspec": {
      "name": "python3",
      "display_name": "Python 3"
    },
    "language_info": {
      "name": "python"
    }
  },
  "cells": [
    {
      "cell_type": "markdown",
      "metadata": {
        "id": "view-in-github",
        "colab_type": "text"
      },
      "source": [
        "<a href=\"https://colab.research.google.com/github/jelly12paw/Algorithm/blob/main/SWEA/SWEA_%EA%B8%B0%EC%B4%88_%EB%AC%B8%EC%A0%9C_03.ipynb\" target=\"_parent\"><img src=\"https://colab.research.google.com/assets/colab-badge.svg\" alt=\"Open In Colab\"/></a>"
      ]
    },
    {
      "cell_type": "markdown",
      "source": [
        "# SWEA 파이썬 기초 문제 풀이"
      ],
      "metadata": {
        "id": "e24cIL-1Clel"
      }
    },
    {
      "cell_type": "markdown",
      "source": [
        "- 1288, 1989, 1976, 1926"
      ],
      "metadata": {
        "id": "oWgb_6U-Cmzz"
      }
    },
    {
      "cell_type": "code",
      "execution_count": 25,
      "metadata": {
        "colab": {
          "base_uri": "https://localhost:8080/"
        },
        "id": "nE2yErswCdkr",
        "outputId": "243d3bd2-9704-476b-a358-98c1e23345c2"
      },
      "outputs": [
        {
          "output_type": "stream",
          "name": "stdout",
          "text": [
            "5\n",
            "1\n",
            "#1 10\n",
            "2\n",
            "#2 90\n",
            "11\n",
            "#3 110\n",
            "1295\n",
            "#4 6475\n",
            "1692\n",
            "#5 5076\n"
          ]
        }
      ],
      "source": [
        "# 1288\n",
        "# 이전에 셌던 번호들의 각 자리수에서 0에서 9까지의 모든 숫자를 보는 것은 최소 몇 번 양을 센 시점일까?\n",
        "\n",
        "a = int(input())\n",
        "\n",
        "for i in range(1, a + 1) :\n",
        "  num = int(input())\n",
        "  nums = [0] * 10\n",
        "\n",
        "  cnt = 0\n",
        "  while True :\n",
        "    if 0 not in nums :\n",
        "      break\n",
        "\n",
        "    else :\n",
        "      cnt += 1\n",
        "      number = str(num * cnt)\n",
        "\n",
        "      for o in range(len(number)) :\n",
        "        nums[int(number[o])] = 1\n",
        "\n",
        "  print('#{} {}'.format(i, number))\n"
      ]
    },
    {
      "cell_type": "code",
      "source": [
        "# 1989\n",
        "# 단어를 입력 받아 회문이면 1을 출력하고, 아니라면 0을 출력하는 프로그램을 작성하라.\n",
        "\n",
        "a = int(input())\n",
        "\n",
        "for i in range(1, a + 1) :\n",
        "  word = input()\n",
        "\n",
        "  if word == word[ : : -1] :\n",
        "    result = 1\n",
        "\n",
        "  else :\n",
        "    result = 0\n",
        "\n",
        "  print(f'#{i} {result}')"
      ],
      "metadata": {
        "colab": {
          "base_uri": "https://localhost:8080/"
        },
        "id": "Yk4nPs7KDKrU",
        "outputId": "8bb99c96-504d-42ff-b088-ed9e9a84de59"
      },
      "execution_count": 26,
      "outputs": [
        {
          "output_type": "stream",
          "name": "stdout",
          "text": [
            "3\n",
            "level\n",
            "#1 1\n",
            "samsung\n",
            "#2 0\n",
            "eye\n",
            "#3 1\n"
          ]
        }
      ]
    },
    {
      "cell_type": "code",
      "source": [
        "# 1976\n",
        "# 시 분으로 이루어진 시각을 2개 입력 받아, 더한 값을 시 분으로 출력하는 프로그램을 작성하라.\n",
        "\n",
        "a = int(input())\n",
        "\n",
        "for i in range(1, a + 1) :\n",
        "  H, M, h, m = map(int, input().split())\n",
        "  \n",
        "  hour = H + h if H + h < 13 else (H + h) - 12\n",
        "  \n",
        "  if M + m < 60 :\n",
        "    min = M + m\n",
        "\n",
        "  else :\n",
        "    min = (M + m) - 60\n",
        "    hour += 1\n",
        "\n",
        "  print(f'#{i} {hour} {min}')"
      ],
      "metadata": {
        "colab": {
          "base_uri": "https://localhost:8080/"
        },
        "id": "b1AlDpVzDMz8",
        "outputId": "e660022a-d7cc-479a-d5d1-304ebb75fde2"
      },
      "execution_count": 30,
      "outputs": [
        {
          "output_type": "stream",
          "name": "stdout",
          "text": [
            "3\n",
            "3 17 1 39\n",
            "#1 4 56\n",
            "8 22 5 10\n",
            "#2 1 32\n",
            "6 53 2 12 \n",
            "#3 9 5\n"
          ]
        }
      ]
    },
    {
      "cell_type": "code",
      "source": [
        "# 1926\n",
        "# 숫자 1부터 순서대로 차례대로 말하되, “3” “6” “9” 가 들어가 있는 수는 말하지 않는다.\n",
        "\n",
        "tsn = ['3', '6', '9']\n",
        "a = int(input())\n",
        "\n",
        "for i in range(1, a + 1) :\n",
        "  cnt = 0\n",
        "\n",
        "  for o in str(i) :\n",
        "    if o in tsn :\n",
        "      cnt += 1\n",
        "\n",
        "  if cnt != 0 :\n",
        "    i = '-' * cnt\n",
        "\n",
        "  print(i, end=' ')"
      ],
      "metadata": {
        "colab": {
          "base_uri": "https://localhost:8080/"
        },
        "id": "QSv4Beb2DQP6",
        "outputId": "34e753b2-c2d8-4136-fa98-f5db4e7f5844"
      },
      "execution_count": 44,
      "outputs": [
        {
          "output_type": "stream",
          "name": "stdout",
          "text": [
            "133\n",
            "1 2 - 4 5 - 7 8 - 10 11 12 - 14 15 - 17 18 - 20 21 22 - 24 25 - 27 28 - - - - -- - - -- - - -- 40 41 42 - 44 45 - 47 48 - 50 51 52 - 54 55 - 57 58 - - - - -- - - -- - - -- 70 71 72 - 74 75 - 77 78 - 80 81 82 - 84 85 - 87 88 - - - - -- - - -- - - -- 100 101 102 - 104 105 - 107 108 - 110 111 112 - 114 115 - 117 118 - 120 121 122 - 124 125 - 127 128 - - - - -- "
          ]
        }
      ]
    }
  ]
}