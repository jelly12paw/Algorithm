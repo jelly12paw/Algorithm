{
  "nbformat": 4,
  "nbformat_minor": 0,
  "metadata": {
    "colab": {
      "name": "SWEA_기초_문제_04.ipynb",
      "provenance": [],
      "authorship_tag": "ABX9TyN3kMw1OE04xeFb8LGpr9gC",
      "include_colab_link": true
    },
    "kernelspec": {
      "name": "python3",
      "display_name": "Python 3"
    },
    "language_info": {
      "name": "python"
    }
  },
  "cells": [
    {
      "cell_type": "markdown",
      "metadata": {
        "id": "view-in-github",
        "colab_type": "text"
      },
      "source": [
        "<a href=\"https://colab.research.google.com/github/jelly12paw/Algorithm/blob/main/SWEA/SWEA_%EA%B8%B0%EC%B4%88_%EB%AC%B8%EC%A0%9C_04.ipynb\" target=\"_parent\"><img src=\"https://colab.research.google.com/assets/colab-badge.svg\" alt=\"Open In Colab\"/></a>"
      ]
    },
    {
      "cell_type": "markdown",
      "source": [
        "# SWEA 파이썬 D1 문제 풀이"
      ],
      "metadata": {
        "id": "emToqaNLBmFi"
      }
    },
    {
      "cell_type": "code",
      "execution_count": 6,
      "metadata": {
        "colab": {
          "base_uri": "https://localhost:8080/"
        },
        "id": "C78BE0kgBeDz",
        "outputId": "65711bb1-92b9-4bd7-ecb1-68b09d2d4e2d"
      },
      "outputs": [
        {
          "output_type": "stream",
          "name": "stdout",
          "text": [
            "3 2\n",
            "A\n"
          ]
        }
      ],
      "source": [
        "# 1936\n",
        "# 가위는 1, 바위는 2, 보는 3으로 표현되며 A와 B가 무엇을 냈는지 입력으로 주어진다.\n",
        "# A와 B중에 누가 이겼는지 판별해보자. 단, 비기는 경우는 없다.\n",
        "\n",
        "a, b = map(int, input().split())\n",
        "\n",
        "if a < b :\n",
        "  print('B')\n",
        "\n",
        "  if a == 1 and b == 3 :\n",
        "    print('A')\n",
        "\n",
        "else :\n",
        "  print('A')    "
      ]
    },
    {
      "cell_type": "code",
      "source": [
        "# 1938\n",
        "# 1. 두 개의 자연수 a, b는 1부터 9까지의 자연수이다. (1 ≤ a, b ≤ 9)\n",
        "# 2. 사칙연산 + , - , * , / 순서로 연산한 결과를 출력한다.\n",
        "# 3. 나누기 연산의 결과에서 소수점 이하의 숫자는 버린다.\n",
        "\n",
        "import math\n",
        "\n",
        "a, b = map(int, input().split())\n",
        "\n",
        "print(a + b)\n",
        "print(a - b)\n",
        "print(a * b)\n",
        "print(math.trunc(a / b))"
      ],
      "metadata": {
        "colab": {
          "base_uri": "https://localhost:8080/"
        },
        "id": "zRJEl3T4B32I",
        "outputId": "be707df8-adab-4583-b692-70ccb3cfecc7"
      },
      "execution_count": 13,
      "outputs": [
        {
          "output_type": "stream",
          "name": "stdout",
          "text": [
            "8 3\n",
            "11\n",
            "5\n",
            "24\n",
            "2\n"
          ]
        }
      ]
    },
    {
      "cell_type": "code",
      "source": [
        "# 2025\n",
        "# 1부터 주어진 숫자만큼 모두 더한 값을 출력하시오.\n",
        "\n",
        "a = int(input())\n",
        "sum = 0\n",
        "\n",
        "for i in range(a + 1) :\n",
        "  sum += i\n",
        "\n",
        "print(sum)"
      ],
      "metadata": {
        "colab": {
          "base_uri": "https://localhost:8080/"
        },
        "id": "F_LpgLULB7sr",
        "outputId": "3ed943df-22d2-4be9-ca58-dcc9482d84ef"
      },
      "execution_count": 14,
      "outputs": [
        {
          "output_type": "stream",
          "name": "stdout",
          "text": [
            "10\n",
            "55\n"
          ]
        }
      ]
    },
    {
      "cell_type": "code",
      "source": [
        "# 2027\n",
        "# 대각선 출력하기\n",
        "\n",
        "for i in range(5) :\n",
        "  for o in range(5) :\n",
        "    if i == o :\n",
        "      print('#', end='')\n",
        "    \n",
        "    else :\n",
        "      print('+', end='')\n",
        "  \n",
        "  print()"
      ],
      "metadata": {
        "colab": {
          "base_uri": "https://localhost:8080/"
        },
        "id": "RdwnWba0B8-_",
        "outputId": "f7d24050-1722-4284-d26a-6a8570b24393"
      },
      "execution_count": 29,
      "outputs": [
        {
          "output_type": "stream",
          "name": "stdout",
          "text": [
            "#++++\n",
            "+#+++\n",
            "++#++\n",
            "+++#+\n",
            "++++#\n"
          ]
        }
      ]
    },
    {
      "cell_type": "code",
      "source": [
        "# 2043\n",
        "# P와 K가 주어지면 K부터 시작하여 몇 번 만에 P를 맞출 수 있는지 알아보자.\n",
        "\n",
        "p, k = map(int, input().split())\n",
        "\n",
        "cnt = 0\n",
        "\n",
        "while True :\n",
        "\n",
        "  if k != p :\n",
        "    cnt += 1\n",
        "    k += 1\n",
        "\n",
        "  else :\n",
        "    print(cnt + 1)\n",
        "    break"
      ],
      "metadata": {
        "colab": {
          "base_uri": "https://localhost:8080/"
        },
        "id": "168TYokCB-Tp",
        "outputId": "e1bfba06-4702-46a2-840c-f21bbc839c08"
      },
      "execution_count": 36,
      "outputs": [
        {
          "output_type": "stream",
          "name": "stdout",
          "text": [
            "123 100\n",
            "24\n"
          ]
        }
      ]
    },
    {
      "cell_type": "code",
      "source": [
        "# 2046\n",
        "# 주어진 숫자만큼 # 을 출력해보세요.\n",
        "\n",
        "a = int(input())\n",
        "\n",
        "print(a * '#')"
      ],
      "metadata": {
        "colab": {
          "base_uri": "https://localhost:8080/"
        },
        "id": "aSqulOqHCAbh",
        "outputId": "077f69e0-3247-4238-b6ee-c057b0aa8de0"
      },
      "execution_count": 44,
      "outputs": [
        {
          "output_type": "stream",
          "name": "stdout",
          "text": [
            "3\n",
            "###\n"
          ]
        }
      ]
    },
    {
      "cell_type": "code",
      "source": [
        "# 2047\n",
        "# 입력으로 주어진 문장에 모든 소문자 알파벳을 찾아 대문자로 변환한 다음, 그 결과를 출력하는 프로그램을 작성하라.\n",
        "\n",
        "a = input().upper()\n",
        "\n",
        "print(a)"
      ],
      "metadata": {
        "colab": {
          "base_uri": "https://localhost:8080/"
        },
        "id": "N69l4VdVJ6ai",
        "outputId": "f8a42d6f-ec92-4281-abe8-4aa4eda9662e"
      },
      "execution_count": 46,
      "outputs": [
        {
          "output_type": "stream",
          "name": "stdout",
          "text": [
            "The_headline_is_the_text_indicating_the_nature_of_the_article_below_it.\n",
            "THE_HEADLINE_IS_THE_TEXT_INDICATING_THE_NATURE_OF_THE_ARTICLE_BELOW_IT.\n"
          ]
        }
      ]
    },
    {
      "cell_type": "code",
      "source": [
        "# 2056\n",
        "# 해당 날짜의 유효성을 판단한 후, 날짜가 유효하다면 \"YYYY/MM/DD”형식으로 출력하고,\n",
        "# 날짜가 유효하지 않을 경우, -1 을 출력하는 프로그램을 작성하라.\n",
        "# 채점 상 오답 코드\n",
        "\n",
        "ymd = {1 : 31, 2 : 28, 3 : 31, 4 : 40, 5 : 31, 6 : 30,\n",
        "       7 : 31, 8 : 31, 9 : 30, 10 : 31, 11 : 30, 12 : 31}\n",
        "a = int(input())\n",
        "\n",
        "for i in range(a) :\n",
        "  date = input()\n",
        "\n",
        "  year = int(date[: 4])\n",
        "  month = int(date[4 : 6])\n",
        "  day = int(date[6: ])\n",
        "\n",
        "  if month >= 13 or month <= 0 :\n",
        "    print(f'#{i + 1} {-1}')\n",
        "\n",
        "  elif day > ymd[month] or day <= 0 :\n",
        "    print(f'#{i + 1} {-1}')\n",
        "  \n",
        "  else :\n",
        "    print(f'#{i + 1} {year}/{month}/{day}')"
      ],
      "metadata": {
        "colab": {
          "base_uri": "https://localhost:8080/"
        },
        "id": "kplBLxrJJ86R",
        "outputId": "bf835917-65ab-4a34-ba2f-cefcfefdff7e"
      },
      "execution_count": 55,
      "outputs": [
        {
          "output_type": "stream",
          "name": "stdout",
          "text": [
            "5\n",
            "22220228\n",
            "#1 2222/2/28\n",
            "20150002\n",
            "#2 -1\n",
            "01010101\n",
            "#3 101/1/1\n",
            "20140230\n",
            "#4 -1\n",
            "11111111\n",
            "#5 1111/11/11\n"
          ]
        }
      ]
    },
    {
      "cell_type": "code",
      "source": [
        "# 2056\n",
        "# 채점 상 정답 코드\n",
        "\n",
        "md = [31, 28, 31, 30, 31, 30, 31, 31, 30, 31, 30, 31]\n",
        "\n",
        "T = int(input())\n",
        "\n",
        "for tt in range(T):\n",
        "    s = input()\n",
        "    month = int(s[4:6])\n",
        "    day = int(s[6:8])\n",
        "    res = \"-1\"\n",
        "\n",
        "    if 1 <= month and month <= 12 and 1 <= day and day <= md[month - 1]:\n",
        "    \tres = s[0:4]+\"/\"+s[4:6]+\"/\"+s[6:8]\n",
        "      \n",
        "    print( f\"#{tt+1} {res}\" )"
      ],
      "metadata": {
        "colab": {
          "base_uri": "https://localhost:8080/"
        },
        "id": "9qGEsFBARdgu",
        "outputId": "2b092102-5cc7-419a-8ab6-fde35fa03da1"
      },
      "execution_count": 56,
      "outputs": [
        {
          "output_type": "stream",
          "name": "stdout",
          "text": [
            "5\n",
            "22220228\n",
            "#1 2222/02/28\n",
            "20150002\n",
            "#2 -1\n",
            "01010101\n",
            "#3 0101/01/01\n",
            "20140230\n",
            "#4 -1\n",
            "11111111\n",
            "#5 1111/11/11\n"
          ]
        }
      ]
    },
    {
      "cell_type": "code",
      "source": [
        "# 2058\n",
        "# 하나의 자연수를 입력 받아 각 자릿수의 합을 계산하는 프로그램을 작성하라.\n",
        "\n",
        "a = input()\n",
        "sum = 0\n",
        "\n",
        "for i in a :\n",
        "  sum += int(i)\n",
        "\n",
        "print(sum)"
      ],
      "metadata": {
        "colab": {
          "base_uri": "https://localhost:8080/"
        },
        "id": "fD2mvk1eJ-X_",
        "outputId": "808ed245-09a7-4d0e-a355-2530be849e38"
      },
      "execution_count": 58,
      "outputs": [
        {
          "output_type": "stream",
          "name": "stdout",
          "text": [
            "6789\n",
            "30\n"
          ]
        }
      ]
    },
    {
      "cell_type": "code",
      "source": [
        "# 2063\n",
        "# 입력으로 N 개의 점수가 주어졌을 때, 중간값을 출력하라.\n",
        "\n",
        "a = int(input())\n",
        "mid = list(map(int, input().split()))\n",
        "\n",
        "mid.sort()\n",
        "mid_idx = a // 2\n",
        "\n",
        "print(mid[mid_idx])"
      ],
      "metadata": {
        "colab": {
          "base_uri": "https://localhost:8080/"
        },
        "id": "2i7mAjq3J_yo",
        "outputId": "a704bac9-f912-4c86-cf18-2599bbed9ea6"
      },
      "execution_count": 60,
      "outputs": [
        {
          "output_type": "stream",
          "name": "stdout",
          "text": [
            "199\n",
            "85 72 38 80 69 65 68 96 22 49 67 51 61 63 87 66 24 80 83 71 60 64 52 90 60 49 31 23 99 94 11 25 24 51 15 13 39 67 97 19 76 12 33 99 18 92 35 74 0 95 71 39 33 39 32 37 45 57 71 95 5 71 24 86 8 51 54 74 24 75 70 33 63 29 99 59 94 52 13 35 99 46 57 71 23 17 3 94 48 77 18 83 11 83 25 59 62 2 78 86 7 94 65 80 32 39 84 60 65 72 61 58 84 8 72 12 19 47 49 49 59 71 52 34 22 21 20 92 33 80 39 74 9 28 97 100 93 29 25 4 66 79 81 98 21 91 62 82 4 59 100 34 1 51 80 92 69 77 39 38 97 51 34 35 19 22 1 67 9 90 31 82 11 51 84 78 70 74 42 100 88 53 80 57 62 32 51 48 63 92 46 4 61 31 98 69 52 88 20\n",
            "58\n"
          ]
        }
      ]
    },
    {
      "cell_type": "code",
      "source": [
        "# 2068\n",
        "# 10개의 수를 입력 받아, 그 중에서 가장 큰 수를 출력하는 프로그램을 작성하라.\n",
        "\n",
        "a = int(input())\n",
        "\n",
        "for i in range(a) :\n",
        "\n",
        "  num = list(map(int, input().split()))\n",
        "\n",
        "  print(f'#{i + 1} {max(num)}')"
      ],
      "metadata": {
        "colab": {
          "base_uri": "https://localhost:8080/"
        },
        "id": "sfywbjinKDfd",
        "outputId": "f3addddd-b2fb-42d4-a25d-2e06c6c2d3b0"
      },
      "execution_count": 62,
      "outputs": [
        {
          "output_type": "stream",
          "name": "stdout",
          "text": [
            "3\n",
            "3 17 1 39 8 41 2 32 99 2\n",
            "#1 99\n",
            "22 8 5 123 7 2 63 7 3 46\n",
            "#2 123\n",
            "6 63 2 3 58 76 21 33 8 1 \n",
            "#3 76\n"
          ]
        }
      ]
    },
    {
      "cell_type": "code",
      "source": [
        "# 2072\n",
        "# 10개의 수를 입력 받아, 그 중에서 홀수만 더한 값을 출력하는 프로그램을 작성하라.\n",
        "\n",
        "a = int(input())\n",
        "\n",
        "for i in range(a) :\n",
        "\n",
        "  num = list(map(int, input().split()))\n",
        "  sum = 0\n",
        "\n",
        "  for o in num :\n",
        "    if o % 2 == 1 :\n",
        "      sum += o\n",
        "\n",
        "  print(f'#{i + 1} {sum}')"
      ],
      "metadata": {
        "colab": {
          "base_uri": "https://localhost:8080/"
        },
        "id": "dqRaeKl3KHU7",
        "outputId": "3470ef66-514d-4ff3-fe0a-5cbb79633a87"
      },
      "execution_count": 68,
      "outputs": [
        {
          "output_type": "stream",
          "name": "stdout",
          "text": [
            "3\n",
            "3 17 1 39 8 41 2 32 99 2\n",
            "#1 200\n",
            "22 8 5 123 7 2 63 7 3 46\n",
            "#2 208\n",
            "6 63 2 3 58 76 21 33 8 1\n",
            "#3 121\n"
          ]
        }
      ]
    }
  ]
}