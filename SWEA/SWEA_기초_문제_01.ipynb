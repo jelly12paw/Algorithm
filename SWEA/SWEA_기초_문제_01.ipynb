{
  "nbformat": 4,
  "nbformat_minor": 0,
  "metadata": {
    "colab": {
      "name": "SWEA 기초 문제.ipynb",
      "provenance": [],
      "authorship_tag": "ABX9TyPbnD5fUiwRz+r0Bx7Qbc57",
      "include_colab_link": true
    },
    "kernelspec": {
      "name": "python3",
      "display_name": "Python 3"
    },
    "language_info": {
      "name": "python"
    }
  },
  "cells": [
    {
      "cell_type": "markdown",
      "metadata": {
        "id": "view-in-github",
        "colab_type": "text"
      },
      "source": [
        "<a href=\"https://colab.research.google.com/github/jelly12paw/Algorithm/blob/main/SWEA/SWEA_%EA%B8%B0%EC%B4%88_%EB%AC%B8%EC%A0%9C_01.ipynb\" target=\"_parent\"><img src=\"https://colab.research.google.com/assets/colab-badge.svg\" alt=\"Open In Colab\"/></a>"
      ]
    },
    {
      "cell_type": "markdown",
      "source": [
        "# SWEA 파이썬 기초 문제 풀이"
      ],
      "metadata": {
        "id": "GYx2SI0pvI4y"
      }
    },
    {
      "cell_type": "markdown",
      "source": [
        "- 2029, 1545, 2071, 2070"
      ],
      "metadata": {
        "id": "LjDTrzzjvPV0"
      }
    },
    {
      "cell_type": "code",
      "execution_count": 6,
      "metadata": {
        "colab": {
          "base_uri": "https://localhost:8080/"
        },
        "id": "bNBtQwcZu-hz",
        "outputId": "bd2e43d4-ab2b-43c8-fde3-231df9c14698"
      },
      "outputs": [
        {
          "output_type": "stream",
          "name": "stdout",
          "text": [
            "3\n",
            "9 2\n",
            "#1 4 1\n",
            "15 6\n",
            "#2 2 3\n",
            "369 15\n",
            "#3 24 9\n"
          ]
        }
      ],
      "source": [
        "# 2029\n",
        "# 2개의 수 a, b를 입력 받아, a를 b로 나눈 몫과 나머지를 출력하는 프로그램을 작성하라.\n",
        "\n",
        "num = int(input())\n",
        "\n",
        "for i in range(1, num + 1) :\n",
        "\n",
        "  a, b = map(int, input().split())\n",
        "  c, d = a // b, a % b\n",
        "\n",
        "  print('#{} {} {}'.format(i, c, d))"
      ]
    },
    {
      "cell_type": "code",
      "source": [
        "# 1545\n",
        "# 입력된 숫자가 N일 때 거꾸로 출력하기\n",
        "\n",
        "num = int(input())\n",
        "\n",
        "for i in range(num, -1, -1) :\n",
        "\n",
        "    print(i, end=' ')"
      ],
      "metadata": {
        "colab": {
          "base_uri": "https://localhost:8080/"
        },
        "id": "7PzIZORVwaI7",
        "outputId": "30322e33-edb9-41bf-cd46-65d1ff218ff2"
      },
      "execution_count": 26,
      "outputs": [
        {
          "output_type": "stream",
          "name": "stdout",
          "text": [
            "8\n",
            "8 7 6 5 4 3 2 1 0 "
          ]
        }
      ]
    },
    {
      "cell_type": "code",
      "source": [
        "# 2071\n",
        "# 10개의 수를 입력 받아, 평균값을 출력하는 프로그램을 작성하라.\n",
        "\n",
        "num = int(input())\n",
        "\n",
        "for z in range(num) :\n",
        "\n",
        "  a, b, c, d, e, f, g, h, i, j = map(int, input().split())\n",
        "\n",
        "  sum_num = a + b + c + d + e + f + g + h + i + j\n",
        "  mean_num = round(sum_num / 10)\n",
        "\n",
        "  print('#{} {}'.format(z + 1, mean_num))"
      ],
      "metadata": {
        "colab": {
          "base_uri": "https://localhost:8080/"
        },
        "id": "F72dURZkzVJG",
        "outputId": "24002dd0-7c0d-401a-e305-29902cd639fd"
      },
      "execution_count": 35,
      "outputs": [
        {
          "output_type": "stream",
          "name": "stdout",
          "text": [
            "3\n",
            "3 17 1 39 8 41 2 32 99 2\n",
            "#1 24\n",
            "22 8 5 123 7 2 63 7 3 46\n",
            "#2 29\n",
            "6 63 2 3 58 76 21 33 8 1 \n",
            "#3 27\n"
          ]
        }
      ]
    },
    {
      "cell_type": "code",
      "source": [
        "# 2070\n",
        "# 2개의 수를 입력 받아 크기를 비교하여 등호 또는 부등호를 출력하는 프로그램을 작성하라.\n",
        "\n",
        "num = int(input())\n",
        "\n",
        "for i in range(num) :\n",
        "\n",
        "  a, b = map(int, input().split())\n",
        "\n",
        "  if a > b :\n",
        "    print('#{} {}'.format(i + 1, '>'))\n",
        "\n",
        "  elif a == b :\n",
        "    print('#{} {}'.format(i + 1, '='))\n",
        "\n",
        "  else :\n",
        "    print('#{} {}'.format(i + 1, '<'))"
      ],
      "metadata": {
        "colab": {
          "base_uri": "https://localhost:8080/"
        },
        "id": "e-b8mGlmzXBW",
        "outputId": "371e09d4-c80a-4f06-b937-5ea567292dc8"
      },
      "execution_count": 37,
      "outputs": [
        {
          "output_type": "stream",
          "name": "stdout",
          "text": [
            "3\n",
            "3 8\n",
            "#1 <\n",
            "7 7\n",
            "#2 =\n",
            "369 123\n",
            "#3 >\n"
          ]
        }
      ]
    }
  ]
}