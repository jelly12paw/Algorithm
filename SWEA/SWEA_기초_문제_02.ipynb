{
  "nbformat": 4,
  "nbformat_minor": 0,
  "metadata": {
    "colab": {
      "name": "SWEA_기초_문제_02.ipynb",
      "provenance": [],
      "authorship_tag": "ABX9TyPxszsdVLxbYTKs/wMPVZ8U",
      "include_colab_link": true
    },
    "kernelspec": {
      "name": "python3",
      "display_name": "Python 3"
    },
    "language_info": {
      "name": "python"
    }
  },
  "cells": [
    {
      "cell_type": "markdown",
      "metadata": {
        "id": "view-in-github",
        "colab_type": "text"
      },
      "source": [
        "<a href=\"https://colab.research.google.com/github/jelly12paw/Algorithm/blob/main/SWEA/SWEA_%EA%B8%B0%EC%B4%88_%EB%AC%B8%EC%A0%9C_02.ipynb\" target=\"_parent\"><img src=\"https://colab.research.google.com/assets/colab-badge.svg\" alt=\"Open In Colab\"/></a>"
      ]
    },
    {
      "cell_type": "markdown",
      "source": [
        "# SWEA 파이썬 기초 문제 풀이"
      ],
      "metadata": {
        "id": "UMatMQk-068Z"
      }
    },
    {
      "cell_type": "markdown",
      "source": [
        "- 1933, 2019, 2050, 1986, 1284"
      ],
      "metadata": {
        "id": "Bz9GsViP08QX"
      }
    },
    {
      "cell_type": "code",
      "execution_count": null,
      "metadata": {
        "colab": {
          "base_uri": "https://localhost:8080/"
        },
        "id": "14d5Mfg000zw",
        "outputId": "f2c7f8d7-82d7-48d8-9a91-703dcca0b93c"
      },
      "outputs": [
        {
          "output_type": "stream",
          "name": "stdout",
          "text": [
            "10\n",
            "1 2 5 10 "
          ]
        }
      ],
      "source": [
        "# 1933\n",
        "# 정수 N 의 약수를 오름차순으로 출력하는 프로그램을 작성하라.\n",
        "\n",
        "a = int(input())\n",
        "\n",
        "for i in range(1, a + 1) :\n",
        "  if a % i == 0 :\n",
        "    print(i, end=' ')"
      ]
    },
    {
      "cell_type": "code",
      "source": [
        "# 2019\n",
        "# 1부터 주어진 횟수까지 2를 곱한 값(들)을 출력하시오.\n",
        "\n",
        "a = int(input())\n",
        "\n",
        "for i in range(0, a + 1) :\n",
        "\n",
        "  print(2 ** i, end=' ')"
      ],
      "metadata": {
        "colab": {
          "base_uri": "https://localhost:8080/"
        },
        "id": "XhvE5Hwa1HxH",
        "outputId": "21d4784a-25bb-4ed0-9725-fcb19938d43d"
      },
      "execution_count": null,
      "outputs": [
        {
          "output_type": "stream",
          "name": "stdout",
          "text": [
            "8\n",
            "1 2 4 8 16 32 64 128 256 "
          ]
        }
      ]
    },
    {
      "cell_type": "code",
      "source": [
        "# 2050\n",
        "# 알파벳으로 이루어진 문자열을 입력 받아 각 알파벳을 1부터 26까지의 숫자로 변환하여 출력하라.\n",
        "\n",
        "alpha = input()\n",
        "\n",
        "for i in alpha :\n",
        "  cap = ord(i) - 64\n",
        "  \n",
        "  print(cap, end=' ')"
      ],
      "metadata": {
        "colab": {
          "base_uri": "https://localhost:8080/"
        },
        "id": "0mb42cku1KA8",
        "outputId": "956a566d-a37b-46a9-e2bc-13848a4b1dcc"
      },
      "execution_count": null,
      "outputs": [
        {
          "output_type": "stream",
          "name": "stdout",
          "text": [
            "ABCDEFGHIJKLMNOPQRSTUVWXYZ\n",
            "1 2 3 4 5 6 7 8 9 10 11 12 13 14 15 16 17 18 19 20 21 22 23 24 25 26 "
          ]
        }
      ]
    },
    {
      "cell_type": "code",
      "source": [
        "# 1986\n",
        "# 1부터 N까지의 숫자에서 홀수는 더하고 짝수는 뺐을 때 최종 누적된 값을 구해보자.\n",
        "\n",
        "a = int(input())\n",
        "\n",
        "for i in range(1, a + 1) :\n",
        "  sum_n = 0\n",
        "  num = int(input())\n",
        "  \n",
        "  for o in range(1, num + 1) :\n",
        "    if o % 2 == 0 :\n",
        "      o = -o\n",
        "      sum_n += o\n",
        "\n",
        "    else :\n",
        "      sum_n += o\n",
        "\n",
        "  print('#{} {}'.format(i, sum_n))"
      ],
      "metadata": {
        "colab": {
          "base_uri": "https://localhost:8080/"
        },
        "id": "MdBrKUjO1MD9",
        "outputId": "60d1aa0e-4afa-45bd-de0f-48d7f4af9d37"
      },
      "execution_count": null,
      "outputs": [
        {
          "output_type": "stream",
          "name": "stdout",
          "text": [
            "2\n",
            "5\n",
            "#1 3\n",
            "6\n",
            "#2 -3\n"
          ]
        }
      ]
    },
    {
      "cell_type": "code",
      "source": [
        "# 1284\n",
        "# A사 : 1리터당 P원의 돈을 내야 한다.\n",
        "# B사 : 기본 요금이 Q원이고, 월간 사용량이 R리터 이하인 경우 요금은 기본 요금만 청구된다. \n",
        "# 하지만 R 리터보다 많은 양을 사용한 경우 초과량에 대해 1리터당 S원의 요금을 더 내야 한다.\n",
        "# 한 달간 사용하는 수도의 양이 W리터라고 할 때, 요금이 더 저렴한 회사를 골라 그 요금을 출력하는 프로그램을 작성하라.\n",
        "\n",
        "a = int(input())\n",
        "\n",
        "for i in range(1, a + 1) :\n",
        "  P, Q, R, S, W = map(int, input().split())\n",
        "  A = P * W\n",
        "\n",
        "  if W < R :\n",
        "    B = Q\n",
        "\n",
        "  else :\n",
        "    B = Q + ((W - R) * S)\n",
        "\n",
        "  if A > B :\n",
        "    print('#{} {}'.format(i, B))\n",
        "\n",
        "  else :\n",
        "    print('#{} {}'.format(i, A))"
      ],
      "metadata": {
        "colab": {
          "base_uri": "https://localhost:8080/"
        },
        "id": "CEKpzdyL1Nt_",
        "outputId": "ece7561f-c9ab-47cd-f0b2-e9ccfd833e07"
      },
      "execution_count": null,
      "outputs": [
        {
          "output_type": "stream",
          "name": "stdout",
          "text": [
            "2\n",
            "9 100 20 3 10\n",
            "#1 90\n",
            "8 300 100 10 250\n",
            "#2 1800\n"
          ]
        }
      ]
    },
    {
      "cell_type": "markdown",
      "source": [
        "### 정답 풀이"
      ],
      "metadata": {
        "id": "5jXPToWEvEzv"
      }
    },
    {
      "cell_type": "code",
      "source": [
        "# 1284\n",
        "\n",
        "T = int(input())\n",
        "for test_case in range(1, T + 1) :\n",
        "  P, Q, R, S, W = map(int, input().split())\n",
        "\n",
        "  A = W * P\n",
        "  \n",
        "  if R > W :\n",
        "    B = Q\n",
        "  else :\n",
        "    B = Q + S * (W - R)\n",
        "  \n",
        "  print(f'#{test_case} {min(A, B)}')"
      ],
      "metadata": {
        "colab": {
          "base_uri": "https://localhost:8080/"
        },
        "id": "cJa7dGtKvGoj",
        "outputId": "7aec73a1-9177-4db4-a216-26128ed2df46"
      },
      "execution_count": 1,
      "outputs": [
        {
          "output_type": "stream",
          "name": "stdout",
          "text": [
            "2\n",
            "9 100 20 3 10\n",
            "#1 90\n",
            "8 300 100 10 250\n",
            "#2 1800\n"
          ]
        }
      ]
    }
  ]
}